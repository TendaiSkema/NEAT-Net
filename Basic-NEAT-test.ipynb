{
 "cells": [
  {
   "cell_type": "code",
   "execution_count": 1,
   "metadata": {},
   "outputs": [],
   "source": [
    "from layerd_neat import *"
   ]
  },
  {
   "cell_type": "code",
   "execution_count": 2,
   "metadata": {},
   "outputs": [
    {
     "name": "stdout",
     "output_type": "stream",
     "text": [
      "Inputs (first 5):\n",
      "[[5.1 3.5 1.4 0.2]\n",
      " [4.9 3.  1.4 0.2]\n",
      " [4.7 3.2 1.3 0.2]\n",
      " [4.6 3.1 1.5 0.2]\n",
      " [5.  3.6 1.4 0.2]]\n",
      "Outputs (first 5):\n",
      "[[1. 0. 0.]\n",
      " [1. 0. 0.]\n",
      " [1. 0. 0.]\n",
      " [1. 0. 0.]\n",
      " [1. 0. 0.]]\n",
      "Example formatted input:\n",
      "[[5.1, 3.5, 1.4, 0.2], [4.9, 3.0, 1.4, 0.2], [4.7, 3.2, 1.3, 0.2], [4.6, 3.1, 1.5, 0.2], [5.0, 3.6, 1.4, 0.2]]\n",
      "Example formatted output:\n",
      "[[1.0, 0.0, 0.0], [1.0, 0.0, 0.0], [1.0, 0.0, 0.0], [1.0, 0.0, 0.0], [1.0, 0.0, 0.0]]\n"
     ]
    }
   ],
   "source": [
    "from sklearn.datasets import load_iris\n",
    "from sklearn.preprocessing import OneHotEncoder\n",
    "import numpy as np\n",
    "\n",
    "# Load the Iris dataset\n",
    "iris = load_iris()\n",
    "X = iris.data  # Features (4 inputs: sepal length, sepal width, petal length, petal width)\n",
    "y = iris.target.reshape(-1, 1)  # Target (3 classes: 0, 1, 2)\n",
    "\n",
    "# Convert the target labels to one-hot encoded format\n",
    "encoder = OneHotEncoder(sparse_output=False)  # Ensure the output is dense\n",
    "y_encoded = encoder.fit_transform(y)\n",
    "\n",
    "# Display the first few entries of the dataset\n",
    "print(\"Inputs (first 5):\")\n",
    "print(X[:5])\n",
    "print(\"Outputs (first 5):\")\n",
    "print(y_encoded[:5])\n",
    "\n",
    "# Convert to the format you've been using (list of lists)\n",
    "inputs = X.tolist()\n",
    "outputs = y_encoded.tolist()\n",
    "\n",
    "# Example of how the inputs and outputs would look like\n",
    "print(\"Example formatted input:\")\n",
    "print(inputs[:5])\n",
    "print(\"Example formatted output:\")\n",
    "print(outputs[:5])\n"
   ]
  },
  {
   "cell_type": "code",
   "execution_count": 3,
   "metadata": {},
   "outputs": [],
   "source": [
    "def run_generation(neat, inputs, outputs):\n",
    "    evaluations = neat.evaluate_population(inputs, outputs, 100, 0.01)\n",
    "    participants_id, remaining_id = neat.select_participants(evaluations)\n",
    "\n",
    "    best = None\n",
    "    best_id = participants_id[0][0]\n",
    "    best_score = participants_id[0][1]\n",
    "    best_losses = participants_id[0][2]\n",
    "\n",
    "    for p in neat.population:\n",
    "        if p.id == best_id:\n",
    "            best = [p, best_score, best_losses]\n",
    "            break\n",
    "\n",
    "    print(\"Best of generation: \", best_id, best_score)\n",
    "    plot_dag(best[0])\n",
    "\n",
    "    neat.population = neat.evolve(participants_id, remaining_id)\n",
    "    \"\"\" for dag in neat.population:\n",
    "        print('-'*150)\n",
    "        print(\"id\", dag.id)\n",
    "        plot_dag(dag)\n",
    "        print(dag) \"\"\""
   ]
  },
  {
   "cell_type": "code",
   "execution_count": 4,
   "metadata": {},
   "outputs": [],
   "source": [
    "#run_generation(neat, inputs, outputs)"
   ]
  },
  {
   "cell_type": "code",
   "execution_count": 5,
   "metadata": {},
   "outputs": [],
   "source": [
    "neat = NEAT(len(inputs[0]), len(outputs[0]), population_size=4, with_fully_connect=True, error_function=MSE(), output_activation=Sigmoid())"
   ]
  },
  {
   "cell_type": "code",
   "execution_count": 6,
   "metadata": {},
   "outputs": [
    {
     "name": "stderr",
     "output_type": "stream",
     "text": [
      "100%|██████████| 4/4 [00:00<00:00, 4006.02it/s]\n"
     ]
    },
    {
     "name": "stdout",
     "output_type": "stream",
     "text": [
      "------------------------------------------------------------------------------------------------------------------------------------------------------\n",
      "Generation 1/20\n"
     ]
    },
    {
     "name": "stderr",
     "output_type": "stream",
     "text": [
      "evaluating DAG's: 100%|██████████| 4/4 [00:00<00:00,  5.72it/s]\n"
     ]
    },
    {
     "name": "stdout",
     "output_type": "stream",
     "text": [
      "Best of generation:  3 Best Score: 0.023858706527859583\n",
      "------------------------------------------------------------------------------------------------------------------------------------------------------\n",
      "Generation 2/20\n"
     ]
    },
    {
     "name": "stderr",
     "output_type": "stream",
     "text": [
      "evaluating DAG's: 100%|██████████| 4/4 [00:00<00:00,  5.68it/s]\n"
     ]
    },
    {
     "name": "stdout",
     "output_type": "stream",
     "text": [
      "Best of generation:  3 Best Score: 0.7445307355612328\n",
      "------------------------------------------------------------------------------------------------------------------------------------------------------\n",
      "Generation 3/20\n"
     ]
    },
    {
     "name": "stderr",
     "output_type": "stream",
     "text": [
      "evaluating DAG's: 100%|██████████| 4/4 [00:00<00:00,  5.27it/s]\n"
     ]
    },
    {
     "name": "stdout",
     "output_type": "stream",
     "text": [
      "Best of generation:  0-2-1 Best Score: 0.031315890637785976\n",
      "------------------------------------------------------------------------------------------------------------------------------------------------------\n",
      "Generation 4/20\n"
     ]
    },
    {
     "name": "stderr",
     "output_type": "stream",
     "text": [
      "evaluating DAG's: 100%|██████████| 4/4 [00:00<00:00,  5.20it/s]\n"
     ]
    },
    {
     "name": "stdout",
     "output_type": "stream",
     "text": [
      "Best of generation:  3-2 Best Score: 0.03341108207304094\n",
      "------------------------------------------------------------------------------------------------------------------------------------------------------\n",
      "Generation 5/20\n"
     ]
    },
    {
     "name": "stderr",
     "output_type": "stream",
     "text": [
      "evaluating DAG's: 100%|██████████| 4/4 [00:00<00:00,  5.02it/s]\n"
     ]
    },
    {
     "name": "stdout",
     "output_type": "stream",
     "text": [
      "Best of generation:  3-2 Best Score: 0.03319334675162056\n",
      "------------------------------------------------------------------------------------------------------------------------------------------------------\n",
      "Generation 6/20\n"
     ]
    },
    {
     "name": "stderr",
     "output_type": "stream",
     "text": [
      "evaluating DAG's: 100%|██████████| 4/4 [00:00<00:00,  4.88it/s]\n"
     ]
    },
    {
     "name": "stdout",
     "output_type": "stream",
     "text": [
      "Best of generation:  3-0-0-1 Best Score: 0.021980259471310257\n",
      "------------------------------------------------------------------------------------------------------------------------------------------------------\n",
      "Generation 7/20\n"
     ]
    },
    {
     "name": "stderr",
     "output_type": "stream",
     "text": [
      "evaluating DAG's: 100%|██████████| 4/4 [00:00<00:00,  4.38it/s]\n"
     ]
    },
    {
     "name": "stdout",
     "output_type": "stream",
     "text": [
      "Best of generation:  3-0-0-2-2 Best Score: 0.7381362353281613\n",
      "------------------------------------------------------------------------------------------------------------------------------------------------------\n",
      "Generation 8/20\n"
     ]
    },
    {
     "name": "stderr",
     "output_type": "stream",
     "text": [
      "evaluating DAG's: 100%|██████████| 4/4 [00:00<00:00,  4.24it/s]\n"
     ]
    },
    {
     "name": "stdout",
     "output_type": "stream",
     "text": [
      "Best of generation:  3-0-0-2-0-0 Best Score: 0.7422056891962203\n",
      "------------------------------------------------------------------------------------------------------------------------------------------------------\n",
      "Generation 9/20\n"
     ]
    },
    {
     "name": "stderr",
     "output_type": "stream",
     "text": [
      "evaluating DAG's: 100%|██████████| 4/4 [00:00<00:00,  4.14it/s]\n"
     ]
    },
    {
     "name": "stdout",
     "output_type": "stream",
     "text": [
      "Best of generation:  3-0-0-2-0-2-2 Best Score: 0.7424917462588744\n",
      "------------------------------------------------------------------------------------------------------------------------------------------------------\n",
      "Generation 10/20\n"
     ]
    },
    {
     "name": "stderr",
     "output_type": "stream",
     "text": [
      "evaluating DAG's: 100%|██████████| 4/4 [00:01<00:00,  3.81it/s]\n"
     ]
    },
    {
     "name": "stdout",
     "output_type": "stream",
     "text": [
      "Best of generation:  3-0-0-2-0-2-0-0 Best Score: 0.7343059381527158\n",
      "------------------------------------------------------------------------------------------------------------------------------------------------------\n",
      "Generation 11/20\n"
     ]
    },
    {
     "name": "stderr",
     "output_type": "stream",
     "text": [
      "evaluating DAG's: 100%|██████████| 4/4 [00:01<00:00,  3.96it/s]\n"
     ]
    },
    {
     "name": "stdout",
     "output_type": "stream",
     "text": [
      "Best of generation:  3-0-0-2-0-2-0-0 Best Score: 1.0920620846076399\n",
      "------------------------------------------------------------------------------------------------------------------------------------------------------\n",
      "Generation 12/20\n"
     ]
    },
    {
     "name": "stderr",
     "output_type": "stream",
     "text": [
      "evaluating DAG's: 100%|██████████| 4/4 [00:01<00:00,  3.86it/s]\n"
     ]
    },
    {
     "name": "stdout",
     "output_type": "stream",
     "text": [
      "Best of generation:  3-0-0-2-0-2-2-1-0 Best Score: 0.7423276897376301\n",
      "------------------------------------------------------------------------------------------------------------------------------------------------------\n",
      "Generation 13/20\n"
     ]
    },
    {
     "name": "stderr",
     "output_type": "stream",
     "text": [
      "evaluating DAG's: 100%|██████████| 4/4 [00:01<00:00,  3.94it/s]\n"
     ]
    },
    {
     "name": "stdout",
     "output_type": "stream",
     "text": [
      "Best of generation:  3-0-0-2-0-2-2-1-0 Best Score: 1.7422383515424398\n",
      "------------------------------------------------------------------------------------------------------------------------------------------------------\n",
      "Generation 14/20\n"
     ]
    },
    {
     "name": "stderr",
     "output_type": "stream",
     "text": [
      "evaluating DAG's: 100%|██████████| 4/4 [00:01<00:00,  3.84it/s]\n"
     ]
    },
    {
     "name": "stdout",
     "output_type": "stream",
     "text": [
      "Best of generation:  3-0-0-2-0-2-2-1-0 Best Score: 1.7422383515424398\n",
      "------------------------------------------------------------------------------------------------------------------------------------------------------\n",
      "Generation 15/20\n"
     ]
    },
    {
     "name": "stderr",
     "output_type": "stream",
     "text": [
      "evaluating DAG's: 100%|██████████| 4/4 [00:01<00:00,  2.85it/s]\n"
     ]
    },
    {
     "name": "stdout",
     "output_type": "stream",
     "text": [
      "Best of generation:  3-0-0-2-0-2-2-1-0 Best Score: 1.7422383515424398\n",
      "------------------------------------------------------------------------------------------------------------------------------------------------------\n",
      "Generation 16/20\n"
     ]
    },
    {
     "name": "stderr",
     "output_type": "stream",
     "text": [
      "evaluating DAG's: 100%|██████████| 4/4 [00:01<00:00,  3.37it/s]\n"
     ]
    },
    {
     "name": "stdout",
     "output_type": "stream",
     "text": [
      "Best of generation:  3-0-0-2-0-2-2-1-0 Best Score: 1.7422383515424398\n",
      "------------------------------------------------------------------------------------------------------------------------------------------------------\n",
      "Generation 17/20\n"
     ]
    },
    {
     "name": "stderr",
     "output_type": "stream",
     "text": [
      "evaluating DAG's: 100%|██████████| 4/4 [00:01<00:00,  3.36it/s]\n"
     ]
    },
    {
     "name": "stdout",
     "output_type": "stream",
     "text": [
      "Best of generation:  3-0-0-2-0-2-2-1-1-2-2-0-2-0 Best Score: 0.7909206320429768\n",
      "------------------------------------------------------------------------------------------------------------------------------------------------------\n",
      "Generation 18/20\n"
     ]
    },
    {
     "name": "stderr",
     "output_type": "stream",
     "text": [
      "evaluating DAG's: 100%|██████████| 4/4 [00:01<00:00,  3.55it/s]\n"
     ]
    },
    {
     "name": "stdout",
     "output_type": "stream",
     "text": [
      "Best of generation:  3-0-0-2-0-2-2-1-0-1 Best Score: 1.0539314014847572\n",
      "------------------------------------------------------------------------------------------------------------------------------------------------------\n",
      "Generation 19/20\n"
     ]
    },
    {
     "name": "stderr",
     "output_type": "stream",
     "text": [
      "evaluating DAG's: 100%|██████████| 4/4 [00:01<00:00,  3.21it/s]\n"
     ]
    },
    {
     "name": "stdout",
     "output_type": "stream",
     "text": [
      "Best of generation:  3-0-0-2-0-2-2-1-0-1 Best Score: 1.0532249315542446\n",
      "------------------------------------------------------------------------------------------------------------------------------------------------------\n",
      "Generation 20/20\n"
     ]
    },
    {
     "name": "stderr",
     "output_type": "stream",
     "text": [
      "evaluating DAG's: 100%|██████████| 4/4 [00:01<00:00,  3.12it/s]"
     ]
    },
    {
     "name": "stdout",
     "output_type": "stream",
     "text": [
      "Best of generation:  3-0-0-2-0-2-2-1-1-2-2-0-2-0-2-2 Best Score: 0.8128488757743422\n"
     ]
    },
    {
     "name": "stderr",
     "output_type": "stream",
     "text": [
      "\n"
     ]
    }
   ],
   "source": [
    "best_of_generations = neat.run(inputs, outputs, epochs=100, generations=20)"
   ]
  },
  {
   "cell_type": "code",
   "execution_count": 7,
   "metadata": {},
   "outputs": [
    {
     "data": {
      "text/plain": [
       "' for dag in neat.population:\\n    print(\\'-\\'*150)\\n    print(\"id\", dag.id)\\n    plot_dag(dag)\\n    print(dag) '"
      ]
     },
     "execution_count": 7,
     "metadata": {},
     "output_type": "execute_result"
    }
   ],
   "source": [
    "\"\"\" for dag in neat.population:\n",
    "    print('-'*150)\n",
    "    print(\"id\", dag.id)\n",
    "    plot_dag(dag)\n",
    "    print(dag) \"\"\""
   ]
  },
  {
   "cell_type": "code",
   "execution_count": 8,
   "metadata": {},
   "outputs": [
    {
     "data": {
      "application/vnd.plotly.v1+json": {
       "config": {
        "plotlyServerURL": "https://plot.ly"
       },
       "data": [
        {
         "hoverinfo": "none",
         "line": {
          "color": "#888",
          "width": 2
         },
         "mode": "lines",
         "type": "scatter",
         "x": [
          0,
          4,
          null,
          0,
          4,
          null,
          0,
          8,
          null,
          0,
          2,
          null,
          0,
          4,
          null,
          0,
          2,
          null,
          0,
          2,
          null,
          0,
          2,
          null,
          0,
          4,
          null,
          0,
          4,
          null,
          0,
          4,
          null,
          0,
          6,
          null,
          0,
          2,
          null,
          0,
          2,
          null,
          0,
          4,
          null,
          0,
          4,
          null,
          0,
          2,
          null,
          0,
          2,
          null,
          4,
          8,
          null,
          4,
          6,
          null,
          6,
          8,
          null,
          2,
          4,
          null,
          2,
          4,
          null,
          2,
          4,
          null,
          2,
          6,
          null,
          2,
          8,
          null,
          2,
          4,
          null,
          2,
          4,
          null
         ],
         "y": [
          -2.25,
          -1.5,
          null,
          -2.25,
          0,
          null,
          -2.25,
          0,
          null,
          -2.25,
          -3,
          null,
          -0.75,
          -1.5,
          null,
          -0.75,
          -3,
          null,
          -0.75,
          -1.5,
          null,
          -0.75,
          1.5,
          null,
          0.75,
          -1.5,
          null,
          0.75,
          0,
          null,
          0.75,
          1.5,
          null,
          0.75,
          0,
          null,
          0.75,
          0,
          null,
          0.75,
          -3,
          null,
          2.25,
          0,
          null,
          2.25,
          1.5,
          null,
          2.25,
          -3,
          null,
          2.25,
          3,
          null,
          1.5,
          0,
          null,
          1.5,
          0,
          null,
          0,
          0,
          null,
          -3,
          -1.5,
          null,
          -3,
          0,
          null,
          -3,
          1.5,
          null,
          -1.5,
          0,
          null,
          0,
          0,
          null,
          1.5,
          0,
          null,
          3,
          -1.5,
          null
         ]
        },
        {
         "hoverinfo": "text",
         "marker": {
          "color": [
           "green",
           "green",
           "green",
           "green",
           "red",
           "red",
           "red",
           "orange",
           "orange",
           "orange",
           "orange",
           "orange",
           "orange",
           "orange"
          ],
          "colorbar": {
           "thickness": 15,
           "title": {
            "side": "right",
            "text": "Node Type"
           },
           "xanchor": "left"
          },
          "colorscale": [
           [
            0,
            "rgb(255,255,217)"
           ],
           [
            0.125,
            "rgb(237,248,177)"
           ],
           [
            0.25,
            "rgb(199,233,180)"
           ],
           [
            0.375,
            "rgb(127,205,187)"
           ],
           [
            0.5,
            "rgb(65,182,196)"
           ],
           [
            0.625,
            "rgb(29,145,192)"
           ],
           [
            0.75,
            "rgb(34,94,168)"
           ],
           [
            0.875,
            "rgb(37,52,148)"
           ],
           [
            1,
            "rgb(8,29,88)"
           ]
          ],
          "line": {
           "width": 2
          },
          "showscale": true,
          "size": 20
         },
         "mode": "markers+text",
         "text": [
          "Node 21<br>Out Val: [6.4 7.2 7.4 7.9 6.4 6.3 6.1 7.7 6.3 6.4 6.  6.9 6.7 6.9 5.8 6.8 6.7 6.7\n 6.3 6.5 6.2 5.9]",
          "Node 22<br>Out Val: [2.8 3.  2.8 3.8 2.8 2.8 2.6 3.  3.4 3.1 3.  3.1 3.1 3.1 2.7 3.2 3.3 3.\n 2.5 3.  3.4 3. ]",
          "Node 23<br>Out Val: [5.6 5.8 6.1 6.4 5.6 5.1 5.6 6.1 5.6 5.5 4.8 5.4 5.6 5.1 5.1 5.9 5.7 5.2\n 5.  5.2 5.4 5.1]",
          "Node 24<br>Out Val: [2.1 1.6 1.9 2.  2.2 1.5 1.4 2.3 2.4 1.8 1.8 2.1 2.4 2.3 1.9 2.3 2.5 2.3\n 1.9 2.  2.3 1.8]",
          "Node 25<br>Out Val: [0.04931076 0.03856316 0.03051652 0.03138853 0.04933264 0.06166574\n 0.05041446 0.02979426 0.06011485 0.05579666 0.07955338 0.05073807\n 0.04953297 0.05723426 0.06872204 0.0439364  0.0503929  0.05645882\n 0.05907502 0.05952653 0.06680036 0.07269181]",
          "Node 26<br>Out Val: [0.91204526 0.87553757 0.899406   0.90289324 0.91509165 0.85847891\n 0.89968405 0.90203445 0.92394805 0.89606732 0.86249362 0.87995704\n 0.91131705 0.86545509 0.89712031 0.92110633 0.91967779 0.88225707\n 0.86845152 0.87886395 0.91387096 0.88950916]",
          "Node 27<br>Out Val: [0.94527256 0.85686602 0.90610585 0.90299994 0.94958911 0.84472381\n 0.93013085 0.90612834 0.9619167  0.91988127 0.86442852 0.87770143\n 0.94066088 0.84470718 0.93212787 0.95310792 0.95264349 0.88846481\n 0.86858405 0.88563887 0.95064074 0.91827442]",
          "Node 31<br>Out Val: [5.4533286  5.1255849  5.58736624 5.86744854 5.54413949 4.59295777\n 4.81762249 5.95063968 5.72567989 5.11776611 4.67602467 5.32718662\n 5.72578044 5.31951537 4.95612653 5.82426897 5.87966758 5.38258955\n 4.89313579 5.11012268 5.50865654 4.8653006 ]",
          "Node 34<br>Out Val: [2.23328542 2.25072625 2.36147871 2.48938284 2.24277715 2.02917438\n 2.16081632 2.40547262 2.27982371 2.1844109  1.97537052 2.18346326\n 2.27079842 2.1141514  2.06412155 2.35261461 2.31574355 2.14056878\n 2.02867709 2.11209001 2.21146665 2.06366405]",
          "Node 37<br>Out Val: [-0.00291665 -0.00630214 -0.00622998 -0.00570233 -0.00258744 -0.00445646\n -0.00479029 -0.00534399 -0.00075555 -0.00340309 -0.00230674 -0.00361069\n -0.00220539 -0.00283895 -0.00206107 -0.00274005 -0.001605   -0.00253799\n -0.00356527 -0.00303242 -0.00076261 -0.00217345]",
          "Node 48<br>Out Val: [1.1901851  1.24465219 1.1901851  1.46252053 1.1901851  1.1901851\n 1.13571802 1.24465219 1.35358636 1.27188573 1.24465219 1.27188573\n 1.27188573 1.27188573 1.16295156 1.29911927 1.32635281 1.24465219\n 1.10848447 1.24465219 1.35358636 1.24465219]",
          "Node 49<br>Out Val: [5.25144464 5.43831967 5.71863222 5.99894476 5.25144464 4.78425707\n 5.25144464 5.71863222 5.25144464 5.15800713 4.50394453 5.06456961\n 5.25144464 4.78425707 4.78425707 5.53175719 5.34488216 4.87769458\n 4.69081956 4.87769458 5.06456961 4.78425707]",
          "Node 51<br>Out Val: [0.82222774 0.85204765 0.82222774 0.97132729 0.82222774 0.82222774\n 0.79240783 0.85204765 0.91168747 0.86695761 0.85204765 0.86695761\n 0.86695761 0.86695761 0.80731779 0.88186756 0.89677752 0.85204765\n 0.77749788 0.85204765 0.91168747 0.85204765]",
          "Node 54<br>Out Val: [-0.0138825  -0.01084709 -0.01266834 -0.01327542 -0.01448958 -0.01024\n -0.00963292 -0.01509667 -0.01570375 -0.01206125 -0.01206125 -0.0138825\n -0.01570375 -0.01509667 -0.01266834 -0.01509667 -0.01631083 -0.01509667\n -0.01266834 -0.01327542 -0.01509667 -0.01206125]"
         ],
         "textposition": "top center",
         "type": "scatter",
         "x": [
          0,
          0,
          0,
          0,
          4,
          4,
          8,
          4,
          6,
          2,
          2,
          2,
          2,
          2
         ],
         "y": [
          -2.25,
          -0.75,
          0.75,
          2.25,
          -1.5,
          0,
          0,
          1.5,
          0,
          -3,
          -1.5,
          0,
          1.5,
          3
         ]
        }
       ],
       "layout": {
        "annotations": [
         {
          "arrowcolor": "#888",
          "arrowhead": 2,
          "arrowsize": 1.5,
          "arrowwidth": 2,
          "ax": 0,
          "axref": "x",
          "ay": -2.25,
          "ayref": "y",
          "showarrow": true,
          "x": 4,
          "xref": "x",
          "y": -1.5,
          "yref": "y"
         },
         {
          "arrowcolor": "#888",
          "arrowhead": 2,
          "arrowsize": 1.5,
          "arrowwidth": 2,
          "ax": 0,
          "axref": "x",
          "ay": -2.25,
          "ayref": "y",
          "showarrow": true,
          "x": 4,
          "xref": "x",
          "y": 0,
          "yref": "y"
         },
         {
          "arrowcolor": "#888",
          "arrowhead": 2,
          "arrowsize": 1.5,
          "arrowwidth": 2,
          "ax": 0,
          "axref": "x",
          "ay": -2.25,
          "ayref": "y",
          "showarrow": true,
          "x": 8,
          "xref": "x",
          "y": 0,
          "yref": "y"
         },
         {
          "arrowcolor": "#888",
          "arrowhead": 2,
          "arrowsize": 1.5,
          "arrowwidth": 2,
          "ax": 0,
          "axref": "x",
          "ay": -2.25,
          "ayref": "y",
          "showarrow": true,
          "x": 2,
          "xref": "x",
          "y": -3,
          "yref": "y"
         },
         {
          "arrowcolor": "#888",
          "arrowhead": 2,
          "arrowsize": 1.5,
          "arrowwidth": 2,
          "ax": 0,
          "axref": "x",
          "ay": -0.75,
          "ayref": "y",
          "showarrow": true,
          "x": 4,
          "xref": "x",
          "y": -1.5,
          "yref": "y"
         },
         {
          "arrowcolor": "#888",
          "arrowhead": 2,
          "arrowsize": 1.5,
          "arrowwidth": 2,
          "ax": 0,
          "axref": "x",
          "ay": -0.75,
          "ayref": "y",
          "showarrow": true,
          "x": 2,
          "xref": "x",
          "y": -3,
          "yref": "y"
         },
         {
          "arrowcolor": "#888",
          "arrowhead": 2,
          "arrowsize": 1.5,
          "arrowwidth": 2,
          "ax": 0,
          "axref": "x",
          "ay": -0.75,
          "ayref": "y",
          "showarrow": true,
          "x": 2,
          "xref": "x",
          "y": -1.5,
          "yref": "y"
         },
         {
          "arrowcolor": "#888",
          "arrowhead": 2,
          "arrowsize": 1.5,
          "arrowwidth": 2,
          "ax": 0,
          "axref": "x",
          "ay": -0.75,
          "ayref": "y",
          "showarrow": true,
          "x": 2,
          "xref": "x",
          "y": 1.5,
          "yref": "y"
         },
         {
          "arrowcolor": "#888",
          "arrowhead": 2,
          "arrowsize": 1.5,
          "arrowwidth": 2,
          "ax": 0,
          "axref": "x",
          "ay": 0.75,
          "ayref": "y",
          "showarrow": true,
          "x": 4,
          "xref": "x",
          "y": -1.5,
          "yref": "y"
         },
         {
          "arrowcolor": "#888",
          "arrowhead": 2,
          "arrowsize": 1.5,
          "arrowwidth": 2,
          "ax": 0,
          "axref": "x",
          "ay": 0.75,
          "ayref": "y",
          "showarrow": true,
          "x": 4,
          "xref": "x",
          "y": 0,
          "yref": "y"
         },
         {
          "arrowcolor": "#888",
          "arrowhead": 2,
          "arrowsize": 1.5,
          "arrowwidth": 2,
          "ax": 0,
          "axref": "x",
          "ay": 0.75,
          "ayref": "y",
          "showarrow": true,
          "x": 4,
          "xref": "x",
          "y": 1.5,
          "yref": "y"
         },
         {
          "arrowcolor": "#888",
          "arrowhead": 2,
          "arrowsize": 1.5,
          "arrowwidth": 2,
          "ax": 0,
          "axref": "x",
          "ay": 0.75,
          "ayref": "y",
          "showarrow": true,
          "x": 6,
          "xref": "x",
          "y": 0,
          "yref": "y"
         },
         {
          "arrowcolor": "#888",
          "arrowhead": 2,
          "arrowsize": 1.5,
          "arrowwidth": 2,
          "ax": 0,
          "axref": "x",
          "ay": 0.75,
          "ayref": "y",
          "showarrow": true,
          "x": 2,
          "xref": "x",
          "y": 0,
          "yref": "y"
         },
         {
          "arrowcolor": "#888",
          "arrowhead": 2,
          "arrowsize": 1.5,
          "arrowwidth": 2,
          "ax": 0,
          "axref": "x",
          "ay": 0.75,
          "ayref": "y",
          "showarrow": true,
          "x": 2,
          "xref": "x",
          "y": -3,
          "yref": "y"
         },
         {
          "arrowcolor": "#888",
          "arrowhead": 2,
          "arrowsize": 1.5,
          "arrowwidth": 2,
          "ax": 0,
          "axref": "x",
          "ay": 2.25,
          "ayref": "y",
          "showarrow": true,
          "x": 4,
          "xref": "x",
          "y": 0,
          "yref": "y"
         },
         {
          "arrowcolor": "#888",
          "arrowhead": 2,
          "arrowsize": 1.5,
          "arrowwidth": 2,
          "ax": 0,
          "axref": "x",
          "ay": 2.25,
          "ayref": "y",
          "showarrow": true,
          "x": 4,
          "xref": "x",
          "y": 1.5,
          "yref": "y"
         },
         {
          "arrowcolor": "#888",
          "arrowhead": 2,
          "arrowsize": 1.5,
          "arrowwidth": 2,
          "ax": 0,
          "axref": "x",
          "ay": 2.25,
          "ayref": "y",
          "showarrow": true,
          "x": 2,
          "xref": "x",
          "y": -3,
          "yref": "y"
         },
         {
          "arrowcolor": "#888",
          "arrowhead": 2,
          "arrowsize": 1.5,
          "arrowwidth": 2,
          "ax": 0,
          "axref": "x",
          "ay": 2.25,
          "ayref": "y",
          "showarrow": true,
          "x": 2,
          "xref": "x",
          "y": 3,
          "yref": "y"
         },
         {
          "arrowcolor": "#888",
          "arrowhead": 2,
          "arrowsize": 1.5,
          "arrowwidth": 2,
          "ax": 4,
          "axref": "x",
          "ay": 1.5,
          "ayref": "y",
          "showarrow": true,
          "x": 8,
          "xref": "x",
          "y": 0,
          "yref": "y"
         },
         {
          "arrowcolor": "#888",
          "arrowhead": 2,
          "arrowsize": 1.5,
          "arrowwidth": 2,
          "ax": 4,
          "axref": "x",
          "ay": 1.5,
          "ayref": "y",
          "showarrow": true,
          "x": 6,
          "xref": "x",
          "y": 0,
          "yref": "y"
         },
         {
          "arrowcolor": "#888",
          "arrowhead": 2,
          "arrowsize": 1.5,
          "arrowwidth": 2,
          "ax": 6,
          "axref": "x",
          "ay": 0,
          "ayref": "y",
          "showarrow": true,
          "x": 8,
          "xref": "x",
          "y": 0,
          "yref": "y"
         },
         {
          "arrowcolor": "#888",
          "arrowhead": 2,
          "arrowsize": 1.5,
          "arrowwidth": 2,
          "ax": 2,
          "axref": "x",
          "ay": -3,
          "ayref": "y",
          "showarrow": true,
          "x": 4,
          "xref": "x",
          "y": -1.5,
          "yref": "y"
         },
         {
          "arrowcolor": "#888",
          "arrowhead": 2,
          "arrowsize": 1.5,
          "arrowwidth": 2,
          "ax": 2,
          "axref": "x",
          "ay": -3,
          "ayref": "y",
          "showarrow": true,
          "x": 4,
          "xref": "x",
          "y": 0,
          "yref": "y"
         },
         {
          "arrowcolor": "#888",
          "arrowhead": 2,
          "arrowsize": 1.5,
          "arrowwidth": 2,
          "ax": 2,
          "axref": "x",
          "ay": -3,
          "ayref": "y",
          "showarrow": true,
          "x": 4,
          "xref": "x",
          "y": 1.5,
          "yref": "y"
         },
         {
          "arrowcolor": "#888",
          "arrowhead": 2,
          "arrowsize": 1.5,
          "arrowwidth": 2,
          "ax": 2,
          "axref": "x",
          "ay": -1.5,
          "ayref": "y",
          "showarrow": true,
          "x": 6,
          "xref": "x",
          "y": 0,
          "yref": "y"
         },
         {
          "arrowcolor": "#888",
          "arrowhead": 2,
          "arrowsize": 1.5,
          "arrowwidth": 2,
          "ax": 2,
          "axref": "x",
          "ay": 0,
          "ayref": "y",
          "showarrow": true,
          "x": 8,
          "xref": "x",
          "y": 0,
          "yref": "y"
         },
         {
          "arrowcolor": "#888",
          "arrowhead": 2,
          "arrowsize": 1.5,
          "arrowwidth": 2,
          "ax": 2,
          "axref": "x",
          "ay": 1.5,
          "ayref": "y",
          "showarrow": true,
          "x": 4,
          "xref": "x",
          "y": 0,
          "yref": "y"
         },
         {
          "arrowcolor": "#888",
          "arrowhead": 2,
          "arrowsize": 1.5,
          "arrowwidth": 2,
          "ax": 2,
          "axref": "x",
          "ay": 3,
          "ayref": "y",
          "showarrow": true,
          "x": 4,
          "xref": "x",
          "y": -1.5,
          "yref": "y"
         }
        ],
        "hovermode": "closest",
        "margin": {
         "b": 20,
         "l": 5,
         "r": 5,
         "t": 40
        },
        "showlegend": false,
        "template": {
         "data": {
          "bar": [
           {
            "error_x": {
             "color": "#2a3f5f"
            },
            "error_y": {
             "color": "#2a3f5f"
            },
            "marker": {
             "line": {
              "color": "#E5ECF6",
              "width": 0.5
             },
             "pattern": {
              "fillmode": "overlay",
              "size": 10,
              "solidity": 0.2
             }
            },
            "type": "bar"
           }
          ],
          "barpolar": [
           {
            "marker": {
             "line": {
              "color": "#E5ECF6",
              "width": 0.5
             },
             "pattern": {
              "fillmode": "overlay",
              "size": 10,
              "solidity": 0.2
             }
            },
            "type": "barpolar"
           }
          ],
          "carpet": [
           {
            "aaxis": {
             "endlinecolor": "#2a3f5f",
             "gridcolor": "white",
             "linecolor": "white",
             "minorgridcolor": "white",
             "startlinecolor": "#2a3f5f"
            },
            "baxis": {
             "endlinecolor": "#2a3f5f",
             "gridcolor": "white",
             "linecolor": "white",
             "minorgridcolor": "white",
             "startlinecolor": "#2a3f5f"
            },
            "type": "carpet"
           }
          ],
          "choropleth": [
           {
            "colorbar": {
             "outlinewidth": 0,
             "ticks": ""
            },
            "type": "choropleth"
           }
          ],
          "contour": [
           {
            "colorbar": {
             "outlinewidth": 0,
             "ticks": ""
            },
            "colorscale": [
             [
              0,
              "#0d0887"
             ],
             [
              0.1111111111111111,
              "#46039f"
             ],
             [
              0.2222222222222222,
              "#7201a8"
             ],
             [
              0.3333333333333333,
              "#9c179e"
             ],
             [
              0.4444444444444444,
              "#bd3786"
             ],
             [
              0.5555555555555556,
              "#d8576b"
             ],
             [
              0.6666666666666666,
              "#ed7953"
             ],
             [
              0.7777777777777778,
              "#fb9f3a"
             ],
             [
              0.8888888888888888,
              "#fdca26"
             ],
             [
              1,
              "#f0f921"
             ]
            ],
            "type": "contour"
           }
          ],
          "contourcarpet": [
           {
            "colorbar": {
             "outlinewidth": 0,
             "ticks": ""
            },
            "type": "contourcarpet"
           }
          ],
          "heatmap": [
           {
            "colorbar": {
             "outlinewidth": 0,
             "ticks": ""
            },
            "colorscale": [
             [
              0,
              "#0d0887"
             ],
             [
              0.1111111111111111,
              "#46039f"
             ],
             [
              0.2222222222222222,
              "#7201a8"
             ],
             [
              0.3333333333333333,
              "#9c179e"
             ],
             [
              0.4444444444444444,
              "#bd3786"
             ],
             [
              0.5555555555555556,
              "#d8576b"
             ],
             [
              0.6666666666666666,
              "#ed7953"
             ],
             [
              0.7777777777777778,
              "#fb9f3a"
             ],
             [
              0.8888888888888888,
              "#fdca26"
             ],
             [
              1,
              "#f0f921"
             ]
            ],
            "type": "heatmap"
           }
          ],
          "heatmapgl": [
           {
            "colorbar": {
             "outlinewidth": 0,
             "ticks": ""
            },
            "colorscale": [
             [
              0,
              "#0d0887"
             ],
             [
              0.1111111111111111,
              "#46039f"
             ],
             [
              0.2222222222222222,
              "#7201a8"
             ],
             [
              0.3333333333333333,
              "#9c179e"
             ],
             [
              0.4444444444444444,
              "#bd3786"
             ],
             [
              0.5555555555555556,
              "#d8576b"
             ],
             [
              0.6666666666666666,
              "#ed7953"
             ],
             [
              0.7777777777777778,
              "#fb9f3a"
             ],
             [
              0.8888888888888888,
              "#fdca26"
             ],
             [
              1,
              "#f0f921"
             ]
            ],
            "type": "heatmapgl"
           }
          ],
          "histogram": [
           {
            "marker": {
             "pattern": {
              "fillmode": "overlay",
              "size": 10,
              "solidity": 0.2
             }
            },
            "type": "histogram"
           }
          ],
          "histogram2d": [
           {
            "colorbar": {
             "outlinewidth": 0,
             "ticks": ""
            },
            "colorscale": [
             [
              0,
              "#0d0887"
             ],
             [
              0.1111111111111111,
              "#46039f"
             ],
             [
              0.2222222222222222,
              "#7201a8"
             ],
             [
              0.3333333333333333,
              "#9c179e"
             ],
             [
              0.4444444444444444,
              "#bd3786"
             ],
             [
              0.5555555555555556,
              "#d8576b"
             ],
             [
              0.6666666666666666,
              "#ed7953"
             ],
             [
              0.7777777777777778,
              "#fb9f3a"
             ],
             [
              0.8888888888888888,
              "#fdca26"
             ],
             [
              1,
              "#f0f921"
             ]
            ],
            "type": "histogram2d"
           }
          ],
          "histogram2dcontour": [
           {
            "colorbar": {
             "outlinewidth": 0,
             "ticks": ""
            },
            "colorscale": [
             [
              0,
              "#0d0887"
             ],
             [
              0.1111111111111111,
              "#46039f"
             ],
             [
              0.2222222222222222,
              "#7201a8"
             ],
             [
              0.3333333333333333,
              "#9c179e"
             ],
             [
              0.4444444444444444,
              "#bd3786"
             ],
             [
              0.5555555555555556,
              "#d8576b"
             ],
             [
              0.6666666666666666,
              "#ed7953"
             ],
             [
              0.7777777777777778,
              "#fb9f3a"
             ],
             [
              0.8888888888888888,
              "#fdca26"
             ],
             [
              1,
              "#f0f921"
             ]
            ],
            "type": "histogram2dcontour"
           }
          ],
          "mesh3d": [
           {
            "colorbar": {
             "outlinewidth": 0,
             "ticks": ""
            },
            "type": "mesh3d"
           }
          ],
          "parcoords": [
           {
            "line": {
             "colorbar": {
              "outlinewidth": 0,
              "ticks": ""
             }
            },
            "type": "parcoords"
           }
          ],
          "pie": [
           {
            "automargin": true,
            "type": "pie"
           }
          ],
          "scatter": [
           {
            "fillpattern": {
             "fillmode": "overlay",
             "size": 10,
             "solidity": 0.2
            },
            "type": "scatter"
           }
          ],
          "scatter3d": [
           {
            "line": {
             "colorbar": {
              "outlinewidth": 0,
              "ticks": ""
             }
            },
            "marker": {
             "colorbar": {
              "outlinewidth": 0,
              "ticks": ""
             }
            },
            "type": "scatter3d"
           }
          ],
          "scattercarpet": [
           {
            "marker": {
             "colorbar": {
              "outlinewidth": 0,
              "ticks": ""
             }
            },
            "type": "scattercarpet"
           }
          ],
          "scattergeo": [
           {
            "marker": {
             "colorbar": {
              "outlinewidth": 0,
              "ticks": ""
             }
            },
            "type": "scattergeo"
           }
          ],
          "scattergl": [
           {
            "marker": {
             "colorbar": {
              "outlinewidth": 0,
              "ticks": ""
             }
            },
            "type": "scattergl"
           }
          ],
          "scattermapbox": [
           {
            "marker": {
             "colorbar": {
              "outlinewidth": 0,
              "ticks": ""
             }
            },
            "type": "scattermapbox"
           }
          ],
          "scatterpolar": [
           {
            "marker": {
             "colorbar": {
              "outlinewidth": 0,
              "ticks": ""
             }
            },
            "type": "scatterpolar"
           }
          ],
          "scatterpolargl": [
           {
            "marker": {
             "colorbar": {
              "outlinewidth": 0,
              "ticks": ""
             }
            },
            "type": "scatterpolargl"
           }
          ],
          "scatterternary": [
           {
            "marker": {
             "colorbar": {
              "outlinewidth": 0,
              "ticks": ""
             }
            },
            "type": "scatterternary"
           }
          ],
          "surface": [
           {
            "colorbar": {
             "outlinewidth": 0,
             "ticks": ""
            },
            "colorscale": [
             [
              0,
              "#0d0887"
             ],
             [
              0.1111111111111111,
              "#46039f"
             ],
             [
              0.2222222222222222,
              "#7201a8"
             ],
             [
              0.3333333333333333,
              "#9c179e"
             ],
             [
              0.4444444444444444,
              "#bd3786"
             ],
             [
              0.5555555555555556,
              "#d8576b"
             ],
             [
              0.6666666666666666,
              "#ed7953"
             ],
             [
              0.7777777777777778,
              "#fb9f3a"
             ],
             [
              0.8888888888888888,
              "#fdca26"
             ],
             [
              1,
              "#f0f921"
             ]
            ],
            "type": "surface"
           }
          ],
          "table": [
           {
            "cells": {
             "fill": {
              "color": "#EBF0F8"
             },
             "line": {
              "color": "white"
             }
            },
            "header": {
             "fill": {
              "color": "#C8D4E3"
             },
             "line": {
              "color": "white"
             }
            },
            "type": "table"
           }
          ]
         },
         "layout": {
          "annotationdefaults": {
           "arrowcolor": "#2a3f5f",
           "arrowhead": 0,
           "arrowwidth": 1
          },
          "autotypenumbers": "strict",
          "coloraxis": {
           "colorbar": {
            "outlinewidth": 0,
            "ticks": ""
           }
          },
          "colorscale": {
           "diverging": [
            [
             0,
             "#8e0152"
            ],
            [
             0.1,
             "#c51b7d"
            ],
            [
             0.2,
             "#de77ae"
            ],
            [
             0.3,
             "#f1b6da"
            ],
            [
             0.4,
             "#fde0ef"
            ],
            [
             0.5,
             "#f7f7f7"
            ],
            [
             0.6,
             "#e6f5d0"
            ],
            [
             0.7,
             "#b8e186"
            ],
            [
             0.8,
             "#7fbc41"
            ],
            [
             0.9,
             "#4d9221"
            ],
            [
             1,
             "#276419"
            ]
           ],
           "sequential": [
            [
             0,
             "#0d0887"
            ],
            [
             0.1111111111111111,
             "#46039f"
            ],
            [
             0.2222222222222222,
             "#7201a8"
            ],
            [
             0.3333333333333333,
             "#9c179e"
            ],
            [
             0.4444444444444444,
             "#bd3786"
            ],
            [
             0.5555555555555556,
             "#d8576b"
            ],
            [
             0.6666666666666666,
             "#ed7953"
            ],
            [
             0.7777777777777778,
             "#fb9f3a"
            ],
            [
             0.8888888888888888,
             "#fdca26"
            ],
            [
             1,
             "#f0f921"
            ]
           ],
           "sequentialminus": [
            [
             0,
             "#0d0887"
            ],
            [
             0.1111111111111111,
             "#46039f"
            ],
            [
             0.2222222222222222,
             "#7201a8"
            ],
            [
             0.3333333333333333,
             "#9c179e"
            ],
            [
             0.4444444444444444,
             "#bd3786"
            ],
            [
             0.5555555555555556,
             "#d8576b"
            ],
            [
             0.6666666666666666,
             "#ed7953"
            ],
            [
             0.7777777777777778,
             "#fb9f3a"
            ],
            [
             0.8888888888888888,
             "#fdca26"
            ],
            [
             1,
             "#f0f921"
            ]
           ]
          },
          "colorway": [
           "#636efa",
           "#EF553B",
           "#00cc96",
           "#ab63fa",
           "#FFA15A",
           "#19d3f3",
           "#FF6692",
           "#B6E880",
           "#FF97FF",
           "#FECB52"
          ],
          "font": {
           "color": "#2a3f5f"
          },
          "geo": {
           "bgcolor": "white",
           "lakecolor": "white",
           "landcolor": "#E5ECF6",
           "showlakes": true,
           "showland": true,
           "subunitcolor": "white"
          },
          "hoverlabel": {
           "align": "left"
          },
          "hovermode": "closest",
          "mapbox": {
           "style": "light"
          },
          "paper_bgcolor": "white",
          "plot_bgcolor": "#E5ECF6",
          "polar": {
           "angularaxis": {
            "gridcolor": "white",
            "linecolor": "white",
            "ticks": ""
           },
           "bgcolor": "#E5ECF6",
           "radialaxis": {
            "gridcolor": "white",
            "linecolor": "white",
            "ticks": ""
           }
          },
          "scene": {
           "xaxis": {
            "backgroundcolor": "#E5ECF6",
            "gridcolor": "white",
            "gridwidth": 2,
            "linecolor": "white",
            "showbackground": true,
            "ticks": "",
            "zerolinecolor": "white"
           },
           "yaxis": {
            "backgroundcolor": "#E5ECF6",
            "gridcolor": "white",
            "gridwidth": 2,
            "linecolor": "white",
            "showbackground": true,
            "ticks": "",
            "zerolinecolor": "white"
           },
           "zaxis": {
            "backgroundcolor": "#E5ECF6",
            "gridcolor": "white",
            "gridwidth": 2,
            "linecolor": "white",
            "showbackground": true,
            "ticks": "",
            "zerolinecolor": "white"
           }
          },
          "shapedefaults": {
           "line": {
            "color": "#2a3f5f"
           }
          },
          "ternary": {
           "aaxis": {
            "gridcolor": "white",
            "linecolor": "white",
            "ticks": ""
           },
           "baxis": {
            "gridcolor": "white",
            "linecolor": "white",
            "ticks": ""
           },
           "bgcolor": "#E5ECF6",
           "caxis": {
            "gridcolor": "white",
            "linecolor": "white",
            "ticks": ""
           }
          },
          "title": {
           "x": 0.05
          },
          "xaxis": {
           "automargin": true,
           "gridcolor": "white",
           "linecolor": "white",
           "ticks": "",
           "title": {
            "standoff": 15
           },
           "zerolinecolor": "white",
           "zerolinewidth": 2
          },
          "yaxis": {
           "automargin": true,
           "gridcolor": "white",
           "linecolor": "white",
           "ticks": "",
           "title": {
            "standoff": 15
           },
           "zerolinecolor": "white",
           "zerolinewidth": 2
          }
         }
        },
        "title": {
         "font": {
          "size": 16
         },
         "text": "<br>Network graph of a DAG"
        },
        "xaxis": {
         "showgrid": false,
         "zeroline": false
        },
        "yaxis": {
         "showgrid": false,
         "zeroline": false
        }
       }
      }
     },
     "metadata": {},
     "output_type": "display_data"
    },
    {
     "name": "stdout",
     "output_type": "stream",
     "text": [
      "Has circles: True\n"
     ]
    }
   ],
   "source": [
    "target_dag : DAG = best_of_generations[-1][0]\n",
    "\n",
    "plot_dag(target_dag)\n",
    "\n",
    "print('Has circles:', target_dag.check_for_circular())"
   ]
  },
  {
   "cell_type": "code",
   "execution_count": 9,
   "metadata": {},
   "outputs": [
    {
     "name": "stdout",
     "output_type": "stream",
     "text": [
      "Output: 0 | Expected: 0\n",
      "Output: 0 | Expected: 0\n",
      "Output: 0 | Expected: 0\n",
      "Output: 2 | Expected: 1\n",
      "Output: 2 | Expected: 1\n",
      "Output: 0 | Expected: 0\n",
      "Output: 0 | Expected: 0\n",
      "Output: 2 | Expected: 1\n",
      "Output: 2 | Expected: 2\n",
      "Output: 2 | Expected: 2\n",
      "Output: 2 | Expected: 2\n",
      "Output: 2 | Expected: 1\n",
      "Output: 0 | Expected: 0\n",
      "Output: 2 | Expected: 2\n",
      "Output: 2 | Expected: 1\n",
      "Output: 2 | Expected: 2\n",
      "Output: 0 | Expected: 0\n",
      "Output: 0 | Expected: 0\n",
      "Output: 2 | Expected: 1\n",
      "Output: 0 | Expected: 0\n"
     ]
    }
   ],
   "source": [
    "for i in np.random.randint(0, len(inputs), 20):\n",
    "    res = target_dag.process([inputs[i]])\n",
    "    print(f\"Output: {np.argmax(res)} | Expected: {np.argmax(outputs[i])}\")"
   ]
  },
  {
   "cell_type": "code",
   "execution_count": null,
   "metadata": {},
   "outputs": [],
   "source": []
  }
 ],
 "metadata": {
  "kernelspec": {
   "display_name": "Python 3",
   "language": "python",
   "name": "python3"
  },
  "language_info": {
   "codemirror_mode": {
    "name": "ipython",
    "version": 3
   },
   "file_extension": ".py",
   "mimetype": "text/x-python",
   "name": "python",
   "nbconvert_exporter": "python",
   "pygments_lexer": "ipython3",
   "version": "3.11.9"
  }
 },
 "nbformat": 4,
 "nbformat_minor": 2
}
