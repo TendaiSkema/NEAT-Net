{
 "cells": [
  {
   "cell_type": "code",
   "execution_count": 1,
   "metadata": {},
   "outputs": [],
   "source": [
    "import numpy as np\n",
    "import networkx as nx\n",
    "from SNN_neat import DAG, plot_dag\n",
    "from SNN_neat import ReLU, LeakyReLU, Sigmoid, Linear, Tanh\n",
    "from tqdm import tqdm\n",
    "import plotly.graph_objects as go\n",
    "from time import time"
   ]
  },
  {
   "cell_type": "code",
   "execution_count": 2,
   "metadata": {},
   "outputs": [
    {
     "name": "stdout",
     "output_type": "stream",
     "text": [
      "DAG(['0', '1', '2', '3', '4', '5', '6', '7', '8', '9']\n",
      "\tSpikingNode(0: bias: -0.9803834756929917, threshold: 0.7, in: [] out: ['10', '11', '12', '13', '14', '15', '16', '17', '18', '19'], weights: [])\n",
      "\tSpikingNode(1: bias: 0.019586353340679263, threshold: 0.7, in: [] out: ['11', '10', '12', '13', '14', '15', '16', '17', '18', '19'], weights: [])\n",
      "\tSpikingNode(2: bias: -0.8852345246654172, threshold: 0.7, in: [] out: ['12', '10', '11', '13', '14', '15', '16', '17', '18', '19'], weights: [])\n",
      "\tSpikingNode(3: bias: -0.20267887105479154, threshold: 0.7, in: [] out: ['13', '10', '11', '12', '14', '15', '16', '17', '18', '19'], weights: [])\n",
      "\tSpikingNode(4: bias: 0.6530144882420845, threshold: 0.7, in: [] out: ['14', '10', '11', '12', '13', '15', '16', '17', '18', '19'], weights: [])\n",
      "\tSpikingNode(5: bias: 0.5306451092875222, threshold: 0.7, in: [] out: ['15', '10', '11', '12', '13', '14', '16', '17', '18', '19'], weights: [])\n",
      "\tSpikingNode(6: bias: -0.8209014862491772, threshold: 0.7, in: [] out: ['16', '10', '11', '12', '13', '14', '15', '17', '18', '19'], weights: [])\n",
      "\tSpikingNode(7: bias: 0.6766583187555355, threshold: 0.7, in: [] out: ['17', '10', '11', '12', '13', '14', '15', '16', '18', '19'], weights: [])\n",
      "\tSpikingNode(8: bias: 0.5399011541507654, threshold: 0.7, in: [] out: ['18', '10', '11', '12', '13', '14', '15', '16', '17', '19'], weights: [])\n",
      "\tSpikingNode(9: bias: -0.35126967399048037, threshold: 0.7, in: [] out: ['19', '10', '11', '12', '13', '14', '15', '16', '17', '18'], weights: [])\n",
      "\tSpikingNode(10: bias: -0.789411809650157, threshold: 0.7, in: ['0', '1', '2', '3', '4', '5', '6', '7', '8', '9'] out: [], weights: [-0.0462579  -0.4400501   0.47730784 -0.78658943 -0.55358359 -0.39943798\n",
      "  0.63824046  0.58249893  0.85320943  0.41499128])\n",
      "\tSpikingNode(11: bias: 0.35926941086132635, threshold: 0.7, in: ['1', '0', '2', '3', '4', '5', '6', '7', '8', '9'] out: [], weights: [-0.22055191  0.7498418  -0.09580366  0.48731592 -0.51465814 -0.24714585\n",
      " -0.80545214  0.67052228  0.21948443 -0.91863909])\n",
      "\tSpikingNode(12: bias: 0.6772616347410181, threshold: 0.7, in: ['2', '0', '1', '3', '4', '5', '6', '7', '8', '9'] out: [], weights: [-0.79342334  0.6916303   0.57160031  0.36009047 -0.17257356  0.19231145\n",
      " -0.4755535   0.81812225  0.64650594  0.37414234])\n",
      "\tSpikingNode(13: bias: -0.8799643094232912, threshold: 0.7, in: ['3', '0', '1', '2', '4', '5', '6', '7', '8', '9'] out: [], weights: [ 0.87814987 -0.91488681  0.44961811  0.44245178 -0.80413843  0.50094322\n",
      "  0.57243531  0.57797275 -0.80878669  0.04055159])\n",
      "\tSpikingNode(14: bias: 0.6621237246230771, threshold: 0.7, in: ['4', '0', '1', '2', '3', '5', '6', '7', '8', '9'] out: [], weights: [-0.91154934 -0.54720075  0.51765683 -0.61822194  0.33296369  0.05688285\n",
      "  0.34470929 -0.17176616  0.70519266 -0.07433341])\n",
      "\tSpikingNode(15: bias: -0.5304092739341393, threshold: 0.7, in: ['5', '0', '1', '2', '3', '4', '6', '7', '8', '9'] out: [], weights: [-0.08683084 -0.12018679  0.14069144 -0.31344182 -0.71467729 -0.34297802\n",
      " -0.18607801 -0.4607484   0.62639687 -0.26462513])\n",
      "\tSpikingNode(16: bias: -0.4300105576616351, threshold: 0.7, in: ['6', '0', '1', '2', '3', '4', '5', '7', '8', '9'] out: [], weights: [-0.36094495  0.55395515 -0.59975028 -0.57200602  0.9930438  -0.95199621\n",
      " -0.58457695 -0.02809001 -0.49906159 -0.88807611])\n",
      "\tSpikingNode(17: bias: 0.10374677877123539, threshold: 0.7, in: ['7', '0', '1', '2', '3', '4', '5', '6', '8', '9'] out: [], weights: [-0.44277155 -0.83842375 -0.43740637  0.48120039 -0.84253021 -0.15751249\n",
      "  0.64762749 -0.00247263 -0.27384937  0.08302461])\n",
      "\tSpikingNode(18: bias: -0.596478825929522, threshold: 0.7, in: ['8', '0', '1', '2', '3', '4', '5', '6', '7', '9'] out: [], weights: [ 0.02505049  0.46051094 -0.15962328 -0.84719439  0.21599117  0.4777161\n",
      "  0.71858724  0.95360927  0.0507213  -0.79961551])\n",
      "\tSpikingNode(19: bias: -0.30407583213140366, threshold: 0.7, in: ['9', '0', '1', '2', '3', '4', '5', '6', '7', '8'] out: [], weights: [-0.976279   -0.33088401 -0.11516567  0.68754626 -0.03114124 -0.54188944\n",
      " -0.04499434  0.00640309  0.00518474  0.86618679])\n",
      "['10', '11', '12', '13', '14', '15', '16', '17', '18', '19'])\n"
     ]
    }
   ],
   "source": [
    "WIDTH = 10\n",
    "\n",
    "dag = DAG(WIDTH, WIDTH)\n",
    "\n",
    "for i, node_id in enumerate(dag.input_nodes):\n",
    "    output_node = dag.output_nodes[i]\n",
    "    dag.add_connection(node_id, output_node)\n",
    "    #_, new_node = dag.add_node(node_id, output_node)\n",
    "    # add node in input connection\n",
    "    #_, new_node2 = dag.add_node(node_id, new_node)\n",
    "    #_, new_node3 = dag.add_node(new_node, output_node)\n",
    "\n",
    "dag.processing_order = dag.get_processing_order()\n",
    "for i, layer in enumerate(dag.processing_order[:-1]):\n",
    "    for node1 in layer:\n",
    "        for node2 in dag.processing_order[i+1]:\n",
    "            dag.add_connection(node1, node2)\n",
    "\n",
    "dag.processing_order = dag.get_processing_order()\n",
    "print(dag)"
   ]
  },
  {
   "cell_type": "code",
   "execution_count": 3,
   "metadata": {},
   "outputs": [
    {
     "name": "stderr",
     "output_type": "stream",
     "text": [
      "Percentage: 100%|██████████| 20/20 [00:01<00:00, 14.07it/s]\n",
      "Percentage: 100%|██████████| 20/20 [00:01<00:00, 14.26it/s]\n",
      "Percentage: 100%|██████████| 20/20 [00:01<00:00, 14.26it/s]\n",
      "Percentage: 100%|██████████| 20/20 [00:01<00:00, 14.46it/s]\n",
      "Threshold: 100%|██████████| 4/4 [00:05<00:00,  1.41s/it]"
     ]
    },
    {
     "name": "stdout",
     "output_type": "stream",
     "text": [
      "Time taken:  5.629703760147095\n"
     ]
    },
    {
     "name": "stderr",
     "output_type": "stream",
     "text": [
      "\n"
     ]
    }
   ],
   "source": [
    "thresholds = {}\n",
    "percentages = np.arange(0, 1, 0.05)\n",
    "start = time()\n",
    "for threshold in tqdm(np.arange(-0.1, 0.1, 0.05), desc=\"Threshold\"):\n",
    "    thresholds[threshold] = [[], []] # input activity , mean activity\n",
    "    for percentage in tqdm(percentages, desc=\"Percentage\"):\n",
    "        \n",
    "        # set threshold\n",
    "        for layer in dag.processing_order:\n",
    "            for nodeId in layer:\n",
    "                node = dag.get_node(nodeId)\n",
    "                node.threshold = threshold\n",
    "\n",
    "        layer_avg_activations = [[] for _ in range(len(dag.get_processing_order()))]\n",
    "        # iterate multipple times\n",
    "        for _ in range(100):\n",
    "            dag.reset()\n",
    "            inputs = [int(np.random.rand() < percentage) for _ in range(WIDTH)]\n",
    "\n",
    "            for layer in dag.processing_order:\n",
    "                for nodeId in layer:\n",
    "                    node = dag.get_node(nodeId)\n",
    "                    new_weights = np.random.rand(len(node.weights)) * 2 - 1\n",
    "                    node.bias = np.random.rand() * 2 - 1\n",
    "                    node.weights = new_weights / np.linalg.norm(list(new_weights)+[node.bias])\n",
    "                    node.bias = node.bias / np.linalg.norm(list(new_weights)+[node.bias])\n",
    "                    \n",
    "            dag.process_once(inputs)\n",
    "            # get activation \n",
    "            for i, layer in enumerate(dag.get_processing_order()):\n",
    "                avg_activation_probability = 0\n",
    "                for node_id in layer:\n",
    "                    node = dag.get_node(node_id)\n",
    "                    avg_activation_probability += node.spike\n",
    "\n",
    "                avg_activation_probability /= len(layer)\n",
    "\n",
    "                layer_avg_activations[i].append(avg_activation_probability)\n",
    "\n",
    "        thresholds[threshold][0].append(percentage)\n",
    "        thresholds[threshold][1].append(np.mean(layer_avg_activations[-1]))\n",
    "        \n",
    "end = time()\n",
    "print(\"Time taken: \", end-start)"
   ]
  },
  {
   "cell_type": "code",
   "execution_count": 4,
   "metadata": {},
   "outputs": [
    {
     "data": {
      "application/vnd.plotly.v1+json": {
       "config": {
        "plotlyServerURL": "https://plot.ly"
       },
       "data": [
        {
         "mode": "lines+markers",
         "name": "T: -0.1",
         "type": "scatter",
         "x": [
          0,
          0.05,
          0.1,
          0.15000000000000002,
          0.2,
          0.25,
          0.30000000000000004,
          0.35000000000000003,
          0.4,
          0.45,
          0.5,
          0.55,
          0.6000000000000001,
          0.65,
          0.7000000000000001,
          0.75,
          0.8,
          0.8500000000000001,
          0.9,
          0.9500000000000001
         ],
         "y": [
          0.547,
          0.517,
          0.5830000000000001,
          0.545,
          0.5000000000000001,
          0.53,
          0.529,
          0.506,
          0.538,
          0.5289999999999999,
          0.558,
          0.519,
          0.524,
          0.552,
          0.5189999999999999,
          0.5429999999999999,
          0.5359999999999999,
          0.51,
          0.5489999999999999,
          0.514
         ]
        },
        {
         "mode": "lines+markers",
         "name": "T: -0.05",
         "type": "scatter",
         "x": [
          0,
          0.05,
          0.1,
          0.15000000000000002,
          0.2,
          0.25,
          0.30000000000000004,
          0.35000000000000003,
          0.4,
          0.45,
          0.5,
          0.55,
          0.6000000000000001,
          0.65,
          0.7000000000000001,
          0.75,
          0.8,
          0.8500000000000001,
          0.9,
          0.9500000000000001
         ],
         "y": [
          0.5239999999999999,
          0.49,
          0.513,
          0.581,
          0.515,
          0.534,
          0.521,
          0.515,
          0.5379999999999999,
          0.5270000000000001,
          0.511,
          0.545,
          0.513,
          0.5539999999999999,
          0.5219999999999999,
          0.514,
          0.5439999999999999,
          0.528,
          0.514,
          0.5099999999999999
         ]
        },
        {
         "mode": "lines+markers",
         "name": "T: 0.0",
         "type": "scatter",
         "x": [
          0,
          0.05,
          0.1,
          0.15000000000000002,
          0.2,
          0.25,
          0.30000000000000004,
          0.35000000000000003,
          0.4,
          0.45,
          0.5,
          0.55,
          0.6000000000000001,
          0.65,
          0.7000000000000001,
          0.75,
          0.8,
          0.8500000000000001,
          0.9,
          0.9500000000000001
         ],
         "y": [
          0.483,
          0.49300000000000005,
          0.517,
          0.519,
          0.503,
          0.5169999999999999,
          0.48700000000000004,
          0.493,
          0.507,
          0.49300000000000005,
          0.522,
          0.48499999999999993,
          0.49,
          0.5379999999999999,
          0.514,
          0.504,
          0.482,
          0.5219999999999999,
          0.518,
          0.5060000000000001
         ]
        },
        {
         "mode": "lines+markers",
         "name": "T: 0.05000000000000002",
         "type": "scatter",
         "x": [
          0,
          0.05,
          0.1,
          0.15000000000000002,
          0.2,
          0.25,
          0.30000000000000004,
          0.35000000000000003,
          0.4,
          0.45,
          0.5,
          0.55,
          0.6000000000000001,
          0.65,
          0.7000000000000001,
          0.75,
          0.8,
          0.8500000000000001,
          0.9,
          0.9500000000000001
         ],
         "y": [
          0.42699999999999994,
          0.44100000000000006,
          0.47,
          0.4389999999999999,
          0.45799999999999996,
          0.4599999999999999,
          0.475,
          0.47100000000000003,
          0.48300000000000004,
          0.473,
          0.48700000000000004,
          0.4749999999999999,
          0.4640000000000001,
          0.46599999999999997,
          0.4810000000000001,
          0.48700000000000004,
          0.467,
          0.468,
          0.461,
          0.4809999999999999
         ]
        },
        {
         "mode": "lines",
         "name": "y=x",
         "type": "scatter",
         "x": [
          0,
          0.05,
          0.1,
          0.15000000000000002,
          0.2,
          0.25,
          0.30000000000000004,
          0.35000000000000003,
          0.4,
          0.45,
          0.5,
          0.55,
          0.6000000000000001,
          0.65,
          0.7000000000000001,
          0.75,
          0.8,
          0.8500000000000001,
          0.9,
          0.9500000000000001
         ],
         "y": [
          0,
          0.05,
          0.1,
          0.15000000000000002,
          0.2,
          0.25,
          0.30000000000000004,
          0.35000000000000003,
          0.4,
          0.45,
          0.5,
          0.55,
          0.6000000000000001,
          0.65,
          0.7000000000000001,
          0.75,
          0.8,
          0.8500000000000001,
          0.9,
          0.9500000000000001
         ]
        }
       ],
       "layout": {
        "template": {
         "data": {
          "bar": [
           {
            "error_x": {
             "color": "#2a3f5f"
            },
            "error_y": {
             "color": "#2a3f5f"
            },
            "marker": {
             "line": {
              "color": "#E5ECF6",
              "width": 0.5
             },
             "pattern": {
              "fillmode": "overlay",
              "size": 10,
              "solidity": 0.2
             }
            },
            "type": "bar"
           }
          ],
          "barpolar": [
           {
            "marker": {
             "line": {
              "color": "#E5ECF6",
              "width": 0.5
             },
             "pattern": {
              "fillmode": "overlay",
              "size": 10,
              "solidity": 0.2
             }
            },
            "type": "barpolar"
           }
          ],
          "carpet": [
           {
            "aaxis": {
             "endlinecolor": "#2a3f5f",
             "gridcolor": "white",
             "linecolor": "white",
             "minorgridcolor": "white",
             "startlinecolor": "#2a3f5f"
            },
            "baxis": {
             "endlinecolor": "#2a3f5f",
             "gridcolor": "white",
             "linecolor": "white",
             "minorgridcolor": "white",
             "startlinecolor": "#2a3f5f"
            },
            "type": "carpet"
           }
          ],
          "choropleth": [
           {
            "colorbar": {
             "outlinewidth": 0,
             "ticks": ""
            },
            "type": "choropleth"
           }
          ],
          "contour": [
           {
            "colorbar": {
             "outlinewidth": 0,
             "ticks": ""
            },
            "colorscale": [
             [
              0,
              "#0d0887"
             ],
             [
              0.1111111111111111,
              "#46039f"
             ],
             [
              0.2222222222222222,
              "#7201a8"
             ],
             [
              0.3333333333333333,
              "#9c179e"
             ],
             [
              0.4444444444444444,
              "#bd3786"
             ],
             [
              0.5555555555555556,
              "#d8576b"
             ],
             [
              0.6666666666666666,
              "#ed7953"
             ],
             [
              0.7777777777777778,
              "#fb9f3a"
             ],
             [
              0.8888888888888888,
              "#fdca26"
             ],
             [
              1,
              "#f0f921"
             ]
            ],
            "type": "contour"
           }
          ],
          "contourcarpet": [
           {
            "colorbar": {
             "outlinewidth": 0,
             "ticks": ""
            },
            "type": "contourcarpet"
           }
          ],
          "heatmap": [
           {
            "colorbar": {
             "outlinewidth": 0,
             "ticks": ""
            },
            "colorscale": [
             [
              0,
              "#0d0887"
             ],
             [
              0.1111111111111111,
              "#46039f"
             ],
             [
              0.2222222222222222,
              "#7201a8"
             ],
             [
              0.3333333333333333,
              "#9c179e"
             ],
             [
              0.4444444444444444,
              "#bd3786"
             ],
             [
              0.5555555555555556,
              "#d8576b"
             ],
             [
              0.6666666666666666,
              "#ed7953"
             ],
             [
              0.7777777777777778,
              "#fb9f3a"
             ],
             [
              0.8888888888888888,
              "#fdca26"
             ],
             [
              1,
              "#f0f921"
             ]
            ],
            "type": "heatmap"
           }
          ],
          "heatmapgl": [
           {
            "colorbar": {
             "outlinewidth": 0,
             "ticks": ""
            },
            "colorscale": [
             [
              0,
              "#0d0887"
             ],
             [
              0.1111111111111111,
              "#46039f"
             ],
             [
              0.2222222222222222,
              "#7201a8"
             ],
             [
              0.3333333333333333,
              "#9c179e"
             ],
             [
              0.4444444444444444,
              "#bd3786"
             ],
             [
              0.5555555555555556,
              "#d8576b"
             ],
             [
              0.6666666666666666,
              "#ed7953"
             ],
             [
              0.7777777777777778,
              "#fb9f3a"
             ],
             [
              0.8888888888888888,
              "#fdca26"
             ],
             [
              1,
              "#f0f921"
             ]
            ],
            "type": "heatmapgl"
           }
          ],
          "histogram": [
           {
            "marker": {
             "pattern": {
              "fillmode": "overlay",
              "size": 10,
              "solidity": 0.2
             }
            },
            "type": "histogram"
           }
          ],
          "histogram2d": [
           {
            "colorbar": {
             "outlinewidth": 0,
             "ticks": ""
            },
            "colorscale": [
             [
              0,
              "#0d0887"
             ],
             [
              0.1111111111111111,
              "#46039f"
             ],
             [
              0.2222222222222222,
              "#7201a8"
             ],
             [
              0.3333333333333333,
              "#9c179e"
             ],
             [
              0.4444444444444444,
              "#bd3786"
             ],
             [
              0.5555555555555556,
              "#d8576b"
             ],
             [
              0.6666666666666666,
              "#ed7953"
             ],
             [
              0.7777777777777778,
              "#fb9f3a"
             ],
             [
              0.8888888888888888,
              "#fdca26"
             ],
             [
              1,
              "#f0f921"
             ]
            ],
            "type": "histogram2d"
           }
          ],
          "histogram2dcontour": [
           {
            "colorbar": {
             "outlinewidth": 0,
             "ticks": ""
            },
            "colorscale": [
             [
              0,
              "#0d0887"
             ],
             [
              0.1111111111111111,
              "#46039f"
             ],
             [
              0.2222222222222222,
              "#7201a8"
             ],
             [
              0.3333333333333333,
              "#9c179e"
             ],
             [
              0.4444444444444444,
              "#bd3786"
             ],
             [
              0.5555555555555556,
              "#d8576b"
             ],
             [
              0.6666666666666666,
              "#ed7953"
             ],
             [
              0.7777777777777778,
              "#fb9f3a"
             ],
             [
              0.8888888888888888,
              "#fdca26"
             ],
             [
              1,
              "#f0f921"
             ]
            ],
            "type": "histogram2dcontour"
           }
          ],
          "mesh3d": [
           {
            "colorbar": {
             "outlinewidth": 0,
             "ticks": ""
            },
            "type": "mesh3d"
           }
          ],
          "parcoords": [
           {
            "line": {
             "colorbar": {
              "outlinewidth": 0,
              "ticks": ""
             }
            },
            "type": "parcoords"
           }
          ],
          "pie": [
           {
            "automargin": true,
            "type": "pie"
           }
          ],
          "scatter": [
           {
            "fillpattern": {
             "fillmode": "overlay",
             "size": 10,
             "solidity": 0.2
            },
            "type": "scatter"
           }
          ],
          "scatter3d": [
           {
            "line": {
             "colorbar": {
              "outlinewidth": 0,
              "ticks": ""
             }
            },
            "marker": {
             "colorbar": {
              "outlinewidth": 0,
              "ticks": ""
             }
            },
            "type": "scatter3d"
           }
          ],
          "scattercarpet": [
           {
            "marker": {
             "colorbar": {
              "outlinewidth": 0,
              "ticks": ""
             }
            },
            "type": "scattercarpet"
           }
          ],
          "scattergeo": [
           {
            "marker": {
             "colorbar": {
              "outlinewidth": 0,
              "ticks": ""
             }
            },
            "type": "scattergeo"
           }
          ],
          "scattergl": [
           {
            "marker": {
             "colorbar": {
              "outlinewidth": 0,
              "ticks": ""
             }
            },
            "type": "scattergl"
           }
          ],
          "scattermapbox": [
           {
            "marker": {
             "colorbar": {
              "outlinewidth": 0,
              "ticks": ""
             }
            },
            "type": "scattermapbox"
           }
          ],
          "scatterpolar": [
           {
            "marker": {
             "colorbar": {
              "outlinewidth": 0,
              "ticks": ""
             }
            },
            "type": "scatterpolar"
           }
          ],
          "scatterpolargl": [
           {
            "marker": {
             "colorbar": {
              "outlinewidth": 0,
              "ticks": ""
             }
            },
            "type": "scatterpolargl"
           }
          ],
          "scatterternary": [
           {
            "marker": {
             "colorbar": {
              "outlinewidth": 0,
              "ticks": ""
             }
            },
            "type": "scatterternary"
           }
          ],
          "surface": [
           {
            "colorbar": {
             "outlinewidth": 0,
             "ticks": ""
            },
            "colorscale": [
             [
              0,
              "#0d0887"
             ],
             [
              0.1111111111111111,
              "#46039f"
             ],
             [
              0.2222222222222222,
              "#7201a8"
             ],
             [
              0.3333333333333333,
              "#9c179e"
             ],
             [
              0.4444444444444444,
              "#bd3786"
             ],
             [
              0.5555555555555556,
              "#d8576b"
             ],
             [
              0.6666666666666666,
              "#ed7953"
             ],
             [
              0.7777777777777778,
              "#fb9f3a"
             ],
             [
              0.8888888888888888,
              "#fdca26"
             ],
             [
              1,
              "#f0f921"
             ]
            ],
            "type": "surface"
           }
          ],
          "table": [
           {
            "cells": {
             "fill": {
              "color": "#EBF0F8"
             },
             "line": {
              "color": "white"
             }
            },
            "header": {
             "fill": {
              "color": "#C8D4E3"
             },
             "line": {
              "color": "white"
             }
            },
            "type": "table"
           }
          ]
         },
         "layout": {
          "annotationdefaults": {
           "arrowcolor": "#2a3f5f",
           "arrowhead": 0,
           "arrowwidth": 1
          },
          "autotypenumbers": "strict",
          "coloraxis": {
           "colorbar": {
            "outlinewidth": 0,
            "ticks": ""
           }
          },
          "colorscale": {
           "diverging": [
            [
             0,
             "#8e0152"
            ],
            [
             0.1,
             "#c51b7d"
            ],
            [
             0.2,
             "#de77ae"
            ],
            [
             0.3,
             "#f1b6da"
            ],
            [
             0.4,
             "#fde0ef"
            ],
            [
             0.5,
             "#f7f7f7"
            ],
            [
             0.6,
             "#e6f5d0"
            ],
            [
             0.7,
             "#b8e186"
            ],
            [
             0.8,
             "#7fbc41"
            ],
            [
             0.9,
             "#4d9221"
            ],
            [
             1,
             "#276419"
            ]
           ],
           "sequential": [
            [
             0,
             "#0d0887"
            ],
            [
             0.1111111111111111,
             "#46039f"
            ],
            [
             0.2222222222222222,
             "#7201a8"
            ],
            [
             0.3333333333333333,
             "#9c179e"
            ],
            [
             0.4444444444444444,
             "#bd3786"
            ],
            [
             0.5555555555555556,
             "#d8576b"
            ],
            [
             0.6666666666666666,
             "#ed7953"
            ],
            [
             0.7777777777777778,
             "#fb9f3a"
            ],
            [
             0.8888888888888888,
             "#fdca26"
            ],
            [
             1,
             "#f0f921"
            ]
           ],
           "sequentialminus": [
            [
             0,
             "#0d0887"
            ],
            [
             0.1111111111111111,
             "#46039f"
            ],
            [
             0.2222222222222222,
             "#7201a8"
            ],
            [
             0.3333333333333333,
             "#9c179e"
            ],
            [
             0.4444444444444444,
             "#bd3786"
            ],
            [
             0.5555555555555556,
             "#d8576b"
            ],
            [
             0.6666666666666666,
             "#ed7953"
            ],
            [
             0.7777777777777778,
             "#fb9f3a"
            ],
            [
             0.8888888888888888,
             "#fdca26"
            ],
            [
             1,
             "#f0f921"
            ]
           ]
          },
          "colorway": [
           "#636efa",
           "#EF553B",
           "#00cc96",
           "#ab63fa",
           "#FFA15A",
           "#19d3f3",
           "#FF6692",
           "#B6E880",
           "#FF97FF",
           "#FECB52"
          ],
          "font": {
           "color": "#2a3f5f"
          },
          "geo": {
           "bgcolor": "white",
           "lakecolor": "white",
           "landcolor": "#E5ECF6",
           "showlakes": true,
           "showland": true,
           "subunitcolor": "white"
          },
          "hoverlabel": {
           "align": "left"
          },
          "hovermode": "closest",
          "mapbox": {
           "style": "light"
          },
          "paper_bgcolor": "white",
          "plot_bgcolor": "#E5ECF6",
          "polar": {
           "angularaxis": {
            "gridcolor": "white",
            "linecolor": "white",
            "ticks": ""
           },
           "bgcolor": "#E5ECF6",
           "radialaxis": {
            "gridcolor": "white",
            "linecolor": "white",
            "ticks": ""
           }
          },
          "scene": {
           "xaxis": {
            "backgroundcolor": "#E5ECF6",
            "gridcolor": "white",
            "gridwidth": 2,
            "linecolor": "white",
            "showbackground": true,
            "ticks": "",
            "zerolinecolor": "white"
           },
           "yaxis": {
            "backgroundcolor": "#E5ECF6",
            "gridcolor": "white",
            "gridwidth": 2,
            "linecolor": "white",
            "showbackground": true,
            "ticks": "",
            "zerolinecolor": "white"
           },
           "zaxis": {
            "backgroundcolor": "#E5ECF6",
            "gridcolor": "white",
            "gridwidth": 2,
            "linecolor": "white",
            "showbackground": true,
            "ticks": "",
            "zerolinecolor": "white"
           }
          },
          "shapedefaults": {
           "line": {
            "color": "#2a3f5f"
           }
          },
          "ternary": {
           "aaxis": {
            "gridcolor": "white",
            "linecolor": "white",
            "ticks": ""
           },
           "baxis": {
            "gridcolor": "white",
            "linecolor": "white",
            "ticks": ""
           },
           "bgcolor": "#E5ECF6",
           "caxis": {
            "gridcolor": "white",
            "linecolor": "white",
            "ticks": ""
           }
          },
          "title": {
           "x": 0.05
          },
          "xaxis": {
           "automargin": true,
           "gridcolor": "white",
           "linecolor": "white",
           "ticks": "",
           "title": {
            "standoff": 15
           },
           "zerolinecolor": "white",
           "zerolinewidth": 2
          },
          "yaxis": {
           "automargin": true,
           "gridcolor": "white",
           "linecolor": "white",
           "ticks": "",
           "title": {
            "standoff": 15
           },
           "zerolinecolor": "white",
           "zerolinewidth": 2
          }
         }
        },
        "title": {
         "text": "T: 0.05000000000000002"
        },
        "xaxis": {
         "title": {
          "text": "Input activity"
         }
        },
        "yaxis": {
         "title": {
          "text": "Mean activity"
         }
        }
       }
      }
     },
     "metadata": {},
     "output_type": "display_data"
    }
   ],
   "source": [
    "# plot all the tested thresholds, by different lines in the xs vs. ys plot with plotly\n",
    "# x values are input activity, y values are mean activity of the second layer\n",
    "fig = go.Figure()\n",
    "for threshold, [xs, ys] in thresholds.items():\n",
    "    fig.add_trace(go.Scatter(x=xs, y=np.array(ys), mode='lines+markers', name=f\"T: {threshold}\"))\n",
    "\n",
    "fig.add_trace(go.Scatter(x=xs, y=xs, mode='lines', name=\"y=x\"))\n",
    "fig.update_xaxes(title=\"Input activity\")\n",
    "fig.update_yaxes(title=\"Mean activity\")\n",
    "fig.update_layout(title=f\"T: {threshold}\")\n",
    "fig.show()\n"
   ]
  },
  {
   "cell_type": "code",
   "execution_count": 5,
   "metadata": {},
   "outputs": [
    {
     "name": "stdout",
     "output_type": "stream",
     "text": [
      "(20,)\n"
     ]
    },
    {
     "data": {
      "application/vnd.plotly.v1+json": {
       "config": {
        "plotlyServerURL": "https://plot.ly"
       },
       "data": [
        {
         "mode": "lines+markers",
         "type": "scatter",
         "x": [
          0,
          0.05,
          0.1,
          0.15000000000000002,
          0.2,
          0.25,
          0.30000000000000004,
          0.35000000000000003,
          0.4,
          0.45,
          0.5,
          0.55,
          0.6000000000000001,
          0.65,
          0.7000000000000001,
          0.75,
          0.8,
          0.8500000000000001,
          0.9,
          0.9500000000000001
         ],
         "y": [
          0.05000000000000002,
          0.05000000000000002,
          0.05000000000000002,
          0.05000000000000002,
          0.05000000000000002,
          0.05000000000000002,
          0.05000000000000002,
          0.05000000000000002,
          0.05000000000000002,
          0.05000000000000002,
          -0.05,
          -0.05,
          -0.1,
          -0.05,
          -0.05,
          -0.1,
          -0.05,
          -0.05,
          -0.1,
          -0.1
         ]
        },
        {
         "mode": "lines+markers",
         "type": "scatter",
         "x": [
          0,
          0.05,
          0.1,
          0.15000000000000002,
          0.2,
          0.25,
          0.30000000000000004,
          0.35000000000000003,
          0.4,
          0.45,
          0.5,
          0.55,
          0.6000000000000001,
          0.65,
          0.7000000000000001,
          0.75,
          0.8,
          0.8500000000000001,
          0.9,
          0.9500000000000001
         ],
         "y": [
          0.42699999999999994,
          0.39100000000000007,
          0.37,
          0.28899999999999987,
          0.25799999999999995,
          0.2099999999999999,
          0.17499999999999993,
          0.121,
          0.08300000000000002,
          0.022999999999999965,
          0.01100000000000001,
          0.0050000000000000044,
          0.07600000000000007,
          0.09600000000000009,
          0.17800000000000016,
          0.20700000000000007,
          0.2560000000000001,
          0.32200000000000006,
          0.3510000000000001,
          0.43600000000000005
         ]
        },
        {
         "mode": "lines+markers",
         "type": "scatter",
         "x": [
          0,
          0.05,
          0.1,
          0.15000000000000002,
          0.2,
          0.25,
          0.30000000000000004,
          0.35000000000000003,
          0.4,
          0.45,
          0.5,
          0.55,
          0.6000000000000001,
          0.65,
          0.7000000000000001,
          0.75,
          0.8,
          0.8500000000000001,
          0.9,
          0.9500000000000001
         ],
         "y": [
          0.42699999999999994,
          0.44100000000000006,
          0.47,
          0.4389999999999999,
          0.45799999999999996,
          0.4599999999999999,
          0.475,
          0.47100000000000003,
          0.48300000000000004,
          0.473,
          0.48700000000000004,
          0.4749999999999999,
          0.4640000000000001,
          0.46599999999999997,
          0.4810000000000001,
          0.48700000000000004,
          0.467,
          0.468,
          0.461,
          0.4809999999999999
         ]
        },
        {
         "mode": "lines+markers",
         "type": "scatter",
         "x": [
          0,
          0.05,
          0.1,
          0.15000000000000002,
          0.2,
          0.25,
          0.30000000000000004,
          0.35000000000000003,
          0.4,
          0.45,
          0.5,
          0.55,
          0.6000000000000001,
          0.65,
          0.7000000000000001,
          0.75,
          0.8,
          0.8500000000000001,
          0.9,
          0.9500000000000001
         ],
         "y": []
        }
       ],
       "layout": {
        "template": {
         "data": {
          "bar": [
           {
            "error_x": {
             "color": "#2a3f5f"
            },
            "error_y": {
             "color": "#2a3f5f"
            },
            "marker": {
             "line": {
              "color": "#E5ECF6",
              "width": 0.5
             },
             "pattern": {
              "fillmode": "overlay",
              "size": 10,
              "solidity": 0.2
             }
            },
            "type": "bar"
           }
          ],
          "barpolar": [
           {
            "marker": {
             "line": {
              "color": "#E5ECF6",
              "width": 0.5
             },
             "pattern": {
              "fillmode": "overlay",
              "size": 10,
              "solidity": 0.2
             }
            },
            "type": "barpolar"
           }
          ],
          "carpet": [
           {
            "aaxis": {
             "endlinecolor": "#2a3f5f",
             "gridcolor": "white",
             "linecolor": "white",
             "minorgridcolor": "white",
             "startlinecolor": "#2a3f5f"
            },
            "baxis": {
             "endlinecolor": "#2a3f5f",
             "gridcolor": "white",
             "linecolor": "white",
             "minorgridcolor": "white",
             "startlinecolor": "#2a3f5f"
            },
            "type": "carpet"
           }
          ],
          "choropleth": [
           {
            "colorbar": {
             "outlinewidth": 0,
             "ticks": ""
            },
            "type": "choropleth"
           }
          ],
          "contour": [
           {
            "colorbar": {
             "outlinewidth": 0,
             "ticks": ""
            },
            "colorscale": [
             [
              0,
              "#0d0887"
             ],
             [
              0.1111111111111111,
              "#46039f"
             ],
             [
              0.2222222222222222,
              "#7201a8"
             ],
             [
              0.3333333333333333,
              "#9c179e"
             ],
             [
              0.4444444444444444,
              "#bd3786"
             ],
             [
              0.5555555555555556,
              "#d8576b"
             ],
             [
              0.6666666666666666,
              "#ed7953"
             ],
             [
              0.7777777777777778,
              "#fb9f3a"
             ],
             [
              0.8888888888888888,
              "#fdca26"
             ],
             [
              1,
              "#f0f921"
             ]
            ],
            "type": "contour"
           }
          ],
          "contourcarpet": [
           {
            "colorbar": {
             "outlinewidth": 0,
             "ticks": ""
            },
            "type": "contourcarpet"
           }
          ],
          "heatmap": [
           {
            "colorbar": {
             "outlinewidth": 0,
             "ticks": ""
            },
            "colorscale": [
             [
              0,
              "#0d0887"
             ],
             [
              0.1111111111111111,
              "#46039f"
             ],
             [
              0.2222222222222222,
              "#7201a8"
             ],
             [
              0.3333333333333333,
              "#9c179e"
             ],
             [
              0.4444444444444444,
              "#bd3786"
             ],
             [
              0.5555555555555556,
              "#d8576b"
             ],
             [
              0.6666666666666666,
              "#ed7953"
             ],
             [
              0.7777777777777778,
              "#fb9f3a"
             ],
             [
              0.8888888888888888,
              "#fdca26"
             ],
             [
              1,
              "#f0f921"
             ]
            ],
            "type": "heatmap"
           }
          ],
          "heatmapgl": [
           {
            "colorbar": {
             "outlinewidth": 0,
             "ticks": ""
            },
            "colorscale": [
             [
              0,
              "#0d0887"
             ],
             [
              0.1111111111111111,
              "#46039f"
             ],
             [
              0.2222222222222222,
              "#7201a8"
             ],
             [
              0.3333333333333333,
              "#9c179e"
             ],
             [
              0.4444444444444444,
              "#bd3786"
             ],
             [
              0.5555555555555556,
              "#d8576b"
             ],
             [
              0.6666666666666666,
              "#ed7953"
             ],
             [
              0.7777777777777778,
              "#fb9f3a"
             ],
             [
              0.8888888888888888,
              "#fdca26"
             ],
             [
              1,
              "#f0f921"
             ]
            ],
            "type": "heatmapgl"
           }
          ],
          "histogram": [
           {
            "marker": {
             "pattern": {
              "fillmode": "overlay",
              "size": 10,
              "solidity": 0.2
             }
            },
            "type": "histogram"
           }
          ],
          "histogram2d": [
           {
            "colorbar": {
             "outlinewidth": 0,
             "ticks": ""
            },
            "colorscale": [
             [
              0,
              "#0d0887"
             ],
             [
              0.1111111111111111,
              "#46039f"
             ],
             [
              0.2222222222222222,
              "#7201a8"
             ],
             [
              0.3333333333333333,
              "#9c179e"
             ],
             [
              0.4444444444444444,
              "#bd3786"
             ],
             [
              0.5555555555555556,
              "#d8576b"
             ],
             [
              0.6666666666666666,
              "#ed7953"
             ],
             [
              0.7777777777777778,
              "#fb9f3a"
             ],
             [
              0.8888888888888888,
              "#fdca26"
             ],
             [
              1,
              "#f0f921"
             ]
            ],
            "type": "histogram2d"
           }
          ],
          "histogram2dcontour": [
           {
            "colorbar": {
             "outlinewidth": 0,
             "ticks": ""
            },
            "colorscale": [
             [
              0,
              "#0d0887"
             ],
             [
              0.1111111111111111,
              "#46039f"
             ],
             [
              0.2222222222222222,
              "#7201a8"
             ],
             [
              0.3333333333333333,
              "#9c179e"
             ],
             [
              0.4444444444444444,
              "#bd3786"
             ],
             [
              0.5555555555555556,
              "#d8576b"
             ],
             [
              0.6666666666666666,
              "#ed7953"
             ],
             [
              0.7777777777777778,
              "#fb9f3a"
             ],
             [
              0.8888888888888888,
              "#fdca26"
             ],
             [
              1,
              "#f0f921"
             ]
            ],
            "type": "histogram2dcontour"
           }
          ],
          "mesh3d": [
           {
            "colorbar": {
             "outlinewidth": 0,
             "ticks": ""
            },
            "type": "mesh3d"
           }
          ],
          "parcoords": [
           {
            "line": {
             "colorbar": {
              "outlinewidth": 0,
              "ticks": ""
             }
            },
            "type": "parcoords"
           }
          ],
          "pie": [
           {
            "automargin": true,
            "type": "pie"
           }
          ],
          "scatter": [
           {
            "fillpattern": {
             "fillmode": "overlay",
             "size": 10,
             "solidity": 0.2
            },
            "type": "scatter"
           }
          ],
          "scatter3d": [
           {
            "line": {
             "colorbar": {
              "outlinewidth": 0,
              "ticks": ""
             }
            },
            "marker": {
             "colorbar": {
              "outlinewidth": 0,
              "ticks": ""
             }
            },
            "type": "scatter3d"
           }
          ],
          "scattercarpet": [
           {
            "marker": {
             "colorbar": {
              "outlinewidth": 0,
              "ticks": ""
             }
            },
            "type": "scattercarpet"
           }
          ],
          "scattergeo": [
           {
            "marker": {
             "colorbar": {
              "outlinewidth": 0,
              "ticks": ""
             }
            },
            "type": "scattergeo"
           }
          ],
          "scattergl": [
           {
            "marker": {
             "colorbar": {
              "outlinewidth": 0,
              "ticks": ""
             }
            },
            "type": "scattergl"
           }
          ],
          "scattermapbox": [
           {
            "marker": {
             "colorbar": {
              "outlinewidth": 0,
              "ticks": ""
             }
            },
            "type": "scattermapbox"
           }
          ],
          "scatterpolar": [
           {
            "marker": {
             "colorbar": {
              "outlinewidth": 0,
              "ticks": ""
             }
            },
            "type": "scatterpolar"
           }
          ],
          "scatterpolargl": [
           {
            "marker": {
             "colorbar": {
              "outlinewidth": 0,
              "ticks": ""
             }
            },
            "type": "scatterpolargl"
           }
          ],
          "scatterternary": [
           {
            "marker": {
             "colorbar": {
              "outlinewidth": 0,
              "ticks": ""
             }
            },
            "type": "scatterternary"
           }
          ],
          "surface": [
           {
            "colorbar": {
             "outlinewidth": 0,
             "ticks": ""
            },
            "colorscale": [
             [
              0,
              "#0d0887"
             ],
             [
              0.1111111111111111,
              "#46039f"
             ],
             [
              0.2222222222222222,
              "#7201a8"
             ],
             [
              0.3333333333333333,
              "#9c179e"
             ],
             [
              0.4444444444444444,
              "#bd3786"
             ],
             [
              0.5555555555555556,
              "#d8576b"
             ],
             [
              0.6666666666666666,
              "#ed7953"
             ],
             [
              0.7777777777777778,
              "#fb9f3a"
             ],
             [
              0.8888888888888888,
              "#fdca26"
             ],
             [
              1,
              "#f0f921"
             ]
            ],
            "type": "surface"
           }
          ],
          "table": [
           {
            "cells": {
             "fill": {
              "color": "#EBF0F8"
             },
             "line": {
              "color": "white"
             }
            },
            "header": {
             "fill": {
              "color": "#C8D4E3"
             },
             "line": {
              "color": "white"
             }
            },
            "type": "table"
           }
          ]
         },
         "layout": {
          "annotationdefaults": {
           "arrowcolor": "#2a3f5f",
           "arrowhead": 0,
           "arrowwidth": 1
          },
          "autotypenumbers": "strict",
          "coloraxis": {
           "colorbar": {
            "outlinewidth": 0,
            "ticks": ""
           }
          },
          "colorscale": {
           "diverging": [
            [
             0,
             "#8e0152"
            ],
            [
             0.1,
             "#c51b7d"
            ],
            [
             0.2,
             "#de77ae"
            ],
            [
             0.3,
             "#f1b6da"
            ],
            [
             0.4,
             "#fde0ef"
            ],
            [
             0.5,
             "#f7f7f7"
            ],
            [
             0.6,
             "#e6f5d0"
            ],
            [
             0.7,
             "#b8e186"
            ],
            [
             0.8,
             "#7fbc41"
            ],
            [
             0.9,
             "#4d9221"
            ],
            [
             1,
             "#276419"
            ]
           ],
           "sequential": [
            [
             0,
             "#0d0887"
            ],
            [
             0.1111111111111111,
             "#46039f"
            ],
            [
             0.2222222222222222,
             "#7201a8"
            ],
            [
             0.3333333333333333,
             "#9c179e"
            ],
            [
             0.4444444444444444,
             "#bd3786"
            ],
            [
             0.5555555555555556,
             "#d8576b"
            ],
            [
             0.6666666666666666,
             "#ed7953"
            ],
            [
             0.7777777777777778,
             "#fb9f3a"
            ],
            [
             0.8888888888888888,
             "#fdca26"
            ],
            [
             1,
             "#f0f921"
            ]
           ],
           "sequentialminus": [
            [
             0,
             "#0d0887"
            ],
            [
             0.1111111111111111,
             "#46039f"
            ],
            [
             0.2222222222222222,
             "#7201a8"
            ],
            [
             0.3333333333333333,
             "#9c179e"
            ],
            [
             0.4444444444444444,
             "#bd3786"
            ],
            [
             0.5555555555555556,
             "#d8576b"
            ],
            [
             0.6666666666666666,
             "#ed7953"
            ],
            [
             0.7777777777777778,
             "#fb9f3a"
            ],
            [
             0.8888888888888888,
             "#fdca26"
            ],
            [
             1,
             "#f0f921"
            ]
           ]
          },
          "colorway": [
           "#636efa",
           "#EF553B",
           "#00cc96",
           "#ab63fa",
           "#FFA15A",
           "#19d3f3",
           "#FF6692",
           "#B6E880",
           "#FF97FF",
           "#FECB52"
          ],
          "font": {
           "color": "#2a3f5f"
          },
          "geo": {
           "bgcolor": "white",
           "lakecolor": "white",
           "landcolor": "#E5ECF6",
           "showlakes": true,
           "showland": true,
           "subunitcolor": "white"
          },
          "hoverlabel": {
           "align": "left"
          },
          "hovermode": "closest",
          "mapbox": {
           "style": "light"
          },
          "paper_bgcolor": "white",
          "plot_bgcolor": "#E5ECF6",
          "polar": {
           "angularaxis": {
            "gridcolor": "white",
            "linecolor": "white",
            "ticks": ""
           },
           "bgcolor": "#E5ECF6",
           "radialaxis": {
            "gridcolor": "white",
            "linecolor": "white",
            "ticks": ""
           }
          },
          "scene": {
           "xaxis": {
            "backgroundcolor": "#E5ECF6",
            "gridcolor": "white",
            "gridwidth": 2,
            "linecolor": "white",
            "showbackground": true,
            "ticks": "",
            "zerolinecolor": "white"
           },
           "yaxis": {
            "backgroundcolor": "#E5ECF6",
            "gridcolor": "white",
            "gridwidth": 2,
            "linecolor": "white",
            "showbackground": true,
            "ticks": "",
            "zerolinecolor": "white"
           },
           "zaxis": {
            "backgroundcolor": "#E5ECF6",
            "gridcolor": "white",
            "gridwidth": 2,
            "linecolor": "white",
            "showbackground": true,
            "ticks": "",
            "zerolinecolor": "white"
           }
          },
          "shapedefaults": {
           "line": {
            "color": "#2a3f5f"
           }
          },
          "ternary": {
           "aaxis": {
            "gridcolor": "white",
            "linecolor": "white",
            "ticks": ""
           },
           "baxis": {
            "gridcolor": "white",
            "linecolor": "white",
            "ticks": ""
           },
           "bgcolor": "#E5ECF6",
           "caxis": {
            "gridcolor": "white",
            "linecolor": "white",
            "ticks": ""
           }
          },
          "title": {
           "x": 0.05
          },
          "xaxis": {
           "automargin": true,
           "gridcolor": "white",
           "linecolor": "white",
           "ticks": "",
           "title": {
            "standoff": 15
           },
           "zerolinecolor": "white",
           "zerolinewidth": 2
          },
          "yaxis": {
           "automargin": true,
           "gridcolor": "white",
           "linecolor": "white",
           "ticks": "",
           "title": {
            "standoff": 15
           },
           "zerolinecolor": "white",
           "zerolinewidth": 2
          }
         }
        },
        "title": {
         "text": "Closest Thresholds"
        }
       }
      }
     },
     "metadata": {},
     "output_type": "display_data"
    }
   ],
   "source": [
    "# extract for all input activities all the threshold where the mean activity is the closest to the input activity\n",
    "print(percentages.shape)\n",
    "closest_thresholds = [[], [], [], []]\n",
    "for input_percentage in percentages:\n",
    "    closest_threshold = None\n",
    "    closest_distance = float(\"inf\")\n",
    "    for threshold, [xs, ys] in thresholds.items():\n",
    "        distance = abs(input_percentage - ys[xs.index(input_percentage)])\n",
    "        if distance < closest_distance:\n",
    "            closest_distance = distance\n",
    "            closest_threshold = threshold\n",
    "    closest_thresholds[0].append(closest_threshold)\n",
    "    closest_thresholds[1].append(closest_distance)\n",
    "    closest_thresholds[2].append(ys[xs.index(input_percentage)])\n",
    "\n",
    "# plot the closest thresholds for each input activity\n",
    "fig = go.Figure()\n",
    "fig.update_layout(title=f\"Closest Thresholds\")\n",
    "fig.add_trace(go.Scatter(x=percentages, y=closest_thresholds[0], mode='lines+markers'))\n",
    "fig.add_trace(go.Scatter(x=percentages, y=closest_thresholds[1], mode='lines+markers'))\n",
    "fig.add_trace(go.Scatter(x=percentages, y=closest_thresholds[2], mode='lines+markers'))\n",
    "fig.add_trace(go.Scatter(x=percentages, y=closest_thresholds[3], mode='lines+markers'))\n",
    "fig.show()"
   ]
  },
  {
   "cell_type": "code",
   "execution_count": 6,
   "metadata": {},
   "outputs": [],
   "source": [
    "import json\n",
    "\n",
    "# save the thresholds to a json file\n",
    "with open(\"thresholds.json\", \"w\") as f:\n",
    "    json.dump(thresholds, f, indent=4)"
   ]
  },
  {
   "cell_type": "code",
   "execution_count": 7,
   "metadata": {},
   "outputs": [],
   "source": [
    "closest_thresholds = {}\n",
    "for input_percentage in percentages:\n",
    "    closest_thresholds[input_percentage] = {\"threshold\": None, \"distance\": float(\"inf\")}\n",
    "    closest_threshold = None\n",
    "    closest_distance = float(\"inf\")\n",
    "    for threshold, [xs, ys] in thresholds.items():\n",
    "        distance = abs(input_percentage - ys[xs.index(input_percentage)])\n",
    "        if distance < closest_distance:\n",
    "            closest_distance = distance\n",
    "            closest_threshold = threshold\n",
    "    closest_thresholds[input_percentage][\"threshold\"] = closest_threshold\n",
    "    closest_thresholds[input_percentage][\"distance\"] = closest_distance\n",
    "\n",
    "# save the closest thresholds to a json file\n",
    "with open(\"closest_thresholds.json\", \"w\") as f:\n",
    "    json.dump(closest_thresholds, f, indent=4)"
   ]
  }
 ],
 "metadata": {
  "kernelspec": {
   "display_name": "Python 3",
   "language": "python",
   "name": "python3"
  },
  "language_info": {
   "codemirror_mode": {
    "name": "ipython",
    "version": 3
   },
   "file_extension": ".py",
   "mimetype": "text/x-python",
   "name": "python",
   "nbconvert_exporter": "python",
   "pygments_lexer": "ipython3",
   "version": "3.11.9"
  }
 },
 "nbformat": 4,
 "nbformat_minor": 2
}
