{
 "cells": [
  {
   "cell_type": "code",
   "execution_count": null,
   "metadata": {},
   "outputs": [],
   "source": [
    "import numpy as np\n",
    "import networkx as nx\n",
    "from basic_neat import DAG as BDAG, plot_dag, uuid1\n",
    "from keras.datasets import mnist, boston_housing\n",
    "import numpy as np\n",
    "import matplotlib.pyplot as plt\n",
    "\n",
    "# Load the MNIST dataset\n",
    "(x_train, y_train), (x_test, y_test) = mnist.load_data()\n",
    "x_train = x_train.reshape(-1, 28*28) / 255\n",
    "x_test = x_test.reshape(-1, 28*28) / 255\n",
    "\n",
    "# convert Y to one-hot encoding\n",
    "y_train = np.eye(10)[y_train]\n",
    "\n",
    "# reduce the dataset size\n",
    "#x_train = x_train[:10000]\n",
    "#y_train = y_train[:10000]\n",
    "\n",
    "\"\"\" # Load the Boston Housing dataset\n",
    "(x_train, y_train), (x_test, y_test) = boston_housing.load_data()\n",
    "#x_train = x_train \n",
    "y_train = y_train.reshape(-1, 1) \"\"\"\n",
    "\n",
    "\n",
    "print(x_train.shape, y_train.shape)"
   ]
  },
  {
   "cell_type": "markdown",
   "metadata": {},
   "source": [
    "## Test with original DAG definition"
   ]
  },
  {
   "cell_type": "code",
   "execution_count": null,
   "metadata": {},
   "outputs": [],
   "source": [
    "# test creation of Basic DAG\n",
    "\"\"\" dag = BDAG(x_train.shape[1], y_train.shape[1], fully_connect=True) \"\"\""
   ]
  },
  {
   "cell_type": "code",
   "execution_count": null,
   "metadata": {},
   "outputs": [],
   "source": [
    "\"\"\" losses = dag.train(x_train, y_train, epochs=10, lr=0.01, batch_size=1024, verbose=1) \"\"\""
   ]
  },
  {
   "cell_type": "code",
   "execution_count": null,
   "metadata": {},
   "outputs": [],
   "source": [
    "\"\"\" # plot loss of DAG\n",
    "plt.plot(losses)\n",
    "plt.show() \"\"\""
   ]
  },
  {
   "cell_type": "code",
   "execution_count": null,
   "metadata": {},
   "outputs": [],
   "source": [
    "\"\"\" # do 10 samples of predictions and compare to actual\n",
    "for i in range(10):\n",
    "    print(np.argmax(dag.process([x_test[i]])), y_test[i]) \"\"\""
   ]
  },
  {
   "cell_type": "markdown",
   "metadata": {},
   "source": [
    "Improved Version"
   ]
  },
  {
   "cell_type": "code",
   "execution_count": null,
   "metadata": {},
   "outputs": [],
   "source": [
    "from dag_iproved import DAG\n",
    "\n",
    "dag = DAG(x_train.shape[1], y_train.shape[1], fully_connect=True)"
   ]
  },
  {
   "cell_type": "code",
   "execution_count": null,
   "metadata": {},
   "outputs": [],
   "source": [
    "losses = dag.train(x_train, y_train, epochs=100, lr=0.01, batch_size=2048, verbose=1)"
   ]
  },
  {
   "cell_type": "code",
   "execution_count": null,
   "metadata": {},
   "outputs": [],
   "source": [
    "# plot loss of DAG\n",
    "plt.plot(losses)\n",
    "plt.show()"
   ]
  },
  {
   "cell_type": "code",
   "execution_count": null,
   "metadata": {},
   "outputs": [],
   "source": [
    "# do 10 samples of predictions and compare to actual\n",
    "for i in range(10):\n",
    "    print(np.argmax(dag.process([x_test[i]])), y_test[i])"
   ]
  }
 ],
 "metadata": {
  "kernelspec": {
   "display_name": "Python 3",
   "language": "python",
   "name": "python3"
  },
  "language_info": {
   "codemirror_mode": {
    "name": "ipython",
    "version": 3
   },
   "file_extension": ".py",
   "mimetype": "text/x-python",
   "name": "python",
   "nbconvert_exporter": "python",
   "pygments_lexer": "ipython3",
   "version": "3.11.9"
  }
 },
 "nbformat": 4,
 "nbformat_minor": 2
}
