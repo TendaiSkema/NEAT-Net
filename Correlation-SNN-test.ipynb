{
 "cells": [
  {
   "cell_type": "code",
   "execution_count": 1,
   "metadata": {},
   "outputs": [],
   "source": [
    "import numpy as np\n",
    "import networkx as nx\n",
    "from SNN_neat import DAG, plot_dag, Layer\n",
    "from SNN_neat import ReLU, LeakyReLU, Sigmoid, Linear, Tanh\n",
    "from tqdm import tqdm\n",
    "import plotly.graph_objects as go\n",
    "from time import time"
   ]
  },
  {
   "cell_type": "code",
   "execution_count": 2,
   "metadata": {},
   "outputs": [],
   "source": [
    "WIDTH = 10\n",
    "NET_DEPH = 20\n",
    "\n",
    "dag = DAG(WIDTH, WIDTH)\n",
    "\n",
    "for i, node_id in enumerate(dag.input_nodes):\n",
    "    out_node = dag.output_nodes[i]\n",
    "    dag.add_connection(node_id, out_node)\n",
    "    \n",
    "    # add node in input connection\n",
    "    new_node = node_id\n",
    "    for i in range(NET_DEPH):\n",
    "        _, new_node = dag.add_node(new_node, out_node)\n",
    "\n",
    "dag.processing_order = dag.get_processing_order()\n",
    "for i, layer in enumerate(dag.processing_order[:-1]):\n",
    "    for node1 in layer:\n",
    "        for node2 in dag.processing_order[i+1]:\n",
    "            dag.add_connection(node1, node2)\n",
    "\n",
    "dag.processing_order = dag.get_processing_order() "
   ]
  },
  {
   "cell_type": "code",
   "execution_count": 3,
   "metadata": {},
   "outputs": [],
   "source": [
    "def calculate_correlation(layer1: Layer, layer2: Layer, dag: DAG):\n",
    "    a1 = []\n",
    "    for node in layer1:\n",
    "        activity = dag.get_node(node).activity\n",
    "        activity = np.where(activity == 0, -1, activity)\n",
    "        a1.append(np.average(activity))\n",
    "\n",
    "    a2 = []\n",
    "    for node in layer2:\n",
    "        activity = dag.get_node(node).activity\n",
    "        activity = np.where(activity == 0, -1, activity)\n",
    "        a2.append(np.average(activity))\n",
    "\n",
    "    return np.abs(np.average((a1 - np.average(a1)) * (a2 - np.average(a2))))"
   ]
  },
  {
   "cell_type": "code",
   "execution_count": 4,
   "metadata": {},
   "outputs": [
    {
     "name": "stderr",
     "output_type": "stream",
     "text": [
      "100%|██████████| 30/30 [00:16<00:00,  1.77it/s]"
     ]
    },
    {
     "name": "stdout",
     "output_type": "stream",
     "text": [
      "(100,) (100,)\n"
     ]
    },
    {
     "name": "stderr",
     "output_type": "stream",
     "text": [
      "\n"
     ]
    }
   ],
   "source": [
    "THRESHOLD = 0.5\n",
    "ITERATIONS = 100\n",
    "\n",
    "results = {}\n",
    "\n",
    "densities = []\n",
    "for i in range(ITERATIONS):\n",
    "    input_density = np.random.rand() * 0.6 + 0.1\n",
    "    densities.append([int(np.random.rand() < input_density) for _ in range(WIDTH)])\n",
    "\n",
    "activity_results = {i: [[] for _ in range(len(densities))] for i in range(len(dag.processing_order))}\n",
    "activity_results[0] = np.average(densities, axis=1)\n",
    "\n",
    "\n",
    "for eb in tqdm(np.arange(0, 1.5, 0.05)):\n",
    "    results[eb] = []\n",
    "    # iterate multipple times\n",
    "    for i, d in enumerate(densities):\n",
    "        dag.reset()\n",
    "        inputs = d\n",
    "\n",
    "        for layer in dag.processing_order:\n",
    "            for nodeId in layer:\n",
    "                node = dag.get_node(nodeId)\n",
    "                energy = (np.random.rand() * 2 - 1) * eb # <- energy bias \n",
    "                node.weights = np.array([ (np.random.rand() * 2 - 1) for _ in range(WIDTH) ]) * energy\n",
    "                node.bias = 0 #1 / (WIDTH + 1) # + energy\n",
    "                node.threshold = THRESHOLD #+ energy\n",
    "\n",
    "        # process the network #####\n",
    "        dag.process_once(inputs)\n",
    "        ###########################\n",
    "\n",
    "        # get layer activities\n",
    "        for l, layer in enumerate(dag.processing_order[1:], 1):\n",
    "            la = []\n",
    "            for node in layer:\n",
    "                la.append(np.average(dag.get_node(node).activity))\n",
    "                # index layer, index density number, append the average activity\n",
    "            activity_results[l][i].append(la)\n",
    "\n",
    " \n",
    "    # calculate correlations for all nodes to the node in the layer before\n",
    "    correlations = []\n",
    "    input_node_id = dag.input_nodes[0]\n",
    "    for i, layer in enumerate(dag.processing_order[1:]):\n",
    "        correlation = calculate_correlation(dag.processing_order[0], layer, dag)\n",
    "        results[eb].append(correlation)\n",
    "\n",
    "# calculate average activity for each layer for each density\n",
    "for i, layer in enumerate(dag.processing_order[1:], 1):\n",
    "    for j in range(len(densities)):\n",
    "        activity_results[i][j] = np.average(activity_results[i][j])\n",
    "        \n",
    "\n",
    "print(np.array(activity_results[0]).shape,np.array(activity_results[1]).shape)"
   ]
  },
  {
   "cell_type": "code",
   "execution_count": 5,
   "metadata": {},
   "outputs": [
    {
     "data": {
      "application/vnd.plotly.v1+json": {
       "config": {
        "plotlyServerURL": "https://plot.ly"
       },
       "data": [
        {
         "mode": "lines+markers",
         "name": "eb: 0.0",
         "type": "scatter",
         "x": [
          1,
          2,
          3,
          4,
          5,
          6,
          7,
          8,
          9,
          10,
          11,
          12,
          13,
          14,
          15,
          16,
          17,
          18,
          19,
          20,
          21
         ],
         "y": [
          0,
          0,
          0,
          0,
          0,
          0,
          0,
          0,
          0,
          0,
          0,
          0,
          0,
          0,
          0,
          0,
          0,
          0,
          0,
          0,
          0
         ]
        },
        {
         "mode": "lines+markers",
         "name": "eb: 0.05",
         "type": "scatter",
         "x": [
          1,
          2,
          3,
          4,
          5,
          6,
          7,
          8,
          9,
          10,
          11,
          12,
          13,
          14,
          15,
          16,
          17,
          18,
          19,
          20,
          21
         ],
         "y": [
          0,
          0,
          0,
          0,
          0,
          0,
          0,
          0,
          0,
          0,
          0,
          0,
          0,
          0,
          0,
          0,
          0,
          0,
          0,
          0,
          0
         ]
        },
        {
         "mode": "lines+markers",
         "name": "eb: 0.1",
         "type": "scatter",
         "x": [
          1,
          2,
          3,
          4,
          5,
          6,
          7,
          8,
          9,
          10,
          11,
          12,
          13,
          14,
          15,
          16,
          17,
          18,
          19,
          20,
          21
         ],
         "y": [
          0,
          0,
          0,
          0,
          0,
          0,
          0,
          0,
          0,
          0,
          0,
          0,
          0,
          0,
          0,
          0,
          0,
          0,
          0,
          0,
          0
         ]
        },
        {
         "mode": "lines+markers",
         "name": "eb: 0.15000000000000002",
         "type": "scatter",
         "x": [
          1,
          2,
          3,
          4,
          5,
          6,
          7,
          8,
          9,
          10,
          11,
          12,
          13,
          14,
          15,
          16,
          17,
          18,
          19,
          20,
          21
         ],
         "y": [
          0,
          0,
          0,
          0,
          0,
          0,
          0,
          0,
          0,
          0,
          0,
          0,
          0,
          0,
          0,
          0,
          0,
          0,
          0,
          0,
          0
         ]
        },
        {
         "mode": "lines+markers",
         "name": "eb: 0.2",
         "type": "scatter",
         "x": [
          1,
          2,
          3,
          4,
          5,
          6,
          7,
          8,
          9,
          10,
          11,
          12,
          13,
          14,
          15,
          16,
          17,
          18,
          19,
          20,
          21
         ],
         "y": [
          0,
          0,
          0,
          0,
          0,
          0,
          0,
          0,
          0,
          0,
          0,
          0,
          0,
          0,
          0,
          0,
          0,
          0,
          0,
          0,
          0
         ]
        },
        {
         "mode": "lines+markers",
         "name": "eb: 0.25",
         "type": "scatter",
         "x": [
          1,
          2,
          3,
          4,
          5,
          6,
          7,
          8,
          9,
          10,
          11,
          12,
          13,
          14,
          15,
          16,
          17,
          18,
          19,
          20,
          21
         ],
         "y": [
          0,
          0,
          0,
          0,
          0,
          0,
          0,
          0,
          0,
          0,
          0,
          0,
          0,
          0,
          0,
          0,
          0,
          0,
          0,
          0,
          0
         ]
        },
        {
         "mode": "lines+markers",
         "name": "eb: 0.30000000000000004",
         "type": "scatter",
         "x": [
          1,
          2,
          3,
          4,
          5,
          6,
          7,
          8,
          9,
          10,
          11,
          12,
          13,
          14,
          15,
          16,
          17,
          18,
          19,
          20,
          21
         ],
         "y": [
          0,
          0,
          0,
          0,
          0,
          0,
          0,
          0,
          0,
          0,
          0,
          0,
          0,
          0,
          0,
          0,
          0,
          0,
          0,
          0,
          0
         ]
        },
        {
         "mode": "lines+markers",
         "name": "eb: 0.35000000000000003",
         "type": "scatter",
         "x": [
          1,
          2,
          3,
          4,
          5,
          6,
          7,
          8,
          9,
          10,
          11,
          12,
          13,
          14,
          15,
          16,
          17,
          18,
          19,
          20,
          21
         ],
         "y": [
          0.030000000000000006,
          0,
          0,
          0,
          0,
          0,
          0,
          0,
          0,
          0,
          0,
          0,
          0,
          0,
          0,
          0,
          0,
          0,
          0,
          0,
          0
         ]
        },
        {
         "mode": "lines+markers",
         "name": "eb: 0.4",
         "type": "scatter",
         "x": [
          1,
          2,
          3,
          4,
          5,
          6,
          7,
          8,
          9,
          10,
          11,
          12,
          13,
          14,
          15,
          16,
          17,
          18,
          19,
          20,
          21
         ],
         "y": [
          0,
          0,
          0,
          0,
          0,
          0,
          0,
          0,
          0,
          0,
          0,
          0,
          0,
          0,
          0,
          0,
          0,
          0,
          0,
          0,
          0
         ]
        },
        {
         "mode": "lines+markers",
         "name": "eb: 0.45",
         "type": "scatter",
         "x": [
          1,
          2,
          3,
          4,
          5,
          6,
          7,
          8,
          9,
          10,
          11,
          12,
          13,
          14,
          15,
          16,
          17,
          18,
          19,
          20,
          21
         ],
         "y": [
          0.030000000000000006,
          0,
          0,
          0,
          0,
          0,
          0,
          0,
          0,
          0,
          0,
          0,
          0,
          0,
          0,
          0,
          0,
          0,
          0,
          0,
          0
         ]
        },
        {
         "mode": "lines+markers",
         "name": "eb: 0.5",
         "type": "scatter",
         "x": [
          1,
          2,
          3,
          4,
          5,
          6,
          7,
          8,
          9,
          10,
          11,
          12,
          13,
          14,
          15,
          16,
          17,
          18,
          19,
          20,
          21
         ],
         "y": [
          0.030000000000000006,
          0,
          0,
          0,
          0,
          0,
          0,
          0,
          0,
          0,
          0,
          0,
          0,
          0,
          0,
          0,
          0,
          0,
          0,
          0,
          0
         ]
        },
        {
         "mode": "lines+markers",
         "name": "eb: 0.55",
         "type": "scatter",
         "x": [
          1,
          2,
          3,
          4,
          5,
          6,
          7,
          8,
          9,
          10,
          11,
          12,
          13,
          14,
          15,
          16,
          17,
          18,
          19,
          20,
          21
         ],
         "y": [
          0,
          0,
          0,
          0,
          0,
          0,
          0,
          0,
          0,
          0,
          0,
          0,
          0,
          0,
          0,
          0,
          0,
          0,
          0,
          0,
          0
         ]
        },
        {
         "mode": "lines+markers",
         "name": "eb: 0.6000000000000001",
         "type": "scatter",
         "x": [
          1,
          2,
          3,
          4,
          5,
          6,
          7,
          8,
          9,
          10,
          11,
          12,
          13,
          14,
          15,
          16,
          17,
          18,
          19,
          20,
          21
         ],
         "y": [
          0.030000000000000006,
          0,
          0,
          0,
          0,
          0,
          0,
          0,
          0,
          0,
          0,
          0,
          0,
          0,
          0,
          0,
          0,
          0,
          0,
          0,
          0
         ]
        },
        {
         "mode": "lines+markers",
         "name": "eb: 0.65",
         "type": "scatter",
         "x": [
          1,
          2,
          3,
          4,
          5,
          6,
          7,
          8,
          9,
          10,
          11,
          12,
          13,
          14,
          15,
          16,
          17,
          18,
          19,
          20,
          21
         ],
         "y": [
          0.039999999999999994,
          0,
          0,
          0,
          0,
          0,
          0,
          0,
          0,
          0,
          0,
          0,
          0,
          0,
          0,
          0,
          0,
          0,
          0,
          0,
          0
         ]
        },
        {
         "mode": "lines+markers",
         "name": "eb: 0.7000000000000001",
         "type": "scatter",
         "x": [
          1,
          2,
          3,
          4,
          5,
          6,
          7,
          8,
          9,
          10,
          11,
          12,
          13,
          14,
          15,
          16,
          17,
          18,
          19,
          20,
          21
         ],
         "y": [
          0.030000000000000006,
          0,
          0,
          0,
          0,
          0,
          0,
          0,
          0,
          0,
          0,
          0,
          0,
          0,
          0,
          0,
          0,
          0,
          0,
          0,
          0
         ]
        },
        {
         "mode": "lines+markers",
         "name": "eb: 0.75",
         "type": "scatter",
         "x": [
          1,
          2,
          3,
          4,
          5,
          6,
          7,
          8,
          9,
          10,
          11,
          12,
          13,
          14,
          15,
          16,
          17,
          18,
          19,
          20,
          21
         ],
         "y": [
          0,
          0,
          0,
          0,
          0,
          0,
          0,
          0,
          0,
          0,
          0,
          0,
          0,
          0,
          0,
          0,
          0,
          0,
          0,
          0,
          0
         ]
        },
        {
         "mode": "lines+markers",
         "name": "eb: 0.8",
         "type": "scatter",
         "x": [
          1,
          2,
          3,
          4,
          5,
          6,
          7,
          8,
          9,
          10,
          11,
          12,
          13,
          14,
          15,
          16,
          17,
          18,
          19,
          20,
          21
         ],
         "y": [
          0.05,
          0.030000000000000006,
          0,
          0,
          0,
          0,
          0,
          0,
          0,
          0,
          0,
          0,
          0,
          0,
          0,
          0,
          0,
          0,
          0,
          0,
          0
         ]
        },
        {
         "mode": "lines+markers",
         "name": "eb: 0.8500000000000001",
         "type": "scatter",
         "x": [
          1,
          2,
          3,
          4,
          5,
          6,
          7,
          8,
          9,
          10,
          11,
          12,
          13,
          14,
          15,
          16,
          17,
          18,
          19,
          20,
          21
         ],
         "y": [
          0.009999999999999992,
          0.039999999999999994,
          0.07,
          0,
          0,
          0,
          0,
          0,
          0,
          0,
          0,
          0,
          0,
          0,
          0,
          0,
          0,
          0,
          0,
          0,
          0
         ]
        },
        {
         "mode": "lines+markers",
         "name": "eb: 0.9",
         "type": "scatter",
         "x": [
          1,
          2,
          3,
          4,
          5,
          6,
          7,
          8,
          9,
          10,
          11,
          12,
          13,
          14,
          15,
          16,
          17,
          18,
          19,
          20,
          21
         ],
         "y": [
          0.09,
          0.07,
          0.14,
          0.13999999999999999,
          0.09,
          0.039999999999999994,
          0,
          0,
          0,
          0,
          0,
          0,
          0,
          0,
          0,
          0,
          0,
          0,
          0,
          0,
          0
         ]
        },
        {
         "mode": "lines+markers",
         "name": "eb: 0.9500000000000001",
         "type": "scatter",
         "x": [
          1,
          2,
          3,
          4,
          5,
          6,
          7,
          8,
          9,
          10,
          11,
          12,
          13,
          14,
          15,
          16,
          17,
          18,
          19,
          20,
          21
         ],
         "y": [
          0.009999999999999992,
          0.06000000000000001,
          0.030000000000000006,
          0,
          0,
          0,
          0,
          0,
          0,
          0,
          0,
          0,
          0,
          0,
          0,
          0,
          0,
          0,
          0,
          0,
          0
         ]
        },
        {
         "mode": "lines+markers",
         "name": "eb: 1.0",
         "type": "scatter",
         "x": [
          1,
          2,
          3,
          4,
          5,
          6,
          7,
          8,
          9,
          10,
          11,
          12,
          13,
          14,
          15,
          16,
          17,
          18,
          19,
          20,
          21
         ],
         "y": [
          0.08000000000000002,
          0.030000000000000006,
          0,
          0,
          0,
          0,
          0,
          0,
          0,
          0,
          0,
          0,
          0,
          0,
          0,
          0,
          0,
          0,
          0,
          0,
          0
         ]
        },
        {
         "mode": "lines+markers",
         "name": "eb: 1.05",
         "type": "scatter",
         "x": [
          1,
          2,
          3,
          4,
          5,
          6,
          7,
          8,
          9,
          10,
          11,
          12,
          13,
          14,
          15,
          16,
          17,
          18,
          19,
          20,
          21
         ],
         "y": [
          0.030000000000000006,
          0.030000000000000006,
          0,
          0,
          0,
          0,
          0,
          0,
          0,
          0,
          0,
          0,
          0,
          0,
          0,
          0,
          0,
          0,
          0,
          0,
          0
         ]
        },
        {
         "mode": "lines+markers",
         "name": "eb: 1.1",
         "type": "scatter",
         "x": [
          1,
          2,
          3,
          4,
          5,
          6,
          7,
          8,
          9,
          10,
          11,
          12,
          13,
          14,
          15,
          16,
          17,
          18,
          19,
          20,
          21
         ],
         "y": [
          0.039999999999999994,
          0,
          0,
          0,
          0,
          0,
          0,
          0,
          0,
          0,
          0,
          0,
          0,
          0,
          0,
          0,
          0,
          0,
          0,
          0,
          0
         ]
        },
        {
         "mode": "lines+markers",
         "name": "eb: 1.1500000000000001",
         "type": "scatter",
         "x": [
          1,
          2,
          3,
          4,
          5,
          6,
          7,
          8,
          9,
          10,
          11,
          12,
          13,
          14,
          15,
          16,
          17,
          18,
          19,
          20,
          21
         ],
         "y": [
          0.11000000000000001,
          0.019999999999999997,
          0.07,
          0,
          0,
          0,
          0,
          0,
          0,
          0,
          0,
          0,
          0,
          0,
          0,
          0,
          0,
          0,
          0,
          0,
          0
         ]
        },
        {
         "mode": "lines+markers",
         "name": "eb: 1.2000000000000002",
         "type": "scatter",
         "x": [
          1,
          2,
          3,
          4,
          5,
          6,
          7,
          8,
          9,
          10,
          11,
          12,
          13,
          14,
          15,
          16,
          17,
          18,
          19,
          20,
          21
         ],
         "y": [
          0.04,
          0,
          0,
          0,
          0,
          0,
          0,
          0,
          0,
          0,
          0,
          0,
          0,
          0,
          0,
          0,
          0,
          0,
          0,
          0,
          0
         ]
        },
        {
         "mode": "lines+markers",
         "name": "eb: 1.25",
         "type": "scatter",
         "x": [
          1,
          2,
          3,
          4,
          5,
          6,
          7,
          8,
          9,
          10,
          11,
          12,
          13,
          14,
          15,
          16,
          17,
          18,
          19,
          20,
          21
         ],
         "y": [
          0.12,
          0.09,
          0.06000000000000001,
          0,
          0,
          0,
          0,
          0,
          0,
          0,
          0,
          0,
          0,
          0,
          0,
          0,
          0,
          0,
          0,
          0,
          0
         ]
        },
        {
         "mode": "lines+markers",
         "name": "eb: 1.3",
         "type": "scatter",
         "x": [
          1,
          2,
          3,
          4,
          5,
          6,
          7,
          8,
          9,
          10,
          11,
          12,
          13,
          14,
          15,
          16,
          17,
          18,
          19,
          20,
          21
         ],
         "y": [
          0.06000000000000001,
          0.030000000000000006,
          0.030000000000000006,
          0.030000000000000006,
          0.06000000000000001,
          0.030000000000000006,
          0.01999999999999999,
          0.06000000000000001,
          0.10999999999999999,
          0.10999999999999999,
          0.06000000000000001,
          0.06000000000000001,
          0,
          0,
          0,
          0,
          0,
          0,
          0,
          0,
          0
         ]
        },
        {
         "mode": "lines+markers",
         "name": "eb: 1.35",
         "type": "scatter",
         "x": [
          1,
          2,
          3,
          4,
          5,
          6,
          7,
          8,
          9,
          10,
          11,
          12,
          13,
          14,
          15,
          16,
          17,
          18,
          19,
          20,
          21
         ],
         "y": [
          0.030000000000000006,
          0,
          0,
          0,
          0,
          0,
          0,
          0,
          0,
          0,
          0,
          0,
          0,
          0,
          0,
          0,
          0,
          0,
          0,
          0,
          0
         ]
        },
        {
         "mode": "lines+markers",
         "name": "eb: 1.4000000000000001",
         "type": "scatter",
         "x": [
          1,
          2,
          3,
          4,
          5,
          6,
          7,
          8,
          9,
          10,
          11,
          12,
          13,
          14,
          15,
          16,
          17,
          18,
          19,
          20,
          21
         ],
         "y": [
          0.01999999999999999,
          0.12,
          0.09,
          0.06000000000000001,
          0.030000000000000006,
          0,
          0,
          0,
          0,
          0,
          0,
          0,
          0,
          0,
          0,
          0,
          0,
          0,
          0,
          0,
          0
         ]
        },
        {
         "mode": "lines+markers",
         "name": "eb: 1.4500000000000002",
         "type": "scatter",
         "x": [
          1,
          2,
          3,
          4,
          5,
          6,
          7,
          8,
          9,
          10,
          11,
          12,
          13,
          14,
          15,
          16,
          17,
          18,
          19,
          20,
          21
         ],
         "y": [
          0.01999999999999999,
          0.05,
          0.12,
          0.030000000000000006,
          0.010000000000000005,
          0.08,
          0.030000000000000006,
          0.030000000000000006,
          0.12,
          0.14,
          0.009999999999999995,
          0.009999999999999992,
          0.030000000000000006,
          0.030000000000000006,
          0.13999999999999999,
          0.039999999999999994,
          0,
          0,
          0,
          0,
          0
         ]
        }
       ],
       "layout": {
        "template": {
         "data": {
          "bar": [
           {
            "error_x": {
             "color": "#2a3f5f"
            },
            "error_y": {
             "color": "#2a3f5f"
            },
            "marker": {
             "line": {
              "color": "#E5ECF6",
              "width": 0.5
             },
             "pattern": {
              "fillmode": "overlay",
              "size": 10,
              "solidity": 0.2
             }
            },
            "type": "bar"
           }
          ],
          "barpolar": [
           {
            "marker": {
             "line": {
              "color": "#E5ECF6",
              "width": 0.5
             },
             "pattern": {
              "fillmode": "overlay",
              "size": 10,
              "solidity": 0.2
             }
            },
            "type": "barpolar"
           }
          ],
          "carpet": [
           {
            "aaxis": {
             "endlinecolor": "#2a3f5f",
             "gridcolor": "white",
             "linecolor": "white",
             "minorgridcolor": "white",
             "startlinecolor": "#2a3f5f"
            },
            "baxis": {
             "endlinecolor": "#2a3f5f",
             "gridcolor": "white",
             "linecolor": "white",
             "minorgridcolor": "white",
             "startlinecolor": "#2a3f5f"
            },
            "type": "carpet"
           }
          ],
          "choropleth": [
           {
            "colorbar": {
             "outlinewidth": 0,
             "ticks": ""
            },
            "type": "choropleth"
           }
          ],
          "contour": [
           {
            "colorbar": {
             "outlinewidth": 0,
             "ticks": ""
            },
            "colorscale": [
             [
              0,
              "#0d0887"
             ],
             [
              0.1111111111111111,
              "#46039f"
             ],
             [
              0.2222222222222222,
              "#7201a8"
             ],
             [
              0.3333333333333333,
              "#9c179e"
             ],
             [
              0.4444444444444444,
              "#bd3786"
             ],
             [
              0.5555555555555556,
              "#d8576b"
             ],
             [
              0.6666666666666666,
              "#ed7953"
             ],
             [
              0.7777777777777778,
              "#fb9f3a"
             ],
             [
              0.8888888888888888,
              "#fdca26"
             ],
             [
              1,
              "#f0f921"
             ]
            ],
            "type": "contour"
           }
          ],
          "contourcarpet": [
           {
            "colorbar": {
             "outlinewidth": 0,
             "ticks": ""
            },
            "type": "contourcarpet"
           }
          ],
          "heatmap": [
           {
            "colorbar": {
             "outlinewidth": 0,
             "ticks": ""
            },
            "colorscale": [
             [
              0,
              "#0d0887"
             ],
             [
              0.1111111111111111,
              "#46039f"
             ],
             [
              0.2222222222222222,
              "#7201a8"
             ],
             [
              0.3333333333333333,
              "#9c179e"
             ],
             [
              0.4444444444444444,
              "#bd3786"
             ],
             [
              0.5555555555555556,
              "#d8576b"
             ],
             [
              0.6666666666666666,
              "#ed7953"
             ],
             [
              0.7777777777777778,
              "#fb9f3a"
             ],
             [
              0.8888888888888888,
              "#fdca26"
             ],
             [
              1,
              "#f0f921"
             ]
            ],
            "type": "heatmap"
           }
          ],
          "heatmapgl": [
           {
            "colorbar": {
             "outlinewidth": 0,
             "ticks": ""
            },
            "colorscale": [
             [
              0,
              "#0d0887"
             ],
             [
              0.1111111111111111,
              "#46039f"
             ],
             [
              0.2222222222222222,
              "#7201a8"
             ],
             [
              0.3333333333333333,
              "#9c179e"
             ],
             [
              0.4444444444444444,
              "#bd3786"
             ],
             [
              0.5555555555555556,
              "#d8576b"
             ],
             [
              0.6666666666666666,
              "#ed7953"
             ],
             [
              0.7777777777777778,
              "#fb9f3a"
             ],
             [
              0.8888888888888888,
              "#fdca26"
             ],
             [
              1,
              "#f0f921"
             ]
            ],
            "type": "heatmapgl"
           }
          ],
          "histogram": [
           {
            "marker": {
             "pattern": {
              "fillmode": "overlay",
              "size": 10,
              "solidity": 0.2
             }
            },
            "type": "histogram"
           }
          ],
          "histogram2d": [
           {
            "colorbar": {
             "outlinewidth": 0,
             "ticks": ""
            },
            "colorscale": [
             [
              0,
              "#0d0887"
             ],
             [
              0.1111111111111111,
              "#46039f"
             ],
             [
              0.2222222222222222,
              "#7201a8"
             ],
             [
              0.3333333333333333,
              "#9c179e"
             ],
             [
              0.4444444444444444,
              "#bd3786"
             ],
             [
              0.5555555555555556,
              "#d8576b"
             ],
             [
              0.6666666666666666,
              "#ed7953"
             ],
             [
              0.7777777777777778,
              "#fb9f3a"
             ],
             [
              0.8888888888888888,
              "#fdca26"
             ],
             [
              1,
              "#f0f921"
             ]
            ],
            "type": "histogram2d"
           }
          ],
          "histogram2dcontour": [
           {
            "colorbar": {
             "outlinewidth": 0,
             "ticks": ""
            },
            "colorscale": [
             [
              0,
              "#0d0887"
             ],
             [
              0.1111111111111111,
              "#46039f"
             ],
             [
              0.2222222222222222,
              "#7201a8"
             ],
             [
              0.3333333333333333,
              "#9c179e"
             ],
             [
              0.4444444444444444,
              "#bd3786"
             ],
             [
              0.5555555555555556,
              "#d8576b"
             ],
             [
              0.6666666666666666,
              "#ed7953"
             ],
             [
              0.7777777777777778,
              "#fb9f3a"
             ],
             [
              0.8888888888888888,
              "#fdca26"
             ],
             [
              1,
              "#f0f921"
             ]
            ],
            "type": "histogram2dcontour"
           }
          ],
          "mesh3d": [
           {
            "colorbar": {
             "outlinewidth": 0,
             "ticks": ""
            },
            "type": "mesh3d"
           }
          ],
          "parcoords": [
           {
            "line": {
             "colorbar": {
              "outlinewidth": 0,
              "ticks": ""
             }
            },
            "type": "parcoords"
           }
          ],
          "pie": [
           {
            "automargin": true,
            "type": "pie"
           }
          ],
          "scatter": [
           {
            "fillpattern": {
             "fillmode": "overlay",
             "size": 10,
             "solidity": 0.2
            },
            "type": "scatter"
           }
          ],
          "scatter3d": [
           {
            "line": {
             "colorbar": {
              "outlinewidth": 0,
              "ticks": ""
             }
            },
            "marker": {
             "colorbar": {
              "outlinewidth": 0,
              "ticks": ""
             }
            },
            "type": "scatter3d"
           }
          ],
          "scattercarpet": [
           {
            "marker": {
             "colorbar": {
              "outlinewidth": 0,
              "ticks": ""
             }
            },
            "type": "scattercarpet"
           }
          ],
          "scattergeo": [
           {
            "marker": {
             "colorbar": {
              "outlinewidth": 0,
              "ticks": ""
             }
            },
            "type": "scattergeo"
           }
          ],
          "scattergl": [
           {
            "marker": {
             "colorbar": {
              "outlinewidth": 0,
              "ticks": ""
             }
            },
            "type": "scattergl"
           }
          ],
          "scattermapbox": [
           {
            "marker": {
             "colorbar": {
              "outlinewidth": 0,
              "ticks": ""
             }
            },
            "type": "scattermapbox"
           }
          ],
          "scatterpolar": [
           {
            "marker": {
             "colorbar": {
              "outlinewidth": 0,
              "ticks": ""
             }
            },
            "type": "scatterpolar"
           }
          ],
          "scatterpolargl": [
           {
            "marker": {
             "colorbar": {
              "outlinewidth": 0,
              "ticks": ""
             }
            },
            "type": "scatterpolargl"
           }
          ],
          "scatterternary": [
           {
            "marker": {
             "colorbar": {
              "outlinewidth": 0,
              "ticks": ""
             }
            },
            "type": "scatterternary"
           }
          ],
          "surface": [
           {
            "colorbar": {
             "outlinewidth": 0,
             "ticks": ""
            },
            "colorscale": [
             [
              0,
              "#0d0887"
             ],
             [
              0.1111111111111111,
              "#46039f"
             ],
             [
              0.2222222222222222,
              "#7201a8"
             ],
             [
              0.3333333333333333,
              "#9c179e"
             ],
             [
              0.4444444444444444,
              "#bd3786"
             ],
             [
              0.5555555555555556,
              "#d8576b"
             ],
             [
              0.6666666666666666,
              "#ed7953"
             ],
             [
              0.7777777777777778,
              "#fb9f3a"
             ],
             [
              0.8888888888888888,
              "#fdca26"
             ],
             [
              1,
              "#f0f921"
             ]
            ],
            "type": "surface"
           }
          ],
          "table": [
           {
            "cells": {
             "fill": {
              "color": "#EBF0F8"
             },
             "line": {
              "color": "white"
             }
            },
            "header": {
             "fill": {
              "color": "#C8D4E3"
             },
             "line": {
              "color": "white"
             }
            },
            "type": "table"
           }
          ]
         },
         "layout": {
          "annotationdefaults": {
           "arrowcolor": "#2a3f5f",
           "arrowhead": 0,
           "arrowwidth": 1
          },
          "autotypenumbers": "strict",
          "coloraxis": {
           "colorbar": {
            "outlinewidth": 0,
            "ticks": ""
           }
          },
          "colorscale": {
           "diverging": [
            [
             0,
             "#8e0152"
            ],
            [
             0.1,
             "#c51b7d"
            ],
            [
             0.2,
             "#de77ae"
            ],
            [
             0.3,
             "#f1b6da"
            ],
            [
             0.4,
             "#fde0ef"
            ],
            [
             0.5,
             "#f7f7f7"
            ],
            [
             0.6,
             "#e6f5d0"
            ],
            [
             0.7,
             "#b8e186"
            ],
            [
             0.8,
             "#7fbc41"
            ],
            [
             0.9,
             "#4d9221"
            ],
            [
             1,
             "#276419"
            ]
           ],
           "sequential": [
            [
             0,
             "#0d0887"
            ],
            [
             0.1111111111111111,
             "#46039f"
            ],
            [
             0.2222222222222222,
             "#7201a8"
            ],
            [
             0.3333333333333333,
             "#9c179e"
            ],
            [
             0.4444444444444444,
             "#bd3786"
            ],
            [
             0.5555555555555556,
             "#d8576b"
            ],
            [
             0.6666666666666666,
             "#ed7953"
            ],
            [
             0.7777777777777778,
             "#fb9f3a"
            ],
            [
             0.8888888888888888,
             "#fdca26"
            ],
            [
             1,
             "#f0f921"
            ]
           ],
           "sequentialminus": [
            [
             0,
             "#0d0887"
            ],
            [
             0.1111111111111111,
             "#46039f"
            ],
            [
             0.2222222222222222,
             "#7201a8"
            ],
            [
             0.3333333333333333,
             "#9c179e"
            ],
            [
             0.4444444444444444,
             "#bd3786"
            ],
            [
             0.5555555555555556,
             "#d8576b"
            ],
            [
             0.6666666666666666,
             "#ed7953"
            ],
            [
             0.7777777777777778,
             "#fb9f3a"
            ],
            [
             0.8888888888888888,
             "#fdca26"
            ],
            [
             1,
             "#f0f921"
            ]
           ]
          },
          "colorway": [
           "#636efa",
           "#EF553B",
           "#00cc96",
           "#ab63fa",
           "#FFA15A",
           "#19d3f3",
           "#FF6692",
           "#B6E880",
           "#FF97FF",
           "#FECB52"
          ],
          "font": {
           "color": "#2a3f5f"
          },
          "geo": {
           "bgcolor": "white",
           "lakecolor": "white",
           "landcolor": "#E5ECF6",
           "showlakes": true,
           "showland": true,
           "subunitcolor": "white"
          },
          "hoverlabel": {
           "align": "left"
          },
          "hovermode": "closest",
          "mapbox": {
           "style": "light"
          },
          "paper_bgcolor": "white",
          "plot_bgcolor": "#E5ECF6",
          "polar": {
           "angularaxis": {
            "gridcolor": "white",
            "linecolor": "white",
            "ticks": ""
           },
           "bgcolor": "#E5ECF6",
           "radialaxis": {
            "gridcolor": "white",
            "linecolor": "white",
            "ticks": ""
           }
          },
          "scene": {
           "xaxis": {
            "backgroundcolor": "#E5ECF6",
            "gridcolor": "white",
            "gridwidth": 2,
            "linecolor": "white",
            "showbackground": true,
            "ticks": "",
            "zerolinecolor": "white"
           },
           "yaxis": {
            "backgroundcolor": "#E5ECF6",
            "gridcolor": "white",
            "gridwidth": 2,
            "linecolor": "white",
            "showbackground": true,
            "ticks": "",
            "zerolinecolor": "white"
           },
           "zaxis": {
            "backgroundcolor": "#E5ECF6",
            "gridcolor": "white",
            "gridwidth": 2,
            "linecolor": "white",
            "showbackground": true,
            "ticks": "",
            "zerolinecolor": "white"
           }
          },
          "shapedefaults": {
           "line": {
            "color": "#2a3f5f"
           }
          },
          "ternary": {
           "aaxis": {
            "gridcolor": "white",
            "linecolor": "white",
            "ticks": ""
           },
           "baxis": {
            "gridcolor": "white",
            "linecolor": "white",
            "ticks": ""
           },
           "bgcolor": "#E5ECF6",
           "caxis": {
            "gridcolor": "white",
            "linecolor": "white",
            "ticks": ""
           }
          },
          "title": {
           "x": 0.05
          },
          "xaxis": {
           "automargin": true,
           "gridcolor": "white",
           "linecolor": "white",
           "ticks": "",
           "title": {
            "standoff": 15
           },
           "zerolinecolor": "white",
           "zerolinewidth": 2
          },
          "yaxis": {
           "automargin": true,
           "gridcolor": "white",
           "linecolor": "white",
           "ticks": "",
           "title": {
            "standoff": 15
           },
           "zerolinecolor": "white",
           "zerolinewidth": 2
          }
         }
        },
        "xaxis": {
         "title": {
          "text": "Layer"
         }
        },
        "yaxis": {
         "title": {
          "text": "correlation"
         }
        }
       }
      }
     },
     "metadata": {},
     "output_type": "display_data"
    }
   ],
   "source": [
    "# plot all the tested thresholds, by different lines in the xs vs. ys plot with plotly\n",
    "# x values are input activity, y values are mean activity of the second layer\n",
    "fig = go.Figure()\n",
    "for eb, result in results.items():\n",
    "    fig.add_trace(go.Scatter(x=list(range(1, len(result)+1)), y=result, mode='lines+markers', name=\"eb: \" + str(eb)))\n",
    "\n",
    "fig.update_xaxes(title=\"Layer\")\n",
    "fig.update_yaxes(title=\"correlation\")\n",
    "fig.show()\n"
   ]
  },
  {
   "cell_type": "code",
   "execution_count": 6,
   "metadata": {},
   "outputs": [
    {
     "data": {
      "application/vnd.plotly.v1+json": {
       "config": {
        "plotlyServerURL": "https://plot.ly"
       },
       "data": [
        {
         "mode": "lines",
         "type": "scatter",
         "x": [
          0,
          0.05,
          0.1,
          0.15000000000000002,
          0.2,
          0.25,
          0.30000000000000004,
          0.35000000000000003,
          0.4,
          0.45,
          0.5,
          0.55,
          0.6000000000000001,
          0.65,
          0.7000000000000001,
          0.75,
          0.8,
          0.8500000000000001,
          0.9,
          0.9500000000000001,
          1,
          1.05,
          1.1,
          1.1500000000000001,
          1.2000000000000002,
          1.25,
          1.3,
          1.35,
          1.4000000000000001,
          1.4500000000000002
         ],
         "y": [
          1,
          1,
          1,
          1,
          1,
          1,
          1,
          2,
          1,
          2,
          2,
          1,
          2,
          2,
          2,
          1,
          3,
          4,
          7,
          4,
          3,
          3,
          2,
          4,
          2,
          4,
          13,
          2,
          6,
          17
         ]
        }
       ],
       "layout": {
        "template": {
         "data": {
          "bar": [
           {
            "error_x": {
             "color": "#2a3f5f"
            },
            "error_y": {
             "color": "#2a3f5f"
            },
            "marker": {
             "line": {
              "color": "#E5ECF6",
              "width": 0.5
             },
             "pattern": {
              "fillmode": "overlay",
              "size": 10,
              "solidity": 0.2
             }
            },
            "type": "bar"
           }
          ],
          "barpolar": [
           {
            "marker": {
             "line": {
              "color": "#E5ECF6",
              "width": 0.5
             },
             "pattern": {
              "fillmode": "overlay",
              "size": 10,
              "solidity": 0.2
             }
            },
            "type": "barpolar"
           }
          ],
          "carpet": [
           {
            "aaxis": {
             "endlinecolor": "#2a3f5f",
             "gridcolor": "white",
             "linecolor": "white",
             "minorgridcolor": "white",
             "startlinecolor": "#2a3f5f"
            },
            "baxis": {
             "endlinecolor": "#2a3f5f",
             "gridcolor": "white",
             "linecolor": "white",
             "minorgridcolor": "white",
             "startlinecolor": "#2a3f5f"
            },
            "type": "carpet"
           }
          ],
          "choropleth": [
           {
            "colorbar": {
             "outlinewidth": 0,
             "ticks": ""
            },
            "type": "choropleth"
           }
          ],
          "contour": [
           {
            "colorbar": {
             "outlinewidth": 0,
             "ticks": ""
            },
            "colorscale": [
             [
              0,
              "#0d0887"
             ],
             [
              0.1111111111111111,
              "#46039f"
             ],
             [
              0.2222222222222222,
              "#7201a8"
             ],
             [
              0.3333333333333333,
              "#9c179e"
             ],
             [
              0.4444444444444444,
              "#bd3786"
             ],
             [
              0.5555555555555556,
              "#d8576b"
             ],
             [
              0.6666666666666666,
              "#ed7953"
             ],
             [
              0.7777777777777778,
              "#fb9f3a"
             ],
             [
              0.8888888888888888,
              "#fdca26"
             ],
             [
              1,
              "#f0f921"
             ]
            ],
            "type": "contour"
           }
          ],
          "contourcarpet": [
           {
            "colorbar": {
             "outlinewidth": 0,
             "ticks": ""
            },
            "type": "contourcarpet"
           }
          ],
          "heatmap": [
           {
            "colorbar": {
             "outlinewidth": 0,
             "ticks": ""
            },
            "colorscale": [
             [
              0,
              "#0d0887"
             ],
             [
              0.1111111111111111,
              "#46039f"
             ],
             [
              0.2222222222222222,
              "#7201a8"
             ],
             [
              0.3333333333333333,
              "#9c179e"
             ],
             [
              0.4444444444444444,
              "#bd3786"
             ],
             [
              0.5555555555555556,
              "#d8576b"
             ],
             [
              0.6666666666666666,
              "#ed7953"
             ],
             [
              0.7777777777777778,
              "#fb9f3a"
             ],
             [
              0.8888888888888888,
              "#fdca26"
             ],
             [
              1,
              "#f0f921"
             ]
            ],
            "type": "heatmap"
           }
          ],
          "heatmapgl": [
           {
            "colorbar": {
             "outlinewidth": 0,
             "ticks": ""
            },
            "colorscale": [
             [
              0,
              "#0d0887"
             ],
             [
              0.1111111111111111,
              "#46039f"
             ],
             [
              0.2222222222222222,
              "#7201a8"
             ],
             [
              0.3333333333333333,
              "#9c179e"
             ],
             [
              0.4444444444444444,
              "#bd3786"
             ],
             [
              0.5555555555555556,
              "#d8576b"
             ],
             [
              0.6666666666666666,
              "#ed7953"
             ],
             [
              0.7777777777777778,
              "#fb9f3a"
             ],
             [
              0.8888888888888888,
              "#fdca26"
             ],
             [
              1,
              "#f0f921"
             ]
            ],
            "type": "heatmapgl"
           }
          ],
          "histogram": [
           {
            "marker": {
             "pattern": {
              "fillmode": "overlay",
              "size": 10,
              "solidity": 0.2
             }
            },
            "type": "histogram"
           }
          ],
          "histogram2d": [
           {
            "colorbar": {
             "outlinewidth": 0,
             "ticks": ""
            },
            "colorscale": [
             [
              0,
              "#0d0887"
             ],
             [
              0.1111111111111111,
              "#46039f"
             ],
             [
              0.2222222222222222,
              "#7201a8"
             ],
             [
              0.3333333333333333,
              "#9c179e"
             ],
             [
              0.4444444444444444,
              "#bd3786"
             ],
             [
              0.5555555555555556,
              "#d8576b"
             ],
             [
              0.6666666666666666,
              "#ed7953"
             ],
             [
              0.7777777777777778,
              "#fb9f3a"
             ],
             [
              0.8888888888888888,
              "#fdca26"
             ],
             [
              1,
              "#f0f921"
             ]
            ],
            "type": "histogram2d"
           }
          ],
          "histogram2dcontour": [
           {
            "colorbar": {
             "outlinewidth": 0,
             "ticks": ""
            },
            "colorscale": [
             [
              0,
              "#0d0887"
             ],
             [
              0.1111111111111111,
              "#46039f"
             ],
             [
              0.2222222222222222,
              "#7201a8"
             ],
             [
              0.3333333333333333,
              "#9c179e"
             ],
             [
              0.4444444444444444,
              "#bd3786"
             ],
             [
              0.5555555555555556,
              "#d8576b"
             ],
             [
              0.6666666666666666,
              "#ed7953"
             ],
             [
              0.7777777777777778,
              "#fb9f3a"
             ],
             [
              0.8888888888888888,
              "#fdca26"
             ],
             [
              1,
              "#f0f921"
             ]
            ],
            "type": "histogram2dcontour"
           }
          ],
          "mesh3d": [
           {
            "colorbar": {
             "outlinewidth": 0,
             "ticks": ""
            },
            "type": "mesh3d"
           }
          ],
          "parcoords": [
           {
            "line": {
             "colorbar": {
              "outlinewidth": 0,
              "ticks": ""
             }
            },
            "type": "parcoords"
           }
          ],
          "pie": [
           {
            "automargin": true,
            "type": "pie"
           }
          ],
          "scatter": [
           {
            "fillpattern": {
             "fillmode": "overlay",
             "size": 10,
             "solidity": 0.2
            },
            "type": "scatter"
           }
          ],
          "scatter3d": [
           {
            "line": {
             "colorbar": {
              "outlinewidth": 0,
              "ticks": ""
             }
            },
            "marker": {
             "colorbar": {
              "outlinewidth": 0,
              "ticks": ""
             }
            },
            "type": "scatter3d"
           }
          ],
          "scattercarpet": [
           {
            "marker": {
             "colorbar": {
              "outlinewidth": 0,
              "ticks": ""
             }
            },
            "type": "scattercarpet"
           }
          ],
          "scattergeo": [
           {
            "marker": {
             "colorbar": {
              "outlinewidth": 0,
              "ticks": ""
             }
            },
            "type": "scattergeo"
           }
          ],
          "scattergl": [
           {
            "marker": {
             "colorbar": {
              "outlinewidth": 0,
              "ticks": ""
             }
            },
            "type": "scattergl"
           }
          ],
          "scattermapbox": [
           {
            "marker": {
             "colorbar": {
              "outlinewidth": 0,
              "ticks": ""
             }
            },
            "type": "scattermapbox"
           }
          ],
          "scatterpolar": [
           {
            "marker": {
             "colorbar": {
              "outlinewidth": 0,
              "ticks": ""
             }
            },
            "type": "scatterpolar"
           }
          ],
          "scatterpolargl": [
           {
            "marker": {
             "colorbar": {
              "outlinewidth": 0,
              "ticks": ""
             }
            },
            "type": "scatterpolargl"
           }
          ],
          "scatterternary": [
           {
            "marker": {
             "colorbar": {
              "outlinewidth": 0,
              "ticks": ""
             }
            },
            "type": "scatterternary"
           }
          ],
          "surface": [
           {
            "colorbar": {
             "outlinewidth": 0,
             "ticks": ""
            },
            "colorscale": [
             [
              0,
              "#0d0887"
             ],
             [
              0.1111111111111111,
              "#46039f"
             ],
             [
              0.2222222222222222,
              "#7201a8"
             ],
             [
              0.3333333333333333,
              "#9c179e"
             ],
             [
              0.4444444444444444,
              "#bd3786"
             ],
             [
              0.5555555555555556,
              "#d8576b"
             ],
             [
              0.6666666666666666,
              "#ed7953"
             ],
             [
              0.7777777777777778,
              "#fb9f3a"
             ],
             [
              0.8888888888888888,
              "#fdca26"
             ],
             [
              1,
              "#f0f921"
             ]
            ],
            "type": "surface"
           }
          ],
          "table": [
           {
            "cells": {
             "fill": {
              "color": "#EBF0F8"
             },
             "line": {
              "color": "white"
             }
            },
            "header": {
             "fill": {
              "color": "#C8D4E3"
             },
             "line": {
              "color": "white"
             }
            },
            "type": "table"
           }
          ]
         },
         "layout": {
          "annotationdefaults": {
           "arrowcolor": "#2a3f5f",
           "arrowhead": 0,
           "arrowwidth": 1
          },
          "autotypenumbers": "strict",
          "coloraxis": {
           "colorbar": {
            "outlinewidth": 0,
            "ticks": ""
           }
          },
          "colorscale": {
           "diverging": [
            [
             0,
             "#8e0152"
            ],
            [
             0.1,
             "#c51b7d"
            ],
            [
             0.2,
             "#de77ae"
            ],
            [
             0.3,
             "#f1b6da"
            ],
            [
             0.4,
             "#fde0ef"
            ],
            [
             0.5,
             "#f7f7f7"
            ],
            [
             0.6,
             "#e6f5d0"
            ],
            [
             0.7,
             "#b8e186"
            ],
            [
             0.8,
             "#7fbc41"
            ],
            [
             0.9,
             "#4d9221"
            ],
            [
             1,
             "#276419"
            ]
           ],
           "sequential": [
            [
             0,
             "#0d0887"
            ],
            [
             0.1111111111111111,
             "#46039f"
            ],
            [
             0.2222222222222222,
             "#7201a8"
            ],
            [
             0.3333333333333333,
             "#9c179e"
            ],
            [
             0.4444444444444444,
             "#bd3786"
            ],
            [
             0.5555555555555556,
             "#d8576b"
            ],
            [
             0.6666666666666666,
             "#ed7953"
            ],
            [
             0.7777777777777778,
             "#fb9f3a"
            ],
            [
             0.8888888888888888,
             "#fdca26"
            ],
            [
             1,
             "#f0f921"
            ]
           ],
           "sequentialminus": [
            [
             0,
             "#0d0887"
            ],
            [
             0.1111111111111111,
             "#46039f"
            ],
            [
             0.2222222222222222,
             "#7201a8"
            ],
            [
             0.3333333333333333,
             "#9c179e"
            ],
            [
             0.4444444444444444,
             "#bd3786"
            ],
            [
             0.5555555555555556,
             "#d8576b"
            ],
            [
             0.6666666666666666,
             "#ed7953"
            ],
            [
             0.7777777777777778,
             "#fb9f3a"
            ],
            [
             0.8888888888888888,
             "#fdca26"
            ],
            [
             1,
             "#f0f921"
            ]
           ]
          },
          "colorway": [
           "#636efa",
           "#EF553B",
           "#00cc96",
           "#ab63fa",
           "#FFA15A",
           "#19d3f3",
           "#FF6692",
           "#B6E880",
           "#FF97FF",
           "#FECB52"
          ],
          "font": {
           "color": "#2a3f5f"
          },
          "geo": {
           "bgcolor": "white",
           "lakecolor": "white",
           "landcolor": "#E5ECF6",
           "showlakes": true,
           "showland": true,
           "subunitcolor": "white"
          },
          "hoverlabel": {
           "align": "left"
          },
          "hovermode": "closest",
          "mapbox": {
           "style": "light"
          },
          "paper_bgcolor": "white",
          "plot_bgcolor": "#E5ECF6",
          "polar": {
           "angularaxis": {
            "gridcolor": "white",
            "linecolor": "white",
            "ticks": ""
           },
           "bgcolor": "#E5ECF6",
           "radialaxis": {
            "gridcolor": "white",
            "linecolor": "white",
            "ticks": ""
           }
          },
          "scene": {
           "xaxis": {
            "backgroundcolor": "#E5ECF6",
            "gridcolor": "white",
            "gridwidth": 2,
            "linecolor": "white",
            "showbackground": true,
            "ticks": "",
            "zerolinecolor": "white"
           },
           "yaxis": {
            "backgroundcolor": "#E5ECF6",
            "gridcolor": "white",
            "gridwidth": 2,
            "linecolor": "white",
            "showbackground": true,
            "ticks": "",
            "zerolinecolor": "white"
           },
           "zaxis": {
            "backgroundcolor": "#E5ECF6",
            "gridcolor": "white",
            "gridwidth": 2,
            "linecolor": "white",
            "showbackground": true,
            "ticks": "",
            "zerolinecolor": "white"
           }
          },
          "shapedefaults": {
           "line": {
            "color": "#2a3f5f"
           }
          },
          "ternary": {
           "aaxis": {
            "gridcolor": "white",
            "linecolor": "white",
            "ticks": ""
           },
           "baxis": {
            "gridcolor": "white",
            "linecolor": "white",
            "ticks": ""
           },
           "bgcolor": "#E5ECF6",
           "caxis": {
            "gridcolor": "white",
            "linecolor": "white",
            "ticks": ""
           }
          },
          "title": {
           "x": 0.05
          },
          "xaxis": {
           "automargin": true,
           "gridcolor": "white",
           "linecolor": "white",
           "ticks": "",
           "title": {
            "standoff": 15
           },
           "zerolinecolor": "white",
           "zerolinewidth": 2
          },
          "yaxis": {
           "automargin": true,
           "gridcolor": "white",
           "linecolor": "white",
           "ticks": "",
           "title": {
            "standoff": 15
           },
           "zerolinecolor": "white",
           "zerolinewidth": 2
          }
         }
        },
        "xaxis": {
         "title": {
          "text": "Energy Bias"
         }
        },
        "yaxis": {
         "title": {
          "text": "correlation length"
         }
        }
       }
      }
     },
     "metadata": {},
     "output_type": "display_data"
    }
   ],
   "source": [
    "# get correlation length\n",
    "correlation_length = np.zeros(len(results))\n",
    "all_ebs = list(results.keys())\n",
    "all_ebs.sort()\n",
    "for j, eb in enumerate(all_ebs):\n",
    "    # find 0 crossing\n",
    "    for i, r in enumerate(results[eb]):\n",
    "        if r <= 0:\n",
    "            correlation_length[j] = i+1\n",
    "            break\n",
    "\n",
    "# plot corelation length vs. eb\n",
    "fig = go.Figure()\n",
    "fig.add_trace(go.Scatter(x=all_ebs, y=correlation_length, mode='lines'))\n",
    "fig.update_xaxes(title=\"Energy Bias\")\n",
    "fig.update_yaxes(title=\"correlation length\")\n",
    "fig.show()"
   ]
  },
  {
   "cell_type": "code",
   "execution_count": 7,
   "metadata": {},
   "outputs": [
    {
     "data": {
      "application/vnd.plotly.v1+json": {
       "config": {
        "plotlyServerURL": "https://plot.ly"
       },
       "data": [
        {
         "mode": "markers",
         "name": "Layer: 1",
         "type": "scatter",
         "x": [
          0.2,
          0.3,
          0.2,
          0.1,
          0.5,
          0.3,
          0.3,
          0.8,
          0.3,
          0.7,
          0.2,
          0.1,
          0.4,
          0.4,
          0,
          0.5,
          0.4,
          0.5,
          0.9,
          0.2,
          0.7,
          0.8,
          0.8,
          0.4,
          0.4,
          0.4,
          0.6,
          0.1,
          0.4,
          0.6,
          0.3,
          0.6,
          0.3,
          0.8,
          0,
          0.5,
          0.6,
          0.7,
          0.3,
          0.1,
          0.5,
          0.2,
          0.3,
          0.6,
          0.5,
          0,
          0.8,
          0.4,
          0.6,
          0.4,
          0.5,
          0.1,
          0.5,
          0.7,
          0.5,
          0.4,
          0.5,
          0.4,
          0.3,
          0.4,
          0.8,
          0.6,
          0.1,
          0.6,
          0.5,
          0.3,
          0.7,
          0.4,
          0.1,
          0.4,
          0.1,
          0.7,
          0.2,
          0.4,
          0.9,
          0.2,
          0.1,
          0.6,
          0.4,
          0.2,
          0.6,
          0.8,
          0.2,
          0.4,
          0.2,
          0.7,
          0.6,
          0.6,
          0.3,
          0.4,
          0.6,
          0.9,
          0.2,
          0.1,
          0.2,
          0.6,
          0.2,
          0.2,
          0.3,
          0.7
         ],
         "y": [
          0.07,
          0.11666666666666667,
          0.08333333333333333,
          0.06,
          0.11666666666666667,
          0.07333333333333333,
          0.12333333333333334,
          0.13333333333333333,
          0.09,
          0.14666666666666667,
          0.07333333333333333,
          0.04666666666666667,
          0.12666666666666668,
          0.13,
          0,
          0.11333333333333333,
          0.10333333333333333,
          0.11666666666666667,
          0.17666666666666667,
          0.08,
          0.16333333333333333,
          0.16,
          0.16666666666666666,
          0.11333333333333333,
          0.14,
          0.12666666666666668,
          0.15,
          0.04666666666666667,
          0.11,
          0.15333333333333332,
          0.09,
          0.13666666666666666,
          0.09666666666666666,
          0.13666666666666666,
          0,
          0.14666666666666667,
          0.15,
          0.18,
          0.10333333333333333,
          0.043333333333333335,
          0.14,
          0.06666666666666667,
          0.09,
          0.12666666666666668,
          0.11,
          0,
          0.16666666666666666,
          0.12,
          0.13333333333333333,
          0.09,
          0.14333333333333334,
          0.04666666666666667,
          0.1,
          0.14,
          0.12666666666666668,
          0.12,
          0.14333333333333334,
          0.11666666666666667,
          0.12333333333333334,
          0.11333333333333333,
          0.18333333333333332,
          0.15666666666666668,
          0.05,
          0.16,
          0.14,
          0.08,
          0.14,
          0.13666666666666666,
          0.04666666666666667,
          0.11,
          0.05,
          0.14666666666666667,
          0.05,
          0.09666666666666666,
          0.15666666666666668,
          0.08666666666666667,
          0.04,
          0.13666666666666666,
          0.14666666666666667,
          0.10333333333333333,
          0.16,
          0.16666666666666666,
          0.07,
          0.13,
          0.06666666666666667,
          0.14666666666666667,
          0.13333333333333333,
          0.13333333333333333,
          0.10333333333333333,
          0.12,
          0.14333333333333334,
          0.16,
          0.08,
          0.043333333333333335,
          0.07,
          0.12666666666666668,
          0.07666666666666666,
          0.06666666666666667,
          0.11,
          0.17333333333333334
         ]
        },
        {
         "mode": "markers",
         "name": "Layer: 2",
         "type": "scatter",
         "x": [
          0.2,
          0.3,
          0.2,
          0.1,
          0.5,
          0.3,
          0.3,
          0.8,
          0.3,
          0.7,
          0.2,
          0.1,
          0.4,
          0.4,
          0,
          0.5,
          0.4,
          0.5,
          0.9,
          0.2,
          0.7,
          0.8,
          0.8,
          0.4,
          0.4,
          0.4,
          0.6,
          0.1,
          0.4,
          0.6,
          0.3,
          0.6,
          0.3,
          0.8,
          0,
          0.5,
          0.6,
          0.7,
          0.3,
          0.1,
          0.5,
          0.2,
          0.3,
          0.6,
          0.5,
          0,
          0.8,
          0.4,
          0.6,
          0.4,
          0.5,
          0.1,
          0.5,
          0.7,
          0.5,
          0.4,
          0.5,
          0.4,
          0.3,
          0.4,
          0.8,
          0.6,
          0.1,
          0.6,
          0.5,
          0.3,
          0.7,
          0.4,
          0.1,
          0.4,
          0.1,
          0.7,
          0.2,
          0.4,
          0.9,
          0.2,
          0.1,
          0.6,
          0.4,
          0.2,
          0.6,
          0.8,
          0.2,
          0.4,
          0.2,
          0.7,
          0.6,
          0.6,
          0.3,
          0.4,
          0.6,
          0.9,
          0.2,
          0.1,
          0.2,
          0.6,
          0.2,
          0.2,
          0.3,
          0.7
         ],
         "y": [
          0.03,
          0.07,
          0.06666666666666667,
          0.023333333333333334,
          0.07666666666666666,
          0.02666666666666667,
          0.07,
          0.06666666666666667,
          0.07333333333333333,
          0.06,
          0.056666666666666664,
          0.02666666666666667,
          0.056666666666666664,
          0.06666666666666667,
          0,
          0.05333333333333334,
          0.06,
          0.03333333333333333,
          0.056666666666666664,
          0.07666666666666666,
          0.06,
          0.07333333333333333,
          0.09333333333333334,
          0.05333333333333334,
          0.056666666666666664,
          0.05333333333333334,
          0.056666666666666664,
          0.04666666666666667,
          0.06666666666666667,
          0.07666666666666666,
          0.04666666666666667,
          0.06,
          0.06333333333333334,
          0.06666666666666667,
          0,
          0.05333333333333334,
          0.09666666666666666,
          0.056666666666666664,
          0.06,
          0.04,
          0.07666666666666666,
          0.03666666666666667,
          0.07666666666666666,
          0.07666666666666666,
          0.07,
          0,
          0.05333333333333334,
          0.06333333333333334,
          0.06,
          0.05,
          0.07333333333333333,
          0.03666666666666667,
          0.043333333333333335,
          0.06666666666666667,
          0.06333333333333334,
          0.05,
          0.09,
          0.05333333333333334,
          0.056666666666666664,
          0.08333333333333333,
          0.10333333333333333,
          0.07666666666666666,
          0.04,
          0.07333333333333333,
          0.06333333333333334,
          0.04666666666666667,
          0.09,
          0.05333333333333334,
          0.043333333333333335,
          0.06,
          0.04666666666666667,
          0.07666666666666666,
          0.023333333333333334,
          0.06666666666666667,
          0.09666666666666666,
          0.043333333333333335,
          0.03,
          0.08666666666666667,
          0.06,
          0.06666666666666667,
          0.08333333333333333,
          0.056666666666666664,
          0.04666666666666667,
          0.08666666666666667,
          0.05333333333333334,
          0.07333333333333333,
          0.07333333333333333,
          0.07666666666666666,
          0.04,
          0.04,
          0.06666666666666667,
          0.07,
          0.016666666666666666,
          0.016666666666666666,
          0.03,
          0.03333333333333333,
          0.04666666666666667,
          0.06333333333333334,
          0.05,
          0.09
         ]
        },
        {
         "mode": "markers",
         "name": "Layer: 3",
         "type": "scatter",
         "x": [
          0.2,
          0.3,
          0.2,
          0.1,
          0.5,
          0.3,
          0.3,
          0.8,
          0.3,
          0.7,
          0.2,
          0.1,
          0.4,
          0.4,
          0,
          0.5,
          0.4,
          0.5,
          0.9,
          0.2,
          0.7,
          0.8,
          0.8,
          0.4,
          0.4,
          0.4,
          0.6,
          0.1,
          0.4,
          0.6,
          0.3,
          0.6,
          0.3,
          0.8,
          0,
          0.5,
          0.6,
          0.7,
          0.3,
          0.1,
          0.5,
          0.2,
          0.3,
          0.6,
          0.5,
          0,
          0.8,
          0.4,
          0.6,
          0.4,
          0.5,
          0.1,
          0.5,
          0.7,
          0.5,
          0.4,
          0.5,
          0.4,
          0.3,
          0.4,
          0.8,
          0.6,
          0.1,
          0.6,
          0.5,
          0.3,
          0.7,
          0.4,
          0.1,
          0.4,
          0.1,
          0.7,
          0.2,
          0.4,
          0.9,
          0.2,
          0.1,
          0.6,
          0.4,
          0.2,
          0.6,
          0.8,
          0.2,
          0.4,
          0.2,
          0.7,
          0.6,
          0.6,
          0.3,
          0.4,
          0.6,
          0.9,
          0.2,
          0.1,
          0.2,
          0.6,
          0.2,
          0.2,
          0.3,
          0.7
         ],
         "y": [
          0.03666666666666667,
          0.05,
          0.02666666666666667,
          0.01,
          0.07333333333333333,
          0.006666666666666667,
          0.04,
          0.02666666666666667,
          0.05333333333333334,
          0.04666666666666667,
          0.043333333333333335,
          0.02,
          0.04666666666666667,
          0.04666666666666667,
          0,
          0.023333333333333334,
          0.07,
          0.01,
          0.04666666666666667,
          0.06333333333333334,
          0.05,
          0.05333333333333334,
          0.07,
          0.05333333333333334,
          0.02666666666666667,
          0.056666666666666664,
          0.05,
          0.04,
          0.043333333333333335,
          0.05,
          0.02666666666666667,
          0.04,
          0.04666666666666667,
          0.056666666666666664,
          0,
          0.04666666666666667,
          0.06,
          0.04666666666666667,
          0.06666666666666667,
          0.05333333333333334,
          0.03333333333333333,
          0.02666666666666667,
          0.05,
          0.056666666666666664,
          0.05,
          0,
          0.02666666666666667,
          0.04,
          0.02666666666666667,
          0.04666666666666667,
          0.03,
          0.02,
          0.04666666666666667,
          0.03666666666666667,
          0.016666666666666666,
          0.05,
          0.06666666666666667,
          0.02666666666666667,
          0.03333333333333333,
          0.07,
          0.07333333333333333,
          0.03,
          0.03333333333333333,
          0.04,
          0.05,
          0.02,
          0.056666666666666664,
          0.056666666666666664,
          0.03666666666666667,
          0.043333333333333335,
          0.043333333333333335,
          0.03333333333333333,
          0.006666666666666667,
          0.03666666666666667,
          0.06,
          0.016666666666666666,
          0.02666666666666667,
          0.05,
          0.02666666666666667,
          0.04,
          0.023333333333333334,
          0.05,
          0.03666666666666667,
          0.056666666666666664,
          0.043333333333333335,
          0.06333333333333334,
          0.04,
          0.04,
          0.04666666666666667,
          0.016666666666666666,
          0.03333333333333333,
          0.06333333333333334,
          0.016666666666666666,
          0.006666666666666667,
          0.016666666666666666,
          0.02666666666666667,
          0.03,
          0.05,
          0.03666666666666667,
          0.05
         ]
        },
        {
         "mode": "markers",
         "name": "Layer: 4",
         "type": "scatter",
         "x": [
          0.2,
          0.3,
          0.2,
          0.1,
          0.5,
          0.3,
          0.3,
          0.8,
          0.3,
          0.7,
          0.2,
          0.1,
          0.4,
          0.4,
          0,
          0.5,
          0.4,
          0.5,
          0.9,
          0.2,
          0.7,
          0.8,
          0.8,
          0.4,
          0.4,
          0.4,
          0.6,
          0.1,
          0.4,
          0.6,
          0.3,
          0.6,
          0.3,
          0.8,
          0,
          0.5,
          0.6,
          0.7,
          0.3,
          0.1,
          0.5,
          0.2,
          0.3,
          0.6,
          0.5,
          0,
          0.8,
          0.4,
          0.6,
          0.4,
          0.5,
          0.1,
          0.5,
          0.7,
          0.5,
          0.4,
          0.5,
          0.4,
          0.3,
          0.4,
          0.8,
          0.6,
          0.1,
          0.6,
          0.5,
          0.3,
          0.7,
          0.4,
          0.1,
          0.4,
          0.1,
          0.7,
          0.2,
          0.4,
          0.9,
          0.2,
          0.1,
          0.6,
          0.4,
          0.2,
          0.6,
          0.8,
          0.2,
          0.4,
          0.2,
          0.7,
          0.6,
          0.6,
          0.3,
          0.4,
          0.6,
          0.9,
          0.2,
          0.1,
          0.2,
          0.6,
          0.2,
          0.2,
          0.3,
          0.7
         ],
         "y": [
          0.016666666666666666,
          0.03333333333333333,
          0.006666666666666667,
          0.01,
          0.05,
          0.006666666666666667,
          0.03,
          0.03,
          0.043333333333333335,
          0.02666666666666667,
          0.02666666666666667,
          0.0033333333333333335,
          0.043333333333333335,
          0.04,
          0,
          0.023333333333333334,
          0.05,
          0.013333333333333334,
          0.02666666666666667,
          0.05,
          0.023333333333333334,
          0.016666666666666666,
          0.04666666666666667,
          0.03333333333333333,
          0.016666666666666666,
          0.04666666666666667,
          0.03333333333333333,
          0.016666666666666666,
          0.02,
          0.05333333333333334,
          0.016666666666666666,
          0.02,
          0.02666666666666667,
          0.03666666666666667,
          0,
          0.03333333333333333,
          0.04,
          0.02666666666666667,
          0.03,
          0.03,
          0.02666666666666667,
          0.02,
          0.03333333333333333,
          0.06,
          0.06333333333333334,
          0,
          0.016666666666666666,
          0.04,
          0.02666666666666667,
          0.043333333333333335,
          0.02,
          0.023333333333333334,
          0.01,
          0.023333333333333334,
          0.01,
          0.03666666666666667,
          0.05333333333333334,
          0.04,
          0.03333333333333333,
          0.02666666666666667,
          0.05,
          0.02,
          0.05,
          0.023333333333333334,
          0.043333333333333335,
          0.013333333333333334,
          0.03,
          0.056666666666666664,
          0.03,
          0.04,
          0.03333333333333333,
          0.02,
          0.006666666666666667,
          0.02666666666666667,
          0.06,
          0.01,
          0.03333333333333333,
          0.02666666666666667,
          0.02,
          0.016666666666666666,
          0.03,
          0.023333333333333334,
          0.03,
          0.02666666666666667,
          0.03,
          0.04,
          0.03,
          0.04,
          0.04,
          0.016666666666666666,
          0.03,
          0.05,
          0.013333333333333334,
          0.01,
          0.006666666666666667,
          0.02,
          0.03333333333333333,
          0.03666666666666667,
          0.03,
          0.02
         ]
        },
        {
         "mode": "markers",
         "name": "Layer: 5",
         "type": "scatter",
         "x": [
          0.2,
          0.3,
          0.2,
          0.1,
          0.5,
          0.3,
          0.3,
          0.8,
          0.3,
          0.7,
          0.2,
          0.1,
          0.4,
          0.4,
          0,
          0.5,
          0.4,
          0.5,
          0.9,
          0.2,
          0.7,
          0.8,
          0.8,
          0.4,
          0.4,
          0.4,
          0.6,
          0.1,
          0.4,
          0.6,
          0.3,
          0.6,
          0.3,
          0.8,
          0,
          0.5,
          0.6,
          0.7,
          0.3,
          0.1,
          0.5,
          0.2,
          0.3,
          0.6,
          0.5,
          0,
          0.8,
          0.4,
          0.6,
          0.4,
          0.5,
          0.1,
          0.5,
          0.7,
          0.5,
          0.4,
          0.5,
          0.4,
          0.3,
          0.4,
          0.8,
          0.6,
          0.1,
          0.6,
          0.5,
          0.3,
          0.7,
          0.4,
          0.1,
          0.4,
          0.1,
          0.7,
          0.2,
          0.4,
          0.9,
          0.2,
          0.1,
          0.6,
          0.4,
          0.2,
          0.6,
          0.8,
          0.2,
          0.4,
          0.2,
          0.7,
          0.6,
          0.6,
          0.3,
          0.4,
          0.6,
          0.9,
          0.2,
          0.1,
          0.2,
          0.6,
          0.2,
          0.2,
          0.3,
          0.7
         ],
         "y": [
          0.016666666666666666,
          0.016666666666666666,
          0.0033333333333333335,
          0.006666666666666667,
          0.056666666666666664,
          0.006666666666666667,
          0.03,
          0.02666666666666667,
          0.04,
          0.023333333333333334,
          0.006666666666666667,
          0.0033333333333333335,
          0.02,
          0.023333333333333334,
          0,
          0.016666666666666666,
          0.05,
          0.023333333333333334,
          0.03333333333333333,
          0.03333333333333333,
          0.02666666666666667,
          0.02666666666666667,
          0.04666666666666667,
          0.016666666666666666,
          0.016666666666666666,
          0.04666666666666667,
          0.02,
          0.013333333333333334,
          0.01,
          0.03333333333333333,
          0.016666666666666666,
          0.016666666666666666,
          0.023333333333333334,
          0.023333333333333334,
          0,
          0.006666666666666667,
          0.03,
          0.02666666666666667,
          0.016666666666666666,
          0.016666666666666666,
          0.03,
          0.016666666666666666,
          0.023333333333333334,
          0.03666666666666667,
          0.04,
          0,
          0.01,
          0.023333333333333334,
          0.016666666666666666,
          0.01,
          0.03333333333333333,
          0.01,
          0,
          0.01,
          0.01,
          0.043333333333333335,
          0.03333333333333333,
          0.02,
          0.01,
          0.03,
          0.02,
          0.03666666666666667,
          0.05333333333333334,
          0.01,
          0.03,
          0.013333333333333334,
          0.03,
          0.03,
          0.013333333333333334,
          0.03,
          0.03,
          0.02666666666666667,
          0.006666666666666667,
          0.03,
          0.04666666666666667,
          0.016666666666666666,
          0.02666666666666667,
          0.013333333333333334,
          0.02,
          0.01,
          0.023333333333333334,
          0.03,
          0.016666666666666666,
          0.04,
          0.016666666666666666,
          0.04666666666666667,
          0.016666666666666666,
          0.05333333333333334,
          0.023333333333333334,
          0.013333333333333334,
          0.03333333333333333,
          0.02666666666666667,
          0.006666666666666667,
          0.006666666666666667,
          0.0033333333333333335,
          0.013333333333333334,
          0.016666666666666666,
          0.023333333333333334,
          0.03,
          0.03
         ]
        },
        {
         "mode": "markers",
         "name": "Layer: 6",
         "type": "scatter",
         "x": [
          0.2,
          0.3,
          0.2,
          0.1,
          0.5,
          0.3,
          0.3,
          0.8,
          0.3,
          0.7,
          0.2,
          0.1,
          0.4,
          0.4,
          0,
          0.5,
          0.4,
          0.5,
          0.9,
          0.2,
          0.7,
          0.8,
          0.8,
          0.4,
          0.4,
          0.4,
          0.6,
          0.1,
          0.4,
          0.6,
          0.3,
          0.6,
          0.3,
          0.8,
          0,
          0.5,
          0.6,
          0.7,
          0.3,
          0.1,
          0.5,
          0.2,
          0.3,
          0.6,
          0.5,
          0,
          0.8,
          0.4,
          0.6,
          0.4,
          0.5,
          0.1,
          0.5,
          0.7,
          0.5,
          0.4,
          0.5,
          0.4,
          0.3,
          0.4,
          0.8,
          0.6,
          0.1,
          0.6,
          0.5,
          0.3,
          0.7,
          0.4,
          0.1,
          0.4,
          0.1,
          0.7,
          0.2,
          0.4,
          0.9,
          0.2,
          0.1,
          0.6,
          0.4,
          0.2,
          0.6,
          0.8,
          0.2,
          0.4,
          0.2,
          0.7,
          0.6,
          0.6,
          0.3,
          0.4,
          0.6,
          0.9,
          0.2,
          0.1,
          0.2,
          0.6,
          0.2,
          0.2,
          0.3,
          0.7
         ],
         "y": [
          0.03333333333333333,
          0.016666666666666666,
          0,
          0,
          0.02666666666666667,
          0.0033333333333333335,
          0.013333333333333334,
          0.02,
          0.03333333333333333,
          0,
          0.006666666666666667,
          0.01,
          0.013333333333333334,
          0.016666666666666666,
          0,
          0.01,
          0.04,
          0.016666666666666666,
          0.023333333333333334,
          0.02666666666666667,
          0,
          0.013333333333333334,
          0.04,
          0.01,
          0.016666666666666666,
          0.02666666666666667,
          0.01,
          0.01,
          0.01,
          0.043333333333333335,
          0.013333333333333334,
          0.01,
          0.01,
          0.016666666666666666,
          0,
          0.01,
          0.0033333333333333335,
          0.02666666666666667,
          0.02,
          0.023333333333333334,
          0.02,
          0.016666666666666666,
          0.0033333333333333335,
          0.016666666666666666,
          0.03666666666666667,
          0,
          0.01,
          0.02,
          0.006666666666666667,
          0.013333333333333334,
          0.016666666666666666,
          0.01,
          0,
          0.0033333333333333335,
          0.01,
          0.03,
          0.02666666666666667,
          0.013333333333333334,
          0.01,
          0.016666666666666666,
          0.013333333333333334,
          0.02666666666666667,
          0.02666666666666667,
          0.0033333333333333335,
          0.04,
          0.0033333333333333335,
          0.02,
          0.02666666666666667,
          0.0033333333333333335,
          0.02666666666666667,
          0.04,
          0.016666666666666666,
          0.0033333333333333335,
          0.016666666666666666,
          0.03333333333333333,
          0.01,
          0.02,
          0.006666666666666667,
          0.01,
          0.006666666666666667,
          0.02,
          0.023333333333333334,
          0.013333333333333334,
          0.03,
          0.013333333333333334,
          0.03,
          0.02666666666666667,
          0.02666666666666667,
          0.02666666666666667,
          0.013333333333333334,
          0.013333333333333334,
          0.02666666666666667,
          0.0033333333333333335,
          0.01,
          0,
          0.01,
          0.01,
          0.02,
          0.023333333333333334,
          0.023333333333333334
         ]
        },
        {
         "mode": "markers",
         "name": "Layer: 7",
         "type": "scatter",
         "x": [
          0.2,
          0.3,
          0.2,
          0.1,
          0.5,
          0.3,
          0.3,
          0.8,
          0.3,
          0.7,
          0.2,
          0.1,
          0.4,
          0.4,
          0,
          0.5,
          0.4,
          0.5,
          0.9,
          0.2,
          0.7,
          0.8,
          0.8,
          0.4,
          0.4,
          0.4,
          0.6,
          0.1,
          0.4,
          0.6,
          0.3,
          0.6,
          0.3,
          0.8,
          0,
          0.5,
          0.6,
          0.7,
          0.3,
          0.1,
          0.5,
          0.2,
          0.3,
          0.6,
          0.5,
          0,
          0.8,
          0.4,
          0.6,
          0.4,
          0.5,
          0.1,
          0.5,
          0.7,
          0.5,
          0.4,
          0.5,
          0.4,
          0.3,
          0.4,
          0.8,
          0.6,
          0.1,
          0.6,
          0.5,
          0.3,
          0.7,
          0.4,
          0.1,
          0.4,
          0.1,
          0.7,
          0.2,
          0.4,
          0.9,
          0.2,
          0.1,
          0.6,
          0.4,
          0.2,
          0.6,
          0.8,
          0.2,
          0.4,
          0.2,
          0.7,
          0.6,
          0.6,
          0.3,
          0.4,
          0.6,
          0.9,
          0.2,
          0.1,
          0.2,
          0.6,
          0.2,
          0.2,
          0.3,
          0.7
         ],
         "y": [
          0.013333333333333334,
          0.01,
          0,
          0,
          0.023333333333333334,
          0,
          0.013333333333333334,
          0.02,
          0.03,
          0,
          0,
          0.006666666666666667,
          0.01,
          0.013333333333333334,
          0,
          0.006666666666666667,
          0.02666666666666667,
          0.013333333333333334,
          0.023333333333333334,
          0.023333333333333334,
          0,
          0.006666666666666667,
          0.02666666666666667,
          0.013333333333333334,
          0.006666666666666667,
          0.02,
          0.016666666666666666,
          0.006666666666666667,
          0.016666666666666666,
          0.02,
          0.0033333333333333335,
          0.0033333333333333335,
          0.01,
          0.02,
          0,
          0,
          0.0033333333333333335,
          0.03,
          0.03,
          0.013333333333333334,
          0.006666666666666667,
          0.0033333333333333335,
          0,
          0.016666666666666666,
          0.016666666666666666,
          0,
          0.006666666666666667,
          0.02,
          0.006666666666666667,
          0.006666666666666667,
          0.02,
          0.03,
          0,
          0.006666666666666667,
          0.013333333333333334,
          0.04,
          0.02666666666666667,
          0.016666666666666666,
          0.006666666666666667,
          0.023333333333333334,
          0.006666666666666667,
          0.03333333333333333,
          0.013333333333333334,
          0,
          0.02666666666666667,
          0.01,
          0.01,
          0.02,
          0,
          0.02666666666666667,
          0.023333333333333334,
          0.006666666666666667,
          0.0033333333333333335,
          0.006666666666666667,
          0.03333333333333333,
          0.013333333333333334,
          0.01,
          0.006666666666666667,
          0.006666666666666667,
          0.006666666666666667,
          0.02,
          0.016666666666666666,
          0.01,
          0.023333333333333334,
          0.013333333333333334,
          0.023333333333333334,
          0.016666666666666666,
          0.023333333333333334,
          0.01,
          0.006666666666666667,
          0.01,
          0.02,
          0.006666666666666667,
          0.006666666666666667,
          0,
          0.0033333333333333335,
          0.013333333333333334,
          0.016666666666666666,
          0.02,
          0.016666666666666666
         ]
        },
        {
         "mode": "markers",
         "name": "Layer: 8",
         "type": "scatter",
         "x": [
          0.2,
          0.3,
          0.2,
          0.1,
          0.5,
          0.3,
          0.3,
          0.8,
          0.3,
          0.7,
          0.2,
          0.1,
          0.4,
          0.4,
          0,
          0.5,
          0.4,
          0.5,
          0.9,
          0.2,
          0.7,
          0.8,
          0.8,
          0.4,
          0.4,
          0.4,
          0.6,
          0.1,
          0.4,
          0.6,
          0.3,
          0.6,
          0.3,
          0.8,
          0,
          0.5,
          0.6,
          0.7,
          0.3,
          0.1,
          0.5,
          0.2,
          0.3,
          0.6,
          0.5,
          0,
          0.8,
          0.4,
          0.6,
          0.4,
          0.5,
          0.1,
          0.5,
          0.7,
          0.5,
          0.4,
          0.5,
          0.4,
          0.3,
          0.4,
          0.8,
          0.6,
          0.1,
          0.6,
          0.5,
          0.3,
          0.7,
          0.4,
          0.1,
          0.4,
          0.1,
          0.7,
          0.2,
          0.4,
          0.9,
          0.2,
          0.1,
          0.6,
          0.4,
          0.2,
          0.6,
          0.8,
          0.2,
          0.4,
          0.2,
          0.7,
          0.6,
          0.6,
          0.3,
          0.4,
          0.6,
          0.9,
          0.2,
          0.1,
          0.2,
          0.6,
          0.2,
          0.2,
          0.3,
          0.7
         ],
         "y": [
          0.01,
          0.01,
          0,
          0,
          0.02,
          0,
          0.0033333333333333335,
          0.013333333333333334,
          0.03666666666666667,
          0,
          0,
          0,
          0.01,
          0.013333333333333334,
          0,
          0.006666666666666667,
          0.02666666666666667,
          0.02,
          0.02,
          0.01,
          0,
          0.006666666666666667,
          0.02,
          0.013333333333333334,
          0.0033333333333333335,
          0.023333333333333334,
          0.0033333333333333335,
          0.0033333333333333335,
          0.0033333333333333335,
          0.01,
          0.0033333333333333335,
          0.0033333333333333335,
          0.01,
          0.013333333333333334,
          0,
          0,
          0,
          0.013333333333333334,
          0.016666666666666666,
          0.01,
          0.01,
          0.006666666666666667,
          0,
          0.01,
          0.023333333333333334,
          0,
          0,
          0.013333333333333334,
          0.0033333333333333335,
          0.016666666666666666,
          0.016666666666666666,
          0.02,
          0,
          0.01,
          0.006666666666666667,
          0.03,
          0.02666666666666667,
          0.02,
          0,
          0.02,
          0.006666666666666667,
          0.023333333333333334,
          0.013333333333333334,
          0,
          0.013333333333333334,
          0.0033333333333333335,
          0.02,
          0.02,
          0,
          0.013333333333333334,
          0.023333333333333334,
          0,
          0.0033333333333333335,
          0.01,
          0.03333333333333333,
          0.01,
          0.013333333333333334,
          0.006666666666666667,
          0.0033333333333333335,
          0,
          0.013333333333333334,
          0.01,
          0.006666666666666667,
          0.023333333333333334,
          0.013333333333333334,
          0.02666666666666667,
          0.01,
          0.01,
          0.02,
          0.006666666666666667,
          0.01,
          0.02666666666666667,
          0,
          0.01,
          0,
          0.01,
          0.0033333333333333335,
          0.0033333333333333335,
          0.0033333333333333335,
          0.01
         ]
        },
        {
         "mode": "markers",
         "name": "Layer: 9",
         "type": "scatter",
         "x": [
          0.2,
          0.3,
          0.2,
          0.1,
          0.5,
          0.3,
          0.3,
          0.8,
          0.3,
          0.7,
          0.2,
          0.1,
          0.4,
          0.4,
          0,
          0.5,
          0.4,
          0.5,
          0.9,
          0.2,
          0.7,
          0.8,
          0.8,
          0.4,
          0.4,
          0.4,
          0.6,
          0.1,
          0.4,
          0.6,
          0.3,
          0.6,
          0.3,
          0.8,
          0,
          0.5,
          0.6,
          0.7,
          0.3,
          0.1,
          0.5,
          0.2,
          0.3,
          0.6,
          0.5,
          0,
          0.8,
          0.4,
          0.6,
          0.4,
          0.5,
          0.1,
          0.5,
          0.7,
          0.5,
          0.4,
          0.5,
          0.4,
          0.3,
          0.4,
          0.8,
          0.6,
          0.1,
          0.6,
          0.5,
          0.3,
          0.7,
          0.4,
          0.1,
          0.4,
          0.1,
          0.7,
          0.2,
          0.4,
          0.9,
          0.2,
          0.1,
          0.6,
          0.4,
          0.2,
          0.6,
          0.8,
          0.2,
          0.4,
          0.2,
          0.7,
          0.6,
          0.6,
          0.3,
          0.4,
          0.6,
          0.9,
          0.2,
          0.1,
          0.2,
          0.6,
          0.2,
          0.2,
          0.3,
          0.7
         ],
         "y": [
          0.006666666666666667,
          0.013333333333333334,
          0,
          0,
          0.02,
          0,
          0.01,
          0.0033333333333333335,
          0.02,
          0,
          0,
          0,
          0.006666666666666667,
          0.006666666666666667,
          0,
          0.006666666666666667,
          0.03333333333333333,
          0.016666666666666666,
          0.023333333333333334,
          0.016666666666666666,
          0,
          0.0033333333333333335,
          0.013333333333333334,
          0.0033333333333333335,
          0.006666666666666667,
          0.02,
          0,
          0.0033333333333333335,
          0,
          0.023333333333333334,
          0.0033333333333333335,
          0.006666666666666667,
          0.01,
          0.01,
          0,
          0,
          0,
          0.016666666666666666,
          0.013333333333333334,
          0.01,
          0.006666666666666667,
          0,
          0,
          0.0033333333333333335,
          0.013333333333333334,
          0,
          0,
          0.016666666666666666,
          0.006666666666666667,
          0.0033333333333333335,
          0.02,
          0.01,
          0,
          0.0033333333333333335,
          0.01,
          0.03,
          0.02,
          0.02,
          0,
          0.02,
          0,
          0.02,
          0.01,
          0,
          0.01,
          0.006666666666666667,
          0.023333333333333334,
          0.016666666666666666,
          0,
          0.02666666666666667,
          0.02,
          0,
          0.0033333333333333335,
          0.013333333333333334,
          0.023333333333333334,
          0.006666666666666667,
          0.006666666666666667,
          0.006666666666666667,
          0,
          0,
          0.016666666666666666,
          0.01,
          0.0033333333333333335,
          0.013333333333333334,
          0.006666666666666667,
          0.016666666666666666,
          0,
          0.016666666666666666,
          0.02,
          0.01,
          0.013333333333333334,
          0.006666666666666667,
          0,
          0.0033333333333333335,
          0,
          0.016666666666666666,
          0.0033333333333333335,
          0.006666666666666667,
          0.006666666666666667,
          0.023333333333333334
         ]
        },
        {
         "mode": "markers",
         "name": "Layer: 10",
         "type": "scatter",
         "x": [
          0.2,
          0.3,
          0.2,
          0.1,
          0.5,
          0.3,
          0.3,
          0.8,
          0.3,
          0.7,
          0.2,
          0.1,
          0.4,
          0.4,
          0,
          0.5,
          0.4,
          0.5,
          0.9,
          0.2,
          0.7,
          0.8,
          0.8,
          0.4,
          0.4,
          0.4,
          0.6,
          0.1,
          0.4,
          0.6,
          0.3,
          0.6,
          0.3,
          0.8,
          0,
          0.5,
          0.6,
          0.7,
          0.3,
          0.1,
          0.5,
          0.2,
          0.3,
          0.6,
          0.5,
          0,
          0.8,
          0.4,
          0.6,
          0.4,
          0.5,
          0.1,
          0.5,
          0.7,
          0.5,
          0.4,
          0.5,
          0.4,
          0.3,
          0.4,
          0.8,
          0.6,
          0.1,
          0.6,
          0.5,
          0.3,
          0.7,
          0.4,
          0.1,
          0.4,
          0.1,
          0.7,
          0.2,
          0.4,
          0.9,
          0.2,
          0.1,
          0.6,
          0.4,
          0.2,
          0.6,
          0.8,
          0.2,
          0.4,
          0.2,
          0.7,
          0.6,
          0.6,
          0.3,
          0.4,
          0.6,
          0.9,
          0.2,
          0.1,
          0.2,
          0.6,
          0.2,
          0.2,
          0.3,
          0.7
         ],
         "y": [
          0.006666666666666667,
          0,
          0,
          0,
          0.023333333333333334,
          0,
          0.01,
          0.0033333333333333335,
          0.016666666666666666,
          0,
          0,
          0,
          0.006666666666666667,
          0.013333333333333334,
          0,
          0.006666666666666667,
          0.02666666666666667,
          0.013333333333333334,
          0.006666666666666667,
          0.01,
          0,
          0.0033333333333333335,
          0.006666666666666667,
          0,
          0,
          0.013333333333333334,
          0,
          0.006666666666666667,
          0,
          0.016666666666666666,
          0.0033333333333333335,
          0.0033333333333333335,
          0.0033333333333333335,
          0.023333333333333334,
          0,
          0,
          0,
          0.006666666666666667,
          0.016666666666666666,
          0.01,
          0.01,
          0,
          0,
          0.0033333333333333335,
          0.016666666666666666,
          0,
          0,
          0.013333333333333334,
          0.01,
          0,
          0.013333333333333334,
          0.006666666666666667,
          0,
          0.0033333333333333335,
          0.006666666666666667,
          0.023333333333333334,
          0.006666666666666667,
          0.01,
          0,
          0.016666666666666666,
          0,
          0.013333333333333334,
          0.02,
          0,
          0.01,
          0.006666666666666667,
          0.01,
          0.013333333333333334,
          0,
          0.023333333333333334,
          0.02,
          0,
          0,
          0.0033333333333333335,
          0.02,
          0.006666666666666667,
          0.006666666666666667,
          0.01,
          0,
          0,
          0.01,
          0.0033333333333333335,
          0,
          0.01,
          0.006666666666666667,
          0.013333333333333334,
          0,
          0.016666666666666666,
          0.006666666666666667,
          0.01,
          0.013333333333333334,
          0.006666666666666667,
          0,
          0.006666666666666667,
          0,
          0.013333333333333334,
          0.006666666666666667,
          0.0033333333333333335,
          0.01,
          0.016666666666666666
         ]
        },
        {
         "mode": "markers",
         "name": "Layer: 11",
         "type": "scatter",
         "x": [
          0.2,
          0.3,
          0.2,
          0.1,
          0.5,
          0.3,
          0.3,
          0.8,
          0.3,
          0.7,
          0.2,
          0.1,
          0.4,
          0.4,
          0,
          0.5,
          0.4,
          0.5,
          0.9,
          0.2,
          0.7,
          0.8,
          0.8,
          0.4,
          0.4,
          0.4,
          0.6,
          0.1,
          0.4,
          0.6,
          0.3,
          0.6,
          0.3,
          0.8,
          0,
          0.5,
          0.6,
          0.7,
          0.3,
          0.1,
          0.5,
          0.2,
          0.3,
          0.6,
          0.5,
          0,
          0.8,
          0.4,
          0.6,
          0.4,
          0.5,
          0.1,
          0.5,
          0.7,
          0.5,
          0.4,
          0.5,
          0.4,
          0.3,
          0.4,
          0.8,
          0.6,
          0.1,
          0.6,
          0.5,
          0.3,
          0.7,
          0.4,
          0.1,
          0.4,
          0.1,
          0.7,
          0.2,
          0.4,
          0.9,
          0.2,
          0.1,
          0.6,
          0.4,
          0.2,
          0.6,
          0.8,
          0.2,
          0.4,
          0.2,
          0.7,
          0.6,
          0.6,
          0.3,
          0.4,
          0.6,
          0.9,
          0.2,
          0.1,
          0.2,
          0.6,
          0.2,
          0.2,
          0.3,
          0.7
         ],
         "y": [
          0.01,
          0,
          0,
          0,
          0.023333333333333334,
          0,
          0.006666666666666667,
          0.0033333333333333335,
          0.023333333333333334,
          0,
          0,
          0,
          0.0033333333333333335,
          0.0033333333333333335,
          0,
          0.006666666666666667,
          0.013333333333333334,
          0.006666666666666667,
          0.006666666666666667,
          0.0033333333333333335,
          0,
          0.0033333333333333335,
          0.0033333333333333335,
          0,
          0,
          0.0033333333333333335,
          0,
          0.0033333333333333335,
          0,
          0.013333333333333334,
          0.006666666666666667,
          0.0033333333333333335,
          0.0033333333333333335,
          0.016666666666666666,
          0,
          0,
          0,
          0.006666666666666667,
          0.006666666666666667,
          0.023333333333333334,
          0.01,
          0,
          0,
          0,
          0.013333333333333334,
          0,
          0,
          0.01,
          0.0033333333333333335,
          0,
          0.006666666666666667,
          0.02,
          0,
          0,
          0.016666666666666666,
          0.016666666666666666,
          0.0033333333333333335,
          0.01,
          0,
          0.016666666666666666,
          0,
          0.013333333333333334,
          0.01,
          0,
          0.006666666666666667,
          0,
          0.013333333333333334,
          0.01,
          0,
          0.013333333333333334,
          0.02,
          0,
          0,
          0,
          0.02666666666666667,
          0.006666666666666667,
          0.006666666666666667,
          0.006666666666666667,
          0,
          0,
          0.01,
          0.0033333333333333335,
          0,
          0.013333333333333334,
          0.006666666666666667,
          0.016666666666666666,
          0,
          0.02,
          0,
          0.01,
          0.01,
          0,
          0,
          0.006666666666666667,
          0,
          0.01,
          0.006666666666666667,
          0.006666666666666667,
          0.006666666666666667,
          0.016666666666666666
         ]
        },
        {
         "mode": "markers",
         "name": "Layer: 12",
         "type": "scatter",
         "x": [
          0.2,
          0.3,
          0.2,
          0.1,
          0.5,
          0.3,
          0.3,
          0.8,
          0.3,
          0.7,
          0.2,
          0.1,
          0.4,
          0.4,
          0,
          0.5,
          0.4,
          0.5,
          0.9,
          0.2,
          0.7,
          0.8,
          0.8,
          0.4,
          0.4,
          0.4,
          0.6,
          0.1,
          0.4,
          0.6,
          0.3,
          0.6,
          0.3,
          0.8,
          0,
          0.5,
          0.6,
          0.7,
          0.3,
          0.1,
          0.5,
          0.2,
          0.3,
          0.6,
          0.5,
          0,
          0.8,
          0.4,
          0.6,
          0.4,
          0.5,
          0.1,
          0.5,
          0.7,
          0.5,
          0.4,
          0.5,
          0.4,
          0.3,
          0.4,
          0.8,
          0.6,
          0.1,
          0.6,
          0.5,
          0.3,
          0.7,
          0.4,
          0.1,
          0.4,
          0.1,
          0.7,
          0.2,
          0.4,
          0.9,
          0.2,
          0.1,
          0.6,
          0.4,
          0.2,
          0.6,
          0.8,
          0.2,
          0.4,
          0.2,
          0.7,
          0.6,
          0.6,
          0.3,
          0.4,
          0.6,
          0.9,
          0.2,
          0.1,
          0.2,
          0.6,
          0.2,
          0.2,
          0.3,
          0.7
         ],
         "y": [
          0,
          0,
          0,
          0,
          0.013333333333333334,
          0,
          0.01,
          0.006666666666666667,
          0.02666666666666667,
          0,
          0,
          0,
          0.0033333333333333335,
          0.0033333333333333335,
          0,
          0,
          0.01,
          0.013333333333333334,
          0.006666666666666667,
          0,
          0,
          0,
          0.013333333333333334,
          0,
          0,
          0.01,
          0,
          0,
          0,
          0.01,
          0,
          0.006666666666666667,
          0,
          0.02,
          0,
          0,
          0,
          0.01,
          0.01,
          0.016666666666666666,
          0.013333333333333334,
          0,
          0,
          0,
          0.006666666666666667,
          0,
          0,
          0.013333333333333334,
          0.0033333333333333335,
          0,
          0.006666666666666667,
          0.013333333333333334,
          0,
          0,
          0.02,
          0.016666666666666666,
          0.0033333333333333335,
          0.023333333333333334,
          0,
          0.013333333333333334,
          0,
          0.006666666666666667,
          0.01,
          0,
          0.02,
          0,
          0.02,
          0.006666666666666667,
          0,
          0.01,
          0.013333333333333334,
          0,
          0,
          0,
          0.023333333333333334,
          0.016666666666666666,
          0,
          0.01,
          0,
          0,
          0.006666666666666667,
          0.0033333333333333335,
          0,
          0.01,
          0.006666666666666667,
          0.0033333333333333335,
          0,
          0.013333333333333334,
          0,
          0.01,
          0,
          0,
          0,
          0.01,
          0,
          0.0033333333333333335,
          0.01,
          0.006666666666666667,
          0.0033333333333333335,
          0.016666666666666666
         ]
        },
        {
         "mode": "markers",
         "name": "Layer: 13",
         "type": "scatter",
         "x": [
          0.2,
          0.3,
          0.2,
          0.1,
          0.5,
          0.3,
          0.3,
          0.8,
          0.3,
          0.7,
          0.2,
          0.1,
          0.4,
          0.4,
          0,
          0.5,
          0.4,
          0.5,
          0.9,
          0.2,
          0.7,
          0.8,
          0.8,
          0.4,
          0.4,
          0.4,
          0.6,
          0.1,
          0.4,
          0.6,
          0.3,
          0.6,
          0.3,
          0.8,
          0,
          0.5,
          0.6,
          0.7,
          0.3,
          0.1,
          0.5,
          0.2,
          0.3,
          0.6,
          0.5,
          0,
          0.8,
          0.4,
          0.6,
          0.4,
          0.5,
          0.1,
          0.5,
          0.7,
          0.5,
          0.4,
          0.5,
          0.4,
          0.3,
          0.4,
          0.8,
          0.6,
          0.1,
          0.6,
          0.5,
          0.3,
          0.7,
          0.4,
          0.1,
          0.4,
          0.1,
          0.7,
          0.2,
          0.4,
          0.9,
          0.2,
          0.1,
          0.6,
          0.4,
          0.2,
          0.6,
          0.8,
          0.2,
          0.4,
          0.2,
          0.7,
          0.6,
          0.6,
          0.3,
          0.4,
          0.6,
          0.9,
          0.2,
          0.1,
          0.2,
          0.6,
          0.2,
          0.2,
          0.3,
          0.7
         ],
         "y": [
          0,
          0,
          0,
          0,
          0.006666666666666667,
          0,
          0.006666666666666667,
          0.0033333333333333335,
          0.01,
          0,
          0,
          0,
          0,
          0.0033333333333333335,
          0,
          0,
          0.006666666666666667,
          0.013333333333333334,
          0,
          0,
          0,
          0,
          0.016666666666666666,
          0,
          0,
          0.01,
          0,
          0,
          0,
          0.006666666666666667,
          0,
          0.006666666666666667,
          0,
          0.0033333333333333335,
          0,
          0,
          0,
          0.0033333333333333335,
          0.006666666666666667,
          0.006666666666666667,
          0.01,
          0,
          0,
          0,
          0.006666666666666667,
          0,
          0,
          0.013333333333333334,
          0,
          0,
          0.01,
          0.01,
          0,
          0,
          0.02,
          0.016666666666666666,
          0.0033333333333333335,
          0.013333333333333334,
          0,
          0.01,
          0,
          0.01,
          0.006666666666666667,
          0,
          0.013333333333333334,
          0,
          0.006666666666666667,
          0.013333333333333334,
          0,
          0.006666666666666667,
          0.016666666666666666,
          0,
          0,
          0,
          0.023333333333333334,
          0.0033333333333333335,
          0,
          0.0033333333333333335,
          0,
          0,
          0.006666666666666667,
          0.006666666666666667,
          0,
          0.0033333333333333335,
          0,
          0,
          0,
          0.01,
          0,
          0.006666666666666667,
          0,
          0,
          0,
          0.0033333333333333335,
          0,
          0.0033333333333333335,
          0,
          0.013333333333333334,
          0.0033333333333333335,
          0.0033333333333333335
         ]
        },
        {
         "mode": "markers",
         "name": "Layer: 14",
         "type": "scatter",
         "x": [
          0.2,
          0.3,
          0.2,
          0.1,
          0.5,
          0.3,
          0.3,
          0.8,
          0.3,
          0.7,
          0.2,
          0.1,
          0.4,
          0.4,
          0,
          0.5,
          0.4,
          0.5,
          0.9,
          0.2,
          0.7,
          0.8,
          0.8,
          0.4,
          0.4,
          0.4,
          0.6,
          0.1,
          0.4,
          0.6,
          0.3,
          0.6,
          0.3,
          0.8,
          0,
          0.5,
          0.6,
          0.7,
          0.3,
          0.1,
          0.5,
          0.2,
          0.3,
          0.6,
          0.5,
          0,
          0.8,
          0.4,
          0.6,
          0.4,
          0.5,
          0.1,
          0.5,
          0.7,
          0.5,
          0.4,
          0.5,
          0.4,
          0.3,
          0.4,
          0.8,
          0.6,
          0.1,
          0.6,
          0.5,
          0.3,
          0.7,
          0.4,
          0.1,
          0.4,
          0.1,
          0.7,
          0.2,
          0.4,
          0.9,
          0.2,
          0.1,
          0.6,
          0.4,
          0.2,
          0.6,
          0.8,
          0.2,
          0.4,
          0.2,
          0.7,
          0.6,
          0.6,
          0.3,
          0.4,
          0.6,
          0.9,
          0.2,
          0.1,
          0.2,
          0.6,
          0.2,
          0.2,
          0.3,
          0.7
         ],
         "y": [
          0,
          0,
          0,
          0,
          0.006666666666666667,
          0,
          0.016666666666666666,
          0.01,
          0.013333333333333334,
          0,
          0,
          0,
          0,
          0.006666666666666667,
          0,
          0,
          0.01,
          0.01,
          0,
          0,
          0,
          0,
          0.013333333333333334,
          0,
          0,
          0.016666666666666666,
          0,
          0,
          0,
          0.023333333333333334,
          0,
          0,
          0,
          0,
          0,
          0,
          0,
          0.0033333333333333335,
          0.0033333333333333335,
          0.006666666666666667,
          0,
          0,
          0,
          0,
          0.0033333333333333335,
          0,
          0,
          0.013333333333333334,
          0,
          0,
          0.0033333333333333335,
          0.0033333333333333335,
          0,
          0,
          0.006666666666666667,
          0.013333333333333334,
          0.006666666666666667,
          0.02,
          0,
          0.016666666666666666,
          0,
          0.0033333333333333335,
          0.0033333333333333335,
          0,
          0.01,
          0,
          0.006666666666666667,
          0.006666666666666667,
          0,
          0.0033333333333333335,
          0.02,
          0,
          0,
          0,
          0.016666666666666666,
          0.0033333333333333335,
          0,
          0.01,
          0,
          0,
          0,
          0.013333333333333334,
          0,
          0.0033333333333333335,
          0,
          0,
          0,
          0.0033333333333333335,
          0,
          0.0033333333333333335,
          0,
          0,
          0,
          0.006666666666666667,
          0,
          0.006666666666666667,
          0,
          0.013333333333333334,
          0.01,
          0.0033333333333333335
         ]
        },
        {
         "mode": "markers",
         "name": "Layer: 15",
         "type": "scatter",
         "x": [
          0.2,
          0.3,
          0.2,
          0.1,
          0.5,
          0.3,
          0.3,
          0.8,
          0.3,
          0.7,
          0.2,
          0.1,
          0.4,
          0.4,
          0,
          0.5,
          0.4,
          0.5,
          0.9,
          0.2,
          0.7,
          0.8,
          0.8,
          0.4,
          0.4,
          0.4,
          0.6,
          0.1,
          0.4,
          0.6,
          0.3,
          0.6,
          0.3,
          0.8,
          0,
          0.5,
          0.6,
          0.7,
          0.3,
          0.1,
          0.5,
          0.2,
          0.3,
          0.6,
          0.5,
          0,
          0.8,
          0.4,
          0.6,
          0.4,
          0.5,
          0.1,
          0.5,
          0.7,
          0.5,
          0.4,
          0.5,
          0.4,
          0.3,
          0.4,
          0.8,
          0.6,
          0.1,
          0.6,
          0.5,
          0.3,
          0.7,
          0.4,
          0.1,
          0.4,
          0.1,
          0.7,
          0.2,
          0.4,
          0.9,
          0.2,
          0.1,
          0.6,
          0.4,
          0.2,
          0.6,
          0.8,
          0.2,
          0.4,
          0.2,
          0.7,
          0.6,
          0.6,
          0.3,
          0.4,
          0.6,
          0.9,
          0.2,
          0.1,
          0.2,
          0.6,
          0.2,
          0.2,
          0.3,
          0.7
         ],
         "y": [
          0,
          0,
          0,
          0,
          0.01,
          0,
          0.006666666666666667,
          0.01,
          0.016666666666666666,
          0,
          0,
          0,
          0,
          0.01,
          0,
          0,
          0.0033333333333333335,
          0.01,
          0,
          0,
          0,
          0,
          0.006666666666666667,
          0,
          0,
          0.013333333333333334,
          0,
          0,
          0,
          0.01,
          0,
          0,
          0,
          0,
          0,
          0,
          0,
          0.0033333333333333335,
          0,
          0,
          0,
          0,
          0,
          0,
          0.006666666666666667,
          0,
          0,
          0.0033333333333333335,
          0,
          0,
          0.01,
          0.0033333333333333335,
          0,
          0,
          0.0033333333333333335,
          0.006666666666666667,
          0.016666666666666666,
          0.016666666666666666,
          0,
          0.006666666666666667,
          0,
          0.0033333333333333335,
          0.0033333333333333335,
          0,
          0.01,
          0,
          0,
          0.013333333333333334,
          0,
          0.0033333333333333335,
          0.013333333333333334,
          0,
          0,
          0,
          0.013333333333333334,
          0,
          0,
          0.006666666666666667,
          0,
          0,
          0,
          0.0033333333333333335,
          0,
          0,
          0,
          0,
          0,
          0,
          0,
          0.0033333333333333335,
          0,
          0,
          0,
          0.01,
          0,
          0.006666666666666667,
          0,
          0.0033333333333333335,
          0.0033333333333333335,
          0.006666666666666667
         ]
        },
        {
         "mode": "markers",
         "name": "Layer: 16",
         "type": "scatter",
         "x": [
          0.2,
          0.3,
          0.2,
          0.1,
          0.5,
          0.3,
          0.3,
          0.8,
          0.3,
          0.7,
          0.2,
          0.1,
          0.4,
          0.4,
          0,
          0.5,
          0.4,
          0.5,
          0.9,
          0.2,
          0.7,
          0.8,
          0.8,
          0.4,
          0.4,
          0.4,
          0.6,
          0.1,
          0.4,
          0.6,
          0.3,
          0.6,
          0.3,
          0.8,
          0,
          0.5,
          0.6,
          0.7,
          0.3,
          0.1,
          0.5,
          0.2,
          0.3,
          0.6,
          0.5,
          0,
          0.8,
          0.4,
          0.6,
          0.4,
          0.5,
          0.1,
          0.5,
          0.7,
          0.5,
          0.4,
          0.5,
          0.4,
          0.3,
          0.4,
          0.8,
          0.6,
          0.1,
          0.6,
          0.5,
          0.3,
          0.7,
          0.4,
          0.1,
          0.4,
          0.1,
          0.7,
          0.2,
          0.4,
          0.9,
          0.2,
          0.1,
          0.6,
          0.4,
          0.2,
          0.6,
          0.8,
          0.2,
          0.4,
          0.2,
          0.7,
          0.6,
          0.6,
          0.3,
          0.4,
          0.6,
          0.9,
          0.2,
          0.1,
          0.2,
          0.6,
          0.2,
          0.2,
          0.3,
          0.7
         ],
         "y": [
          0,
          0,
          0,
          0,
          0.016666666666666666,
          0,
          0.006666666666666667,
          0.0033333333333333335,
          0.0033333333333333335,
          0,
          0,
          0,
          0,
          0.0033333333333333335,
          0,
          0,
          0.006666666666666667,
          0.013333333333333334,
          0,
          0,
          0,
          0,
          0.0033333333333333335,
          0,
          0,
          0.006666666666666667,
          0,
          0,
          0,
          0.013333333333333334,
          0,
          0,
          0,
          0,
          0,
          0,
          0,
          0.0033333333333333335,
          0,
          0,
          0,
          0,
          0,
          0,
          0.0033333333333333335,
          0,
          0,
          0.0033333333333333335,
          0,
          0,
          0.006666666666666667,
          0.006666666666666667,
          0,
          0,
          0.0033333333333333335,
          0.006666666666666667,
          0.016666666666666666,
          0.0033333333333333335,
          0,
          0.006666666666666667,
          0,
          0,
          0,
          0,
          0.01,
          0,
          0,
          0.006666666666666667,
          0,
          0.006666666666666667,
          0.013333333333333334,
          0,
          0,
          0,
          0.013333333333333334,
          0,
          0,
          0.006666666666666667,
          0,
          0,
          0,
          0.0033333333333333335,
          0,
          0,
          0,
          0,
          0,
          0,
          0,
          0.01,
          0,
          0,
          0,
          0.02,
          0,
          0.0033333333333333335,
          0,
          0.0033333333333333335,
          0,
          0.006666666666666667
         ]
        },
        {
         "mode": "markers",
         "name": "Layer: 17",
         "type": "scatter",
         "x": [
          0.2,
          0.3,
          0.2,
          0.1,
          0.5,
          0.3,
          0.3,
          0.8,
          0.3,
          0.7,
          0.2,
          0.1,
          0.4,
          0.4,
          0,
          0.5,
          0.4,
          0.5,
          0.9,
          0.2,
          0.7,
          0.8,
          0.8,
          0.4,
          0.4,
          0.4,
          0.6,
          0.1,
          0.4,
          0.6,
          0.3,
          0.6,
          0.3,
          0.8,
          0,
          0.5,
          0.6,
          0.7,
          0.3,
          0.1,
          0.5,
          0.2,
          0.3,
          0.6,
          0.5,
          0,
          0.8,
          0.4,
          0.6,
          0.4,
          0.5,
          0.1,
          0.5,
          0.7,
          0.5,
          0.4,
          0.5,
          0.4,
          0.3,
          0.4,
          0.8,
          0.6,
          0.1,
          0.6,
          0.5,
          0.3,
          0.7,
          0.4,
          0.1,
          0.4,
          0.1,
          0.7,
          0.2,
          0.4,
          0.9,
          0.2,
          0.1,
          0.6,
          0.4,
          0.2,
          0.6,
          0.8,
          0.2,
          0.4,
          0.2,
          0.7,
          0.6,
          0.6,
          0.3,
          0.4,
          0.6,
          0.9,
          0.2,
          0.1,
          0.2,
          0.6,
          0.2,
          0.2,
          0.3,
          0.7
         ],
         "y": [
          0,
          0,
          0,
          0,
          0.013333333333333334,
          0,
          0.0033333333333333335,
          0.01,
          0,
          0,
          0,
          0,
          0,
          0,
          0,
          0,
          0.0033333333333333335,
          0.01,
          0,
          0,
          0,
          0,
          0.006666666666666667,
          0,
          0,
          0.006666666666666667,
          0,
          0,
          0,
          0.006666666666666667,
          0,
          0,
          0,
          0,
          0,
          0,
          0,
          0.0033333333333333335,
          0,
          0,
          0,
          0,
          0,
          0,
          0.0033333333333333335,
          0,
          0,
          0.0033333333333333335,
          0,
          0,
          0.006666666666666667,
          0.016666666666666666,
          0,
          0,
          0.0033333333333333335,
          0.01,
          0.0033333333333333335,
          0.006666666666666667,
          0,
          0.0033333333333333335,
          0,
          0,
          0,
          0,
          0.0033333333333333335,
          0,
          0,
          0.0033333333333333335,
          0,
          0,
          0.01,
          0,
          0,
          0,
          0.016666666666666666,
          0,
          0,
          0,
          0,
          0,
          0,
          0.006666666666666667,
          0,
          0,
          0,
          0,
          0,
          0,
          0,
          0,
          0,
          0,
          0,
          0.0033333333333333335,
          0,
          0,
          0,
          0.0033333333333333335,
          0,
          0
         ]
        },
        {
         "mode": "markers",
         "name": "Layer: 18",
         "type": "scatter",
         "x": [
          0.2,
          0.3,
          0.2,
          0.1,
          0.5,
          0.3,
          0.3,
          0.8,
          0.3,
          0.7,
          0.2,
          0.1,
          0.4,
          0.4,
          0,
          0.5,
          0.4,
          0.5,
          0.9,
          0.2,
          0.7,
          0.8,
          0.8,
          0.4,
          0.4,
          0.4,
          0.6,
          0.1,
          0.4,
          0.6,
          0.3,
          0.6,
          0.3,
          0.8,
          0,
          0.5,
          0.6,
          0.7,
          0.3,
          0.1,
          0.5,
          0.2,
          0.3,
          0.6,
          0.5,
          0,
          0.8,
          0.4,
          0.6,
          0.4,
          0.5,
          0.1,
          0.5,
          0.7,
          0.5,
          0.4,
          0.5,
          0.4,
          0.3,
          0.4,
          0.8,
          0.6,
          0.1,
          0.6,
          0.5,
          0.3,
          0.7,
          0.4,
          0.1,
          0.4,
          0.1,
          0.7,
          0.2,
          0.4,
          0.9,
          0.2,
          0.1,
          0.6,
          0.4,
          0.2,
          0.6,
          0.8,
          0.2,
          0.4,
          0.2,
          0.7,
          0.6,
          0.6,
          0.3,
          0.4,
          0.6,
          0.9,
          0.2,
          0.1,
          0.2,
          0.6,
          0.2,
          0.2,
          0.3,
          0.7
         ],
         "y": [
          0,
          0,
          0,
          0,
          0.006666666666666667,
          0,
          0.0033333333333333335,
          0.0033333333333333335,
          0,
          0,
          0,
          0,
          0,
          0,
          0,
          0,
          0.0033333333333333335,
          0.01,
          0,
          0,
          0,
          0,
          0.006666666666666667,
          0,
          0,
          0.01,
          0,
          0,
          0,
          0.006666666666666667,
          0,
          0,
          0,
          0,
          0,
          0,
          0,
          0,
          0,
          0,
          0,
          0,
          0,
          0,
          0.0033333333333333335,
          0,
          0,
          0,
          0,
          0,
          0.006666666666666667,
          0,
          0,
          0,
          0,
          0.006666666666666667,
          0.0033333333333333335,
          0.0033333333333333335,
          0,
          0,
          0,
          0,
          0,
          0,
          0.0033333333333333335,
          0,
          0,
          0,
          0,
          0,
          0.01,
          0,
          0,
          0,
          0.016666666666666666,
          0,
          0,
          0,
          0,
          0,
          0,
          0.006666666666666667,
          0,
          0,
          0,
          0,
          0,
          0,
          0,
          0,
          0,
          0,
          0,
          0.01,
          0,
          0,
          0,
          0,
          0,
          0
         ]
        },
        {
         "mode": "markers",
         "name": "Layer: 19",
         "type": "scatter",
         "x": [
          0.2,
          0.3,
          0.2,
          0.1,
          0.5,
          0.3,
          0.3,
          0.8,
          0.3,
          0.7,
          0.2,
          0.1,
          0.4,
          0.4,
          0,
          0.5,
          0.4,
          0.5,
          0.9,
          0.2,
          0.7,
          0.8,
          0.8,
          0.4,
          0.4,
          0.4,
          0.6,
          0.1,
          0.4,
          0.6,
          0.3,
          0.6,
          0.3,
          0.8,
          0,
          0.5,
          0.6,
          0.7,
          0.3,
          0.1,
          0.5,
          0.2,
          0.3,
          0.6,
          0.5,
          0,
          0.8,
          0.4,
          0.6,
          0.4,
          0.5,
          0.1,
          0.5,
          0.7,
          0.5,
          0.4,
          0.5,
          0.4,
          0.3,
          0.4,
          0.8,
          0.6,
          0.1,
          0.6,
          0.5,
          0.3,
          0.7,
          0.4,
          0.1,
          0.4,
          0.1,
          0.7,
          0.2,
          0.4,
          0.9,
          0.2,
          0.1,
          0.6,
          0.4,
          0.2,
          0.6,
          0.8,
          0.2,
          0.4,
          0.2,
          0.7,
          0.6,
          0.6,
          0.3,
          0.4,
          0.6,
          0.9,
          0.2,
          0.1,
          0.2,
          0.6,
          0.2,
          0.2,
          0.3,
          0.7
         ],
         "y": [
          0,
          0,
          0,
          0,
          0.0033333333333333335,
          0,
          0.01,
          0.01,
          0,
          0,
          0,
          0,
          0,
          0,
          0,
          0,
          0.013333333333333334,
          0.006666666666666667,
          0,
          0,
          0,
          0,
          0.0033333333333333335,
          0,
          0,
          0.01,
          0,
          0,
          0,
          0.006666666666666667,
          0,
          0,
          0,
          0,
          0,
          0,
          0,
          0,
          0,
          0,
          0,
          0,
          0,
          0,
          0.006666666666666667,
          0,
          0,
          0,
          0,
          0,
          0.0033333333333333335,
          0,
          0,
          0,
          0,
          0.0033333333333333335,
          0,
          0.006666666666666667,
          0,
          0,
          0,
          0,
          0,
          0,
          0,
          0,
          0,
          0,
          0,
          0,
          0.01,
          0,
          0,
          0,
          0.016666666666666666,
          0,
          0,
          0,
          0,
          0,
          0,
          0.006666666666666667,
          0,
          0,
          0,
          0,
          0,
          0,
          0,
          0,
          0,
          0,
          0,
          0,
          0,
          0,
          0,
          0,
          0,
          0
         ]
        },
        {
         "mode": "markers",
         "name": "Layer: 20",
         "type": "scatter",
         "x": [
          0.2,
          0.3,
          0.2,
          0.1,
          0.5,
          0.3,
          0.3,
          0.8,
          0.3,
          0.7,
          0.2,
          0.1,
          0.4,
          0.4,
          0,
          0.5,
          0.4,
          0.5,
          0.9,
          0.2,
          0.7,
          0.8,
          0.8,
          0.4,
          0.4,
          0.4,
          0.6,
          0.1,
          0.4,
          0.6,
          0.3,
          0.6,
          0.3,
          0.8,
          0,
          0.5,
          0.6,
          0.7,
          0.3,
          0.1,
          0.5,
          0.2,
          0.3,
          0.6,
          0.5,
          0,
          0.8,
          0.4,
          0.6,
          0.4,
          0.5,
          0.1,
          0.5,
          0.7,
          0.5,
          0.4,
          0.5,
          0.4,
          0.3,
          0.4,
          0.8,
          0.6,
          0.1,
          0.6,
          0.5,
          0.3,
          0.7,
          0.4,
          0.1,
          0.4,
          0.1,
          0.7,
          0.2,
          0.4,
          0.9,
          0.2,
          0.1,
          0.6,
          0.4,
          0.2,
          0.6,
          0.8,
          0.2,
          0.4,
          0.2,
          0.7,
          0.6,
          0.6,
          0.3,
          0.4,
          0.6,
          0.9,
          0.2,
          0.1,
          0.2,
          0.6,
          0.2,
          0.2,
          0.3,
          0.7
         ],
         "y": [
          0,
          0,
          0,
          0,
          0,
          0,
          0.006666666666666667,
          0.01,
          0,
          0,
          0,
          0,
          0,
          0,
          0,
          0,
          0.006666666666666667,
          0.006666666666666667,
          0,
          0,
          0,
          0,
          0.01,
          0,
          0,
          0.006666666666666667,
          0,
          0,
          0,
          0.0033333333333333335,
          0,
          0,
          0,
          0,
          0,
          0,
          0,
          0,
          0,
          0,
          0,
          0,
          0,
          0,
          0.0033333333333333335,
          0,
          0,
          0,
          0,
          0,
          0.0033333333333333335,
          0,
          0,
          0,
          0,
          0.006666666666666667,
          0,
          0.01,
          0,
          0,
          0,
          0,
          0,
          0,
          0,
          0,
          0,
          0,
          0,
          0,
          0.02,
          0,
          0,
          0,
          0.01,
          0,
          0,
          0,
          0,
          0,
          0,
          0,
          0,
          0,
          0,
          0,
          0,
          0,
          0,
          0,
          0,
          0,
          0,
          0,
          0,
          0,
          0,
          0,
          0,
          0
         ]
        },
        {
         "mode": "markers",
         "name": "Layer: 21",
         "type": "scatter",
         "x": [
          0.2,
          0.3,
          0.2,
          0.1,
          0.5,
          0.3,
          0.3,
          0.8,
          0.3,
          0.7,
          0.2,
          0.1,
          0.4,
          0.4,
          0,
          0.5,
          0.4,
          0.5,
          0.9,
          0.2,
          0.7,
          0.8,
          0.8,
          0.4,
          0.4,
          0.4,
          0.6,
          0.1,
          0.4,
          0.6,
          0.3,
          0.6,
          0.3,
          0.8,
          0,
          0.5,
          0.6,
          0.7,
          0.3,
          0.1,
          0.5,
          0.2,
          0.3,
          0.6,
          0.5,
          0,
          0.8,
          0.4,
          0.6,
          0.4,
          0.5,
          0.1,
          0.5,
          0.7,
          0.5,
          0.4,
          0.5,
          0.4,
          0.3,
          0.4,
          0.8,
          0.6,
          0.1,
          0.6,
          0.5,
          0.3,
          0.7,
          0.4,
          0.1,
          0.4,
          0.1,
          0.7,
          0.2,
          0.4,
          0.9,
          0.2,
          0.1,
          0.6,
          0.4,
          0.2,
          0.6,
          0.8,
          0.2,
          0.4,
          0.2,
          0.7,
          0.6,
          0.6,
          0.3,
          0.4,
          0.6,
          0.9,
          0.2,
          0.1,
          0.2,
          0.6,
          0.2,
          0.2,
          0.3,
          0.7
         ],
         "y": [
          0,
          0,
          0,
          0,
          0,
          0,
          0.01,
          0.016666666666666666,
          0,
          0,
          0,
          0,
          0,
          0,
          0,
          0,
          0,
          0.01,
          0,
          0,
          0,
          0,
          0.006666666666666667,
          0,
          0,
          0.0033333333333333335,
          0,
          0,
          0,
          0,
          0,
          0,
          0,
          0,
          0,
          0,
          0,
          0,
          0,
          0,
          0,
          0,
          0,
          0,
          0.0033333333333333335,
          0,
          0,
          0,
          0,
          0,
          0.0033333333333333335,
          0,
          0,
          0,
          0,
          0.0033333333333333335,
          0,
          0.0033333333333333335,
          0,
          0,
          0,
          0,
          0,
          0,
          0,
          0,
          0,
          0,
          0,
          0,
          0.006666666666666667,
          0,
          0,
          0,
          0.006666666666666667,
          0,
          0,
          0,
          0,
          0,
          0,
          0,
          0,
          0,
          0,
          0,
          0,
          0,
          0,
          0,
          0,
          0,
          0,
          0,
          0,
          0,
          0,
          0,
          0,
          0
         ]
        }
       ],
       "layout": {
        "template": {
         "data": {
          "bar": [
           {
            "error_x": {
             "color": "#2a3f5f"
            },
            "error_y": {
             "color": "#2a3f5f"
            },
            "marker": {
             "line": {
              "color": "#E5ECF6",
              "width": 0.5
             },
             "pattern": {
              "fillmode": "overlay",
              "size": 10,
              "solidity": 0.2
             }
            },
            "type": "bar"
           }
          ],
          "barpolar": [
           {
            "marker": {
             "line": {
              "color": "#E5ECF6",
              "width": 0.5
             },
             "pattern": {
              "fillmode": "overlay",
              "size": 10,
              "solidity": 0.2
             }
            },
            "type": "barpolar"
           }
          ],
          "carpet": [
           {
            "aaxis": {
             "endlinecolor": "#2a3f5f",
             "gridcolor": "white",
             "linecolor": "white",
             "minorgridcolor": "white",
             "startlinecolor": "#2a3f5f"
            },
            "baxis": {
             "endlinecolor": "#2a3f5f",
             "gridcolor": "white",
             "linecolor": "white",
             "minorgridcolor": "white",
             "startlinecolor": "#2a3f5f"
            },
            "type": "carpet"
           }
          ],
          "choropleth": [
           {
            "colorbar": {
             "outlinewidth": 0,
             "ticks": ""
            },
            "type": "choropleth"
           }
          ],
          "contour": [
           {
            "colorbar": {
             "outlinewidth": 0,
             "ticks": ""
            },
            "colorscale": [
             [
              0,
              "#0d0887"
             ],
             [
              0.1111111111111111,
              "#46039f"
             ],
             [
              0.2222222222222222,
              "#7201a8"
             ],
             [
              0.3333333333333333,
              "#9c179e"
             ],
             [
              0.4444444444444444,
              "#bd3786"
             ],
             [
              0.5555555555555556,
              "#d8576b"
             ],
             [
              0.6666666666666666,
              "#ed7953"
             ],
             [
              0.7777777777777778,
              "#fb9f3a"
             ],
             [
              0.8888888888888888,
              "#fdca26"
             ],
             [
              1,
              "#f0f921"
             ]
            ],
            "type": "contour"
           }
          ],
          "contourcarpet": [
           {
            "colorbar": {
             "outlinewidth": 0,
             "ticks": ""
            },
            "type": "contourcarpet"
           }
          ],
          "heatmap": [
           {
            "colorbar": {
             "outlinewidth": 0,
             "ticks": ""
            },
            "colorscale": [
             [
              0,
              "#0d0887"
             ],
             [
              0.1111111111111111,
              "#46039f"
             ],
             [
              0.2222222222222222,
              "#7201a8"
             ],
             [
              0.3333333333333333,
              "#9c179e"
             ],
             [
              0.4444444444444444,
              "#bd3786"
             ],
             [
              0.5555555555555556,
              "#d8576b"
             ],
             [
              0.6666666666666666,
              "#ed7953"
             ],
             [
              0.7777777777777778,
              "#fb9f3a"
             ],
             [
              0.8888888888888888,
              "#fdca26"
             ],
             [
              1,
              "#f0f921"
             ]
            ],
            "type": "heatmap"
           }
          ],
          "heatmapgl": [
           {
            "colorbar": {
             "outlinewidth": 0,
             "ticks": ""
            },
            "colorscale": [
             [
              0,
              "#0d0887"
             ],
             [
              0.1111111111111111,
              "#46039f"
             ],
             [
              0.2222222222222222,
              "#7201a8"
             ],
             [
              0.3333333333333333,
              "#9c179e"
             ],
             [
              0.4444444444444444,
              "#bd3786"
             ],
             [
              0.5555555555555556,
              "#d8576b"
             ],
             [
              0.6666666666666666,
              "#ed7953"
             ],
             [
              0.7777777777777778,
              "#fb9f3a"
             ],
             [
              0.8888888888888888,
              "#fdca26"
             ],
             [
              1,
              "#f0f921"
             ]
            ],
            "type": "heatmapgl"
           }
          ],
          "histogram": [
           {
            "marker": {
             "pattern": {
              "fillmode": "overlay",
              "size": 10,
              "solidity": 0.2
             }
            },
            "type": "histogram"
           }
          ],
          "histogram2d": [
           {
            "colorbar": {
             "outlinewidth": 0,
             "ticks": ""
            },
            "colorscale": [
             [
              0,
              "#0d0887"
             ],
             [
              0.1111111111111111,
              "#46039f"
             ],
             [
              0.2222222222222222,
              "#7201a8"
             ],
             [
              0.3333333333333333,
              "#9c179e"
             ],
             [
              0.4444444444444444,
              "#bd3786"
             ],
             [
              0.5555555555555556,
              "#d8576b"
             ],
             [
              0.6666666666666666,
              "#ed7953"
             ],
             [
              0.7777777777777778,
              "#fb9f3a"
             ],
             [
              0.8888888888888888,
              "#fdca26"
             ],
             [
              1,
              "#f0f921"
             ]
            ],
            "type": "histogram2d"
           }
          ],
          "histogram2dcontour": [
           {
            "colorbar": {
             "outlinewidth": 0,
             "ticks": ""
            },
            "colorscale": [
             [
              0,
              "#0d0887"
             ],
             [
              0.1111111111111111,
              "#46039f"
             ],
             [
              0.2222222222222222,
              "#7201a8"
             ],
             [
              0.3333333333333333,
              "#9c179e"
             ],
             [
              0.4444444444444444,
              "#bd3786"
             ],
             [
              0.5555555555555556,
              "#d8576b"
             ],
             [
              0.6666666666666666,
              "#ed7953"
             ],
             [
              0.7777777777777778,
              "#fb9f3a"
             ],
             [
              0.8888888888888888,
              "#fdca26"
             ],
             [
              1,
              "#f0f921"
             ]
            ],
            "type": "histogram2dcontour"
           }
          ],
          "mesh3d": [
           {
            "colorbar": {
             "outlinewidth": 0,
             "ticks": ""
            },
            "type": "mesh3d"
           }
          ],
          "parcoords": [
           {
            "line": {
             "colorbar": {
              "outlinewidth": 0,
              "ticks": ""
             }
            },
            "type": "parcoords"
           }
          ],
          "pie": [
           {
            "automargin": true,
            "type": "pie"
           }
          ],
          "scatter": [
           {
            "fillpattern": {
             "fillmode": "overlay",
             "size": 10,
             "solidity": 0.2
            },
            "type": "scatter"
           }
          ],
          "scatter3d": [
           {
            "line": {
             "colorbar": {
              "outlinewidth": 0,
              "ticks": ""
             }
            },
            "marker": {
             "colorbar": {
              "outlinewidth": 0,
              "ticks": ""
             }
            },
            "type": "scatter3d"
           }
          ],
          "scattercarpet": [
           {
            "marker": {
             "colorbar": {
              "outlinewidth": 0,
              "ticks": ""
             }
            },
            "type": "scattercarpet"
           }
          ],
          "scattergeo": [
           {
            "marker": {
             "colorbar": {
              "outlinewidth": 0,
              "ticks": ""
             }
            },
            "type": "scattergeo"
           }
          ],
          "scattergl": [
           {
            "marker": {
             "colorbar": {
              "outlinewidth": 0,
              "ticks": ""
             }
            },
            "type": "scattergl"
           }
          ],
          "scattermapbox": [
           {
            "marker": {
             "colorbar": {
              "outlinewidth": 0,
              "ticks": ""
             }
            },
            "type": "scattermapbox"
           }
          ],
          "scatterpolar": [
           {
            "marker": {
             "colorbar": {
              "outlinewidth": 0,
              "ticks": ""
             }
            },
            "type": "scatterpolar"
           }
          ],
          "scatterpolargl": [
           {
            "marker": {
             "colorbar": {
              "outlinewidth": 0,
              "ticks": ""
             }
            },
            "type": "scatterpolargl"
           }
          ],
          "scatterternary": [
           {
            "marker": {
             "colorbar": {
              "outlinewidth": 0,
              "ticks": ""
             }
            },
            "type": "scatterternary"
           }
          ],
          "surface": [
           {
            "colorbar": {
             "outlinewidth": 0,
             "ticks": ""
            },
            "colorscale": [
             [
              0,
              "#0d0887"
             ],
             [
              0.1111111111111111,
              "#46039f"
             ],
             [
              0.2222222222222222,
              "#7201a8"
             ],
             [
              0.3333333333333333,
              "#9c179e"
             ],
             [
              0.4444444444444444,
              "#bd3786"
             ],
             [
              0.5555555555555556,
              "#d8576b"
             ],
             [
              0.6666666666666666,
              "#ed7953"
             ],
             [
              0.7777777777777778,
              "#fb9f3a"
             ],
             [
              0.8888888888888888,
              "#fdca26"
             ],
             [
              1,
              "#f0f921"
             ]
            ],
            "type": "surface"
           }
          ],
          "table": [
           {
            "cells": {
             "fill": {
              "color": "#EBF0F8"
             },
             "line": {
              "color": "white"
             }
            },
            "header": {
             "fill": {
              "color": "#C8D4E3"
             },
             "line": {
              "color": "white"
             }
            },
            "type": "table"
           }
          ]
         },
         "layout": {
          "annotationdefaults": {
           "arrowcolor": "#2a3f5f",
           "arrowhead": 0,
           "arrowwidth": 1
          },
          "autotypenumbers": "strict",
          "coloraxis": {
           "colorbar": {
            "outlinewidth": 0,
            "ticks": ""
           }
          },
          "colorscale": {
           "diverging": [
            [
             0,
             "#8e0152"
            ],
            [
             0.1,
             "#c51b7d"
            ],
            [
             0.2,
             "#de77ae"
            ],
            [
             0.3,
             "#f1b6da"
            ],
            [
             0.4,
             "#fde0ef"
            ],
            [
             0.5,
             "#f7f7f7"
            ],
            [
             0.6,
             "#e6f5d0"
            ],
            [
             0.7,
             "#b8e186"
            ],
            [
             0.8,
             "#7fbc41"
            ],
            [
             0.9,
             "#4d9221"
            ],
            [
             1,
             "#276419"
            ]
           ],
           "sequential": [
            [
             0,
             "#0d0887"
            ],
            [
             0.1111111111111111,
             "#46039f"
            ],
            [
             0.2222222222222222,
             "#7201a8"
            ],
            [
             0.3333333333333333,
             "#9c179e"
            ],
            [
             0.4444444444444444,
             "#bd3786"
            ],
            [
             0.5555555555555556,
             "#d8576b"
            ],
            [
             0.6666666666666666,
             "#ed7953"
            ],
            [
             0.7777777777777778,
             "#fb9f3a"
            ],
            [
             0.8888888888888888,
             "#fdca26"
            ],
            [
             1,
             "#f0f921"
            ]
           ],
           "sequentialminus": [
            [
             0,
             "#0d0887"
            ],
            [
             0.1111111111111111,
             "#46039f"
            ],
            [
             0.2222222222222222,
             "#7201a8"
            ],
            [
             0.3333333333333333,
             "#9c179e"
            ],
            [
             0.4444444444444444,
             "#bd3786"
            ],
            [
             0.5555555555555556,
             "#d8576b"
            ],
            [
             0.6666666666666666,
             "#ed7953"
            ],
            [
             0.7777777777777778,
             "#fb9f3a"
            ],
            [
             0.8888888888888888,
             "#fdca26"
            ],
            [
             1,
             "#f0f921"
            ]
           ]
          },
          "colorway": [
           "#636efa",
           "#EF553B",
           "#00cc96",
           "#ab63fa",
           "#FFA15A",
           "#19d3f3",
           "#FF6692",
           "#B6E880",
           "#FF97FF",
           "#FECB52"
          ],
          "font": {
           "color": "#2a3f5f"
          },
          "geo": {
           "bgcolor": "white",
           "lakecolor": "white",
           "landcolor": "#E5ECF6",
           "showlakes": true,
           "showland": true,
           "subunitcolor": "white"
          },
          "hoverlabel": {
           "align": "left"
          },
          "hovermode": "closest",
          "mapbox": {
           "style": "light"
          },
          "paper_bgcolor": "white",
          "plot_bgcolor": "#E5ECF6",
          "polar": {
           "angularaxis": {
            "gridcolor": "white",
            "linecolor": "white",
            "ticks": ""
           },
           "bgcolor": "#E5ECF6",
           "radialaxis": {
            "gridcolor": "white",
            "linecolor": "white",
            "ticks": ""
           }
          },
          "scene": {
           "xaxis": {
            "backgroundcolor": "#E5ECF6",
            "gridcolor": "white",
            "gridwidth": 2,
            "linecolor": "white",
            "showbackground": true,
            "ticks": "",
            "zerolinecolor": "white"
           },
           "yaxis": {
            "backgroundcolor": "#E5ECF6",
            "gridcolor": "white",
            "gridwidth": 2,
            "linecolor": "white",
            "showbackground": true,
            "ticks": "",
            "zerolinecolor": "white"
           },
           "zaxis": {
            "backgroundcolor": "#E5ECF6",
            "gridcolor": "white",
            "gridwidth": 2,
            "linecolor": "white",
            "showbackground": true,
            "ticks": "",
            "zerolinecolor": "white"
           }
          },
          "shapedefaults": {
           "line": {
            "color": "#2a3f5f"
           }
          },
          "ternary": {
           "aaxis": {
            "gridcolor": "white",
            "linecolor": "white",
            "ticks": ""
           },
           "baxis": {
            "gridcolor": "white",
            "linecolor": "white",
            "ticks": ""
           },
           "bgcolor": "#E5ECF6",
           "caxis": {
            "gridcolor": "white",
            "linecolor": "white",
            "ticks": ""
           }
          },
          "title": {
           "x": 0.05
          },
          "xaxis": {
           "automargin": true,
           "gridcolor": "white",
           "linecolor": "white",
           "ticks": "",
           "title": {
            "standoff": 15
           },
           "zerolinecolor": "white",
           "zerolinewidth": 2
          },
          "yaxis": {
           "automargin": true,
           "gridcolor": "white",
           "linecolor": "white",
           "ticks": "",
           "title": {
            "standoff": 15
           },
           "zerolinecolor": "white",
           "zerolinewidth": 2
          }
         }
        },
        "xaxis": {
         "title": {
          "text": "Input Activity"
         }
        },
        "yaxis": {
         "title": {
          "text": "Layer Activity"
         }
        }
       }
      }
     },
     "metadata": {},
     "output_type": "display_data"
    }
   ],
   "source": [
    "# plot activity for each density vs layer activity\n",
    "fig = go.Figure()\n",
    "for i, layer in enumerate(dag.processing_order[1:], 1):\n",
    "    fig.add_trace(go.Scatter(x=activity_results[0], y=activity_results[i], mode='markers', name=\"Layer: \" + str(i)))\n",
    "\n",
    "fig.update_xaxes(title=\"Input Activity\")\n",
    "fig.update_yaxes(title=\"Layer Activity\")\n",
    "fig.show()"
   ]
  }
 ],
 "metadata": {
  "kernelspec": {
   "display_name": "Python 3",
   "language": "python",
   "name": "python3"
  },
  "language_info": {
   "codemirror_mode": {
    "name": "ipython",
    "version": 3
   },
   "file_extension": ".py",
   "mimetype": "text/x-python",
   "name": "python",
   "nbconvert_exporter": "python",
   "pygments_lexer": "ipython3",
   "version": "3.11.9"
  }
 },
 "nbformat": 4,
 "nbformat_minor": 2
}
